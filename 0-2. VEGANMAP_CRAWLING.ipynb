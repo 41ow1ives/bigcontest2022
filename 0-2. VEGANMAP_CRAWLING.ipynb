{
 "cells": [
  {
   "cell_type": "markdown",
   "metadata": {},
   "source": [
    "# 제주비건지도 크롤링"
   ]
  },
  {
   "cell_type": "code",
   "execution_count": 2,
   "metadata": {
    "pycharm": {
     "name": "#%%\n"
    }
   },
   "outputs": [],
   "source": [
    "from bs4 import BeautifulSoup\n",
    "\n",
    "from selenium import webdriver\n",
    "\n",
    "import re\n",
    "\n",
    "import warnings\n",
    "warnings.filterwarnings(action='ignore')"
   ]
  },
  {
   "cell_type": "code",
   "execution_count": 3,
   "metadata": {
    "pycharm": {
     "name": "#%%\n"
    }
   },
   "outputs": [],
   "source": [
    "import pandas as pd"
   ]
  },
  {
   "cell_type": "code",
   "execution_count": 4,
   "metadata": {
    "pycharm": {
     "name": "#%%\n"
    }
   },
   "outputs": [],
   "source": [
    "base_url = \"http://www.jejuvegan.com/vegan_map\""
   ]
  },
  {
   "cell_type": "code",
   "execution_count": 5,
   "metadata": {
    "pycharm": {
     "name": "#%%\n"
    }
   },
   "outputs": [],
   "source": [
    "driver = webdriver.Chrome(executable_path = 'D:\\Python_417\\chromedriver')\n",
    "driver.get(url=base_url)"
   ]
  },
  {
   "cell_type": "code",
   "execution_count": 6,
   "metadata": {
    "pycharm": {
     "name": "#%%\n"
    }
   },
   "outputs": [],
   "source": [
    "html = driver.page_source\n",
    "soup = BeautifulSoup(html, 'html.parser')\n",
    "driver.quit()"
   ]
  },
  {
   "cell_type": "code",
   "execution_count": 69,
   "metadata": {
    "pycharm": {
     "name": "#%%\n"
    }
   },
   "outputs": [],
   "source": [
    "raw = soup.select('div.col-md-9.wz_title')"
   ]
  },
  {
   "cell_type": "code",
   "execution_count": 377,
   "metadata": {
    "pycharm": {
     "name": "#%%\n"
    }
   },
   "outputs": [
    {
     "data": {
      "text/html": [
       "<div>\n",
       "<style scoped>\n",
       "    .dataframe tbody tr th:only-of-type {\n",
       "        vertical-align: middle;\n",
       "    }\n",
       "\n",
       "    .dataframe tbody tr th {\n",
       "        vertical-align: top;\n",
       "    }\n",
       "\n",
       "    .dataframe thead th {\n",
       "        text-align: right;\n",
       "    }\n",
       "</style>\n",
       "<table border=\"1\" class=\"dataframe\">\n",
       "  <thead>\n",
       "    <tr style=\"text-align: right;\">\n",
       "      <th></th>\n",
       "      <th>title</th>\n",
       "      <th>option</th>\n",
       "      <th>phone</th>\n",
       "      <th>menu</th>\n",
       "      <th>work</th>\n",
       "      <th>off</th>\n",
       "      <th>address</th>\n",
       "      <th>sns</th>\n",
       "      <th>etc</th>\n",
       "    </tr>\n",
       "  </thead>\n",
       "  <tbody>\n",
       "  </tbody>\n",
       "</table>\n",
       "</div>"
      ],
      "text/plain": [
       "Empty DataFrame\n",
       "Columns: [title, option, phone, menu, work, off, address, sns, etc]\n",
       "Index: []"
      ]
     },
     "execution_count": 377,
     "metadata": {},
     "output_type": "execute_result"
    }
   ],
   "source": [
    "final_df = pd.DataFrame(columns=['title', 'option', 'phone', 'menu', 'work', 'off', 'address'])\n",
    "final_df['sns'], final_df['etc'] = 'empty', 'empty'\n",
    "final_df"
   ]
  },
  {
   "cell_type": "code",
   "execution_count": 378,
   "metadata": {
    "pycharm": {
     "name": "#%%\n"
    }
   },
   "outputs": [],
   "source": [
    "def option_function (option):\n",
    "    option = option[1:-2]\n",
    "    if option == '/img/vegan_icon_s.png':\n",
    "        option = '비건 식당'\n",
    "    elif option == '/img/vegan_option_icon_s.png':\n",
    "        option = '비건 옵션'\n",
    "    elif option == '/img/dessert_s_icon.png':\n",
    "        option = '비건 디저트'\n",
    "    else:\n",
    "        option = '베이커리'\n",
    "    return option"
   ]
  },
  {
   "cell_type": "code",
   "execution_count": 379,
   "metadata": {
    "pycharm": {
     "name": "#%%\n"
    }
   },
   "outputs": [],
   "source": [
    "gettext_function = lambda x : x.get_text().strip()"
   ]
  },
  {
   "cell_type": "code",
   "execution_count": 382,
   "metadata": {
    "pycharm": {
     "name": "#%%\n"
    }
   },
   "outputs": [],
   "source": [
    "def info_function(content):\n",
    "    basic_idx = [2,7,10,13]\n",
    "    phone, sns, etc = 'empty', 'empty', 'empty'\n",
    "    if len(content)<=16:\n",
    "        if '연락처: ' == content[1].get_text():\n",
    "            phone, menu, work, off = [gettext_function(content[x]) for x in basic_idx]\n",
    "            address = gettext_function(content[15])\n",
    "        else:\n",
    "            menu, work, off, address = [gettext_function(content[x]) for x in [2,5,7,10]]\n",
    "    elif len(content)<=21:\n",
    "        phone, menu, work, off = [gettext_function(content[x]) for x in basic_idx]\n",
    "        address = gettext_function(content[15])\n",
    "        sns = content[18]['href']\n",
    "    else: # len(content) >=21:\n",
    "        phone, menu, work, off = [gettext_function(content[x]) for x in basic_idx]\n",
    "        address, etc =  [gettext_function(content[x]) for x in [15, 18]]\n",
    "        sns = content[20]['href']\n",
    "    return phone, menu, work, off, address, sns, etc"
   ]
  },
  {
   "cell_type": "code",
   "execution_count": 383,
   "metadata": {
    "pycharm": {
     "name": "#%%\n"
    }
   },
   "outputs": [],
   "source": [
    " def vegan_crawling(line):\n",
    "    # 식당 이름\n",
    "    title = line.select('div > h3 > a')[0].get_text()\n",
    "    # 식당 옵션 (비건 식당, 비건 옵션, 비건 디저트, 비건 베이커리)\n",
    "    option = str(line.select('div > img')[0])\n",
    "    option = re.search('\".*\" ', option).group()\n",
    "    option = option_function(option)\n",
    "    content = line.p.contents\n",
    "    try:\n",
    "        phone, menu, work, off, address, sns, etc = info_function(content)\n",
    "    except:\n",
    "        phone, menu, work, off, address, sns, etc = ['error'] * 7\n",
    "    return {'title' : title, 'option' : option, 'phone' : phone,\n",
    "            'menu' : menu, 'work' : work, 'off' : off, 'address' : address,\n",
    "            'etc' : etc, 'sns' : sns}"
   ]
  },
  {
   "cell_type": "code",
   "execution_count": 384,
   "metadata": {
    "pycharm": {
     "name": "#%%\n"
    }
   },
   "outputs": [
    {
     "name": "stdout",
     "output_type": "stream",
     "text": [
      "0\n",
      "1\n",
      "2\n",
      "3\n",
      "4\n",
      "5\n",
      "6\n",
      "7\n",
      "8\n",
      "9\n",
      "10\n",
      "11\n",
      "12\n",
      "13\n",
      "14\n",
      "15\n",
      "16\n",
      "17\n",
      "18\n",
      "19\n",
      "20\n",
      "21\n",
      "22\n",
      "23\n",
      "24\n",
      "25\n",
      "26\n",
      "27\n",
      "28\n",
      "29\n",
      "30\n",
      "31\n",
      "32\n",
      "33\n",
      "34\n",
      "35\n",
      "36\n",
      "37\n",
      "38\n",
      "39\n",
      "40\n",
      "41\n",
      "42\n",
      "43\n",
      "44\n",
      "45\n",
      "46\n",
      "47\n",
      "48\n",
      "49\n",
      "50\n",
      "51\n",
      "52\n",
      "53\n",
      "54\n",
      "55\n",
      "56\n",
      "57\n",
      "58\n",
      "59\n",
      "60\n",
      "61\n",
      "62\n",
      "63\n",
      "64\n",
      "65\n",
      "66\n",
      "67\n",
      "68\n",
      "69\n",
      "70\n",
      "71\n",
      "72\n",
      "73\n",
      "74\n",
      "75\n",
      "76\n",
      "77\n",
      "78\n",
      "79\n",
      "80\n",
      "81\n",
      "82\n",
      "83\n",
      "84\n",
      "85\n",
      "86\n",
      "87\n",
      "88\n",
      "89\n",
      "90\n",
      "91\n",
      "92\n",
      "93\n",
      "94\n",
      "95\n",
      "96\n",
      "97\n"
     ]
    }
   ],
   "source": [
    "for idx, line in enumerate(raw):\n",
    "    print(idx)\n",
    "    final_df = final_df.append(vegan_crawling(line), ignore_index=True)"
   ]
  },
  {
   "cell_type": "code",
   "execution_count": 385,
   "metadata": {
    "pycharm": {
     "name": "#%%\n"
    }
   },
   "outputs": [
    {
     "data": {
      "text/plain": [
       "empty             9\n",
       "error             3\n",
       "010-2700-0999     1\n",
       "0507-1445-3444    1\n",
       "0507-1409-1407    1\n",
       "                 ..\n",
       "010-5419-8789     1\n",
       "064-773-1377      1\n",
       "0507-1392-3444    1\n",
       "064-796-9871      1\n",
       "0507-1385-4711    1\n",
       "Name: phone, Length: 88, dtype: int64"
      ]
     },
     "execution_count": 385,
     "metadata": {},
     "output_type": "execute_result"
    }
   ],
   "source": [
    "final_df['phone'].value_counts() # error 3개 정도는 손으로 바꿔줌"
   ]
  },
  {
   "cell_type": "code",
   "execution_count": 386,
   "metadata": {
    "pycharm": {
     "name": "#%%\n"
    }
   },
   "outputs": [],
   "source": [
    "final_df.to_csv('././bigcon_data/제주비건식당크롤링.csv', encoding='utf-8-sig', index=False)"
   ]
  }
 ],
 "metadata": {
  "hide_input": false,
  "kernelspec": {
   "display_name": "Python 3",
   "language": "python",
   "name": "python3"
  },
  "language_info": {
   "codemirror_mode": {
    "name": "ipython",
    "version": 3
   },
   "file_extension": ".py",
   "mimetype": "text/x-python",
   "name": "python",
   "nbconvert_exporter": "python",
   "pygments_lexer": "ipython3",
   "version": "3.9.4"
  }
 },
 "nbformat": 4,
 "nbformat_minor": 1
}
