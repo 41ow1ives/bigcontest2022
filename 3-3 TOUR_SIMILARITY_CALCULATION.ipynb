{
 "cells": [
  {
   "cell_type": "markdown",
   "metadata": {},
   "source": [
    "# 관광지 벡터 생성\n",
    "\n",
    "\n",
    "1. 관광지 태그 데이터 전처리\n",
    "- 비짓제주 태그 데이터, 네이버맵 테마키워드와 리뷰 정보에서 키워드 추출\n",
    "- 리뷰 데이터 내 명사와 형용사만 추출\n",
    "- 관광지 별 키워드를 합쳐 문서 생성\n",
    "2. 관광지 별 TF-IDF 벡터 생성\n",
    "- 관광지 문서에서 TF-IDF 벡터 생성 및 차원축소\n"
   ]
  },
  {
   "cell_type": "code",
   "execution_count": 23,
   "metadata": {
    "pycharm": {
     "name": "#%%\n"
    },
    "scrolled": true
   },
   "outputs": [],
   "source": [
    "import pandas as pd\n",
    "from collections import Counter\n",
    "import ast\n",
    "from konlpy.tag import Okt\n",
    "from sklearn.feature_extraction.text import TfidfVectorizer\n",
    "from sklearn.decomposition import TruncatedSVD\n",
    "import ast\n",
    "from konlpy.tag import Okt\n",
    "from numpy import dot\n",
    "from numpy.linalg import norm\n",
    "import re"
   ]
  },
  {
   "cell_type": "code",
   "execution_count": 11,
   "metadata": {
    "pycharm": {
     "name": "#%%\n"
    }
   },
   "outputs": [],
   "source": [
    "data = pd.read_csv('data/관광지_구역배정.csv', encoding='utf-8-sig')\n",
    "\n",
    "data = data.dropna(subset=['tags']).reset_index(drop=True)\n",
    "data_org = data.copy()"
   ]
  },
  {
   "cell_type": "code",
   "execution_count": 12,
   "metadata": {
    "pycharm": {
     "name": "#%%\n"
    }
   },
   "outputs": [],
   "source": [
    "def cos_sim(A, B):\n",
    "  return dot(A, B)/(norm(A)*norm(B))"
   ]
  },
  {
   "cell_type": "markdown",
   "metadata": {
    "heading_collapsed": true,
    "pycharm": {
     "name": "#%% md\n"
    }
   },
   "source": [
    "## 1. 관광지 태그 데이터 전처리\n"
   ]
  },
  {
   "cell_type": "code",
   "execution_count": 13,
   "metadata": {
    "hidden": true,
    "pycharm": {
     "name": "#%%\n"
    }
   },
   "outputs": [],
   "source": [
    "tags_list = [tag for tags in data['tags'] for tag in tags.split(' ')]\n",
    "\n",
    "tags_dict = Counter(tags_list)\n",
    "tags_dict = dict(sorted(tags_dict.items(), key=lambda item: item[1], reverse=True))"
   ]
  },
  {
   "cell_type": "code",
   "execution_count": 14,
   "metadata": {
    "hidden": true,
    "pycharm": {
     "name": "#%%\n"
    }
   },
   "outputs": [
    {
     "data": {
      "text/plain": [
       "{'#어트랙션': 709,\n",
       " '#자연경관': 595,\n",
       " '#맑음': 405,\n",
       " '#체험': 350,\n",
       " '#어린이': 334,\n",
       " '#커플': 315,\n",
       " '#친구': 288,\n",
       " '#아이': 267,\n",
       " '#포토스팟': 247,\n",
       " '#레저/체험': 229,\n",
       " '#실내관광지': 221,\n",
       " '#문화관광': 216,\n",
       " '#역사유적': 201,\n",
       " '#도보': 200,\n",
       " '#도보여행': 199,\n",
       " '#여름': 161,\n",
       " '#경관/포토': 158,\n",
       " '#혼자': 151,\n",
       " '#해변': 151,\n",
       " '#휴식/힐링': 145,\n",
       " '#가을': 145,\n",
       " '#사계절': 137,\n",
       " '#액티비티': 137,\n",
       " '#흐림': 132,\n",
       " '#부모': 131,\n",
       " '#봄': 130,\n",
       " '#문화유적지': 118,\n",
       " '#상점/상가': 114,\n",
       " '#걷기/등산': 107,\n",
       " '#관광기념품': 107,\n",
       " '#겨울': 104,\n",
       " '#오름': 103,\n",
       " '#테마공원': 96,\n",
       " '#실내': 95,\n",
       " '#비.눈': 92,\n",
       " '#언택트': 90,\n",
       " '#쇼핑': 89,\n",
       " '#수상레저': 88,\n",
       " '#체험관광': 83,\n",
       " '#물놀이': 69,\n",
       " '#미술/박물관': 58,\n",
       " '#안전여행스탬프': 48,\n",
       " '#올레': 48,\n",
       " '#우수관광사업체': 46,\n",
       " '#박물관': 39,\n",
       " '#마을관광': 36,\n",
       " '#일몰': 36,\n",
       " '#봄꽃': 34,\n",
       " '#숲': 33,\n",
       " '#기념품': 32,\n",
       " '#휴식/치유': 31,\n",
       " '#청년': 31,\n",
       " '#포구': 30,\n",
       " '#마을산책': 29,\n",
       " '#일출': 28,\n",
       " '#드라이브': 26,\n",
       " '#밤': 24,\n",
       " '#한라산': 24,\n",
       " '': 24,\n",
       " '#중/장년': 24,\n",
       " '#유네스코': 23,\n",
       " '#캠핑': 23,\n",
       " '#해수욕장': 23,\n",
       " '#수국': 22,\n",
       " '#단풍': 22,\n",
       " '#유채꽃': 22,\n",
       " '#제주4.3': 20,\n",
       " '#동백': 19,\n",
       " '#예술': 19,\n",
       " '#숲길': 19,\n",
       " '#미술관': 19,\n",
       " '#승마': 18,\n",
       " '#곶자왈': 17,\n",
       " '#계곡': 17,\n",
       " '#전시와행사': 16,\n",
       " '#캠핑장': 16,\n",
       " '#골프': 16,\n",
       " '#벚꽃': 14,\n",
       " '#노년': 14,\n",
       " '#웰니스': 14,\n",
       " '#특산품': 14,\n",
       " '#전통시장': 14,\n",
       " '#4.3': 13,\n",
       " '#매화': 12,\n",
       " '#섬속의섬': 12,\n",
       " '#야영장': 12,\n",
       " '#억새': 12,\n",
       " '#제주명품42': 11,\n",
       " '#동굴': 10,\n",
       " '#카페': 10,\n",
       " '#원데이클래스': 10,\n",
       " '#걷기': 10,\n",
       " '#오일장': 10,\n",
       " '#폭포': 9,\n",
       " '#어린이동물농장': 9,\n",
       " '#산': 9,\n",
       " '#치유': 9,\n",
       " '#서점': 9,\n",
       " '#힐링': 8,\n",
       " '#녹차': 8,\n",
       " '#바릇잡이': 8,\n",
       " '#waterleisure': 7,\n",
       " '#감귤': 7,\n",
       " '#전시': 6,\n",
       " '#낚시': 6,\n",
       " '#등대': 6,\n",
       " '#요가': 6,\n",
       " '#제주7대건축물': 6,\n",
       " '#공방': 6,\n",
       " '#제주7대도로': 5,\n",
       " '#애월': 5,\n",
       " '#k-drama': 5,\n",
       " '#휴식': 5,\n",
       " '#해양스포츠': 5,\n",
       " '#남자': 5,\n",
       " '#수목원': 4,\n",
       " '#가족': 4,\n",
       " '#테마파크': 4,\n",
       " '#문화': 4,\n",
       " '#템플스테이': 4,\n",
       " '#휴양림': 4,\n",
       " '#스쿠버다이빙': 4,\n",
       " '#해바라기': 4,\n",
       " '#지질트레일': 4,\n",
       " '#자연': 4,\n",
       " '#엽서': 4,\n",
       " '#소품샵': 4,\n",
       " '#사적지': 4,\n",
       " '#문화재': 4,\n",
       " '#여자': 4,\n",
       " '#비/바람/눈': 4,\n",
       " '#안개/흐림': 4,\n",
       " '#리조트': 4,\n",
       " '#자전거': 4,\n",
       " '#소품': 4,\n",
       " '#레이싱': 3,\n",
       " '#사찰': 3,\n",
       " '#절': 3,\n",
       " '#서핑': 3,\n",
       " '#스파': 3,\n",
       " '#우정스냅': 3,\n",
       " '#등산': 3,\n",
       " '#메디컬요가': 3,\n",
       " '#핸드메이드': 3,\n",
       " '#제주신화월드': 3,\n",
       " '#공연': 3,\n",
       " '#숙소': 3,\n",
       " '#6차산업': 3,\n",
       " '#책방': 3,\n",
       " '#한라봉': 3,\n",
       " '#천혜향': 3,\n",
       " '#미술': 2,\n",
       " '#체험전시': 2,\n",
       " '#ATV': 2,\n",
       " '#차귀도유람선': 2,\n",
       " '#섬여행': 2,\n",
       " '#동물': 2,\n",
       " '#실내놀이터': 2,\n",
       " '#감귤상웨빵': 2,\n",
       " '#제주전통': 2,\n",
       " '빵': 2,\n",
       " '#갤러리': 2,\n",
       " '#트레킹': 2,\n",
       " '#지질공원': 2,\n",
       " '#올레5코스': 2,\n",
       " '#체험여행': 2,\n",
       " '#소이캔들': 2,\n",
       " '#디퓨저': 2,\n",
       " '#향수': 2,\n",
       " '#티라이트': 2,\n",
       " '#스포츠': 2,\n",
       " '#역사': 2,\n",
       " '#마그넷': 2,\n",
       " '#키위': 2,\n",
       " '#음식': 2,\n",
       " '#디저트': 2,\n",
       " '#플라잉요가': 2,\n",
       " '#빈야사요가': 2,\n",
       " '#하타요가': 2,\n",
       " '#테랍툴요가': 2,\n",
       " '#추자도': 2,\n",
       " '#코스모스': 2,\n",
       " '#우유': 2,\n",
       " '#가죽공방': 2,\n",
       " '#커플스냅': 2,\n",
       " '#2022고메페스타': 2,\n",
       " '#마린스포츠': 2,\n",
       " '#생태': 2,\n",
       " '#카트': 2,\n",
       " '#프랑스자수': 2,\n",
       " '#캘리그라피': 2,\n",
       " '#용천수': 2,\n",
       " '#토기': 2,\n",
       " '#전시/행사': 2,\n",
       " '#제주동백수목원': 2,\n",
       " '#제주신화': 2,\n",
       " '#신화탐방로': 2,\n",
       " '#신나락만나락': 2,\n",
       " '#뮤지컬': 2,\n",
       " '#연극': 2,\n",
       " '#해상레저': 2,\n",
       " '#차': 2,\n",
       " '#현무암': 2,\n",
       " '#사게절': 2,\n",
       " '#도자기': 2,\n",
       " '#지오브랜드': 2,\n",
       " '#책': 2,\n",
       " '#빈티지': 2,\n",
       " '#협재해수욕장': 2,\n",
       " '#황금향': 2,\n",
       " '#권총': 1,\n",
       " '#클레이': 1,\n",
       " '#라이플사격': 1,\n",
       " '#차귀도': 1,\n",
       " '#유람선': 1,\n",
       " '#둘레길': 1,\n",
       " '#서바이벌': 1,\n",
       " '#아름다운섬나라': 1,\n",
       " '#화장품': 1,\n",
       " '#해양레저': 1,\n",
       " '#중문': 1,\n",
       " '#도서관': 1,\n",
       " '#원도심도시재생사업': 1,\n",
       " '#제주풍경': 1,\n",
       " '#화방': 1,\n",
       " '#문화공간': 1,\n",
       " '#전시관': 1,\n",
       " '#두멩이골목': 1,\n",
       " '#가족여행': 1,\n",
       " '#꽃': 1,\n",
       " '#마라도': 1,\n",
       " '#밀랍인형': 1,\n",
       " '#곽지': 1,\n",
       " '#곽지해수욕장': 1,\n",
       " '#수산리': 1,\n",
       " '#서핑스쿨': 1,\n",
       " '#필링': 1,\n",
       " '#절벽': 1,\n",
       " '#백년초': 1,\n",
       " '#필라테스': 1,\n",
       " '#유적지': 1,\n",
       " '#목장': 1,\n",
       " '#건축물': 1,\n",
       " '#북카페': 1,\n",
       " '#수목원테마파크': 1,\n",
       " '#해안도로': 1,\n",
       " '#만남': 1,\n",
       " '#즐김': 1,\n",
       " '#싱계물공원': 1,\n",
       " '#선상낚시': 1,\n",
       " '#낚시체험': 1,\n",
       " '#선상리조트': 1,\n",
       " '#다이빙': 1,\n",
       " '#겯기/등산': 1,\n",
       " '#의귀리': 1,\n",
       " '#승마장': 1,\n",
       " '#염색체험': 1,\n",
       " '#항구': 1,\n",
       " '#고산리': 1,\n",
       " '#신석기시대': 1,\n",
       " '#유적': 1,\n",
       " '#구제주': 1,\n",
       " '#체험프로그램': 1,\n",
       " '#공연장': 1,\n",
       " '#제주시': 1,\n",
       " '#대극장': 1,\n",
       " '#동물원': 1,\n",
       " '#예래': 1,\n",
       " '#서귀포': 1,\n",
       " '#요트': 1,\n",
       " '#교회': 1,\n",
       " '#걷기/휴식': 1,\n",
       " '#명상': 1,\n",
       " '#수제캔디': 1,\n",
       " '#통일': 1,\n",
       " '#한라산소주': 1,\n",
       " '#메밀': 1,\n",
       " '#감귤따기': 1,\n",
       " '#비': 1,\n",
       " '#환상숲': 1,\n",
       " '#저지리': 1,\n",
       " '#족욕': 1,\n",
       " '#건축문화기행': 1,\n",
       " '#고양이': 1,\n",
       " '#고양이소품': 1,\n",
       " '#고양이용품': 1,\n",
       " '#슈퍼마켓': 1,\n",
       " '#나들가게': 1,\n",
       " '#라탄': 1,\n",
       " '#친환경': 1,\n",
       " '#플리마켓': 1,\n",
       " '#갈치': 1,\n",
       " '#오메기떡': 1,\n",
       " '#불량식품': 1,\n",
       " '#과자': 1,\n",
       " '#복합쇼핑몰': 1,\n",
       " '#의류': 1,\n",
       " '#연필': 1,\n",
       " '#귤': 1,\n",
       " '#제주기념품': 1,\n",
       " '#제주특산품': 1,\n",
       " '#제주쇼핑': 1,\n",
       " '#잡화': 1,\n",
       " '#5일장': 1,\n",
       " '#한복': 1,\n",
       " '#비누': 1,\n",
       " '#캔들': 1,\n",
       " '#제주비누': 1,\n",
       " '#저온숙성비누': 1,\n",
       " '#힐링비누': 1,\n",
       " '#월정리소품가게': 1,\n",
       " '#애월소품가게': 1,\n",
       " '#레드향': 1}"
      ]
     },
     "execution_count": 14,
     "metadata": {},
     "output_type": "execute_result"
    }
   ],
   "source": [
    "tags_dict"
   ]
  },
  {
   "cell_type": "markdown",
   "metadata": {
    "hidden": true,
    "pycharm": {
     "name": "#%% md\n"
    }
   },
   "source": [
    "- 비슷한 분류라서 편입\n",
    "    - #경관/포토 = ['#포토', '#포토스팟', '자연경관', '경관/포토']\n",
    "    - #실내 = ['#실내관광지', '#실내', '#실내놀이터']\n",
    "    - #4.3 = ['#제주4.3', '#4.3']\n",
    "    - #비/바람/눈 = ['#비/바람/눈', '#비.눈', '#비']\n",
    "    - #안개/흐림 = ['#흐림', '#안개/흐림']\n",
    "    - #절 = ['#사찰', '#절']\n",
    "    - #요가 = ['#요가', '#메디컬요가', '#플라잉요가', '#빈야사요가', '#하타요가', '#테랍툴요가', '#패들요가']\n",
    "    - #낚시 = ['#선상낚시', '#낚시체험']\n",
    "    - #체험 = ['#체험관광', '#체험프로그램', '#체험여행', '#자연염색', '#천연염색', '체험전시']\n",
    "    - #레저/체험 = ['#레저/체험', '#레저', '#체험']\n",
    "    - #수상레저 = [#waterleisure', '#수상레저', '#해상레저']\n",
    "    - #휴식/힐링/치유 = ['#휴식', '#휴식/치유', '#휴식/힐링', '#치유', '#힐링']\n",
    "    - #서핑 = ['#서핑', '#서핑스쿨']\n",
    "    - #등산 = ['#등산', '#산']\n",
    "    - #걷기/등산 - ['#마을산책', '#도보', '#도보여행', '#걷기', '등산', '산', '걷기/등산', '겯기/등산',  '걷기/휴식']\n",
    "    - #포토스팟 = ['#우정스냅', '#커플스냅', '#포토스팟', '#사진']\n",
    "    - #숲 = ['#숲', '#환상숲', '#숲길', '#휴양림']\n",
    "    - #공연 = ['#공연장', '#대극장', '#연극', '#공연', '#뮤지컬']\n",
    "    - #전시/행사 = ['전시와행사', '전시/행사', #전시관', '#전시', '체험전시']\n",
    "    - #미술/박물관 = ['#미술', '#미술관', '#박물관', '#미술/박물관']\n",
    "    - #유적지 = ['#유적지', '#문화유적지', '#역사유적지', '#역사', '#역사유적']\n",
    "    - #어린이 = ['#아이', '#어린이', '#어린이동물농장']\n",
    "    - #문화관광 = ['#문화관광', '#문화']\n",
    "    - #사계절 = ['#사계절', '#사게절']\n",
    "    - #해수욕장 = ['#해수욕장', '#곽지해수욕장']\n",
    "- 의미 없어서 삭제\n",
    "    - \"''\", '#구제주', '#제주시', '#고산리', '#의귀리', '#서귀포', '#수산리', '빵'"
   ]
  },
  {
   "cell_type": "markdown",
   "metadata": {
    "hidden": true,
    "pycharm": {
     "name": "#%% md\n"
    }
   },
   "source": [
    "### 1-(2) 네이버 테마키워드 및 리뷰 데이터 정제"
   ]
  },
  {
   "cell_type": "code",
   "execution_count": 25,
   "metadata": {
    "hidden": true,
    "pycharm": {
     "name": "#%%\n"
    }
   },
   "outputs": [],
   "source": [
    "data = data[data['visitor_review_list']!='no_result'].reset_index(drop=True)"
   ]
  },
  {
   "cell_type": "code",
   "execution_count": 26,
   "metadata": {
    "hidden": true,
    "pycharm": {
     "name": "#%%\n"
    }
   },
   "outputs": [],
   "source": [
    "data['visitor_review_list'] = data['visitor_review_list'].fillna(int(0))\n",
    "data['visitor_review'] = [ ast.literal_eval(dictionary) if type(dictionary)!=int else dictionary for dictionary in data['visitor_review_list']]\n",
    "data['visitor_review'] = [list(dictionary.keys()) if type(dictionary)!=int else dictionary for dictionary in data['visitor_review']]"
   ]
  },
  {
   "cell_type": "markdown",
   "metadata": {
    "hidden": true,
    "pycharm": {
     "name": "#%% md\n"
    }
   },
   "source": [
    "네이버 리뷰 데이터에서 명사와 형용사만 추출"
   ]
  },
  {
   "cell_type": "code",
   "execution_count": 27,
   "metadata": {
    "hidden": true,
    "pycharm": {
     "name": "#%%\n"
    }
   },
   "outputs": [],
   "source": [
    "review_all = [ review for review_list in data['visitor_review'] if type(review_list)!= int for review in review_list]\n",
    "review_all = list(set(review_all))"
   ]
  },
  {
   "cell_type": "code",
   "execution_count": 24,
   "metadata": {
    "hidden": true,
    "pycharm": {
     "name": "#%%\n"
    }
   },
   "outputs": [
    {
     "ename": "NameError",
     "evalue": "name 'jpype' is not defined",
     "output_type": "error",
     "traceback": [
      "\u001b[1;31m---------------------------------------------------------------------------\u001b[0m",
      "\u001b[1;31mNameError\u001b[0m                                 Traceback (most recent call last)",
      "\u001b[1;32m<ipython-input-24-c0d3ba96c7cf>\u001b[0m in \u001b[0;36m<module>\u001b[1;34m\u001b[0m\n\u001b[1;32m----> 1\u001b[1;33m \u001b[0mokt\u001b[0m \u001b[1;33m=\u001b[0m \u001b[0mOkt\u001b[0m\u001b[1;33m(\u001b[0m\u001b[1;33m)\u001b[0m\u001b[1;33m\u001b[0m\u001b[1;33m\u001b[0m\u001b[0m\n\u001b[0m\u001b[0;32m      2\u001b[0m \u001b[0mreview_dict\u001b[0m \u001b[1;33m=\u001b[0m \u001b[1;33m{\u001b[0m\u001b[0mkey\u001b[0m\u001b[1;33m:\u001b[0m\u001b[1;33m[\u001b[0m\u001b[1;33m]\u001b[0m \u001b[1;32mfor\u001b[0m \u001b[0mkey\u001b[0m \u001b[1;32min\u001b[0m \u001b[0mreview_all\u001b[0m\u001b[1;33m}\u001b[0m\u001b[1;33m\u001b[0m\u001b[1;33m\u001b[0m\u001b[0m\n\u001b[0;32m      3\u001b[0m \u001b[1;32mfor\u001b[0m \u001b[0mreview\u001b[0m \u001b[1;32min\u001b[0m \u001b[0mreview_all\u001b[0m\u001b[1;33m:\u001b[0m\u001b[1;33m\u001b[0m\u001b[1;33m\u001b[0m\u001b[0m\n\u001b[0;32m      4\u001b[0m     \u001b[0mtmp\u001b[0m \u001b[1;33m=\u001b[0m \u001b[0mokt\u001b[0m\u001b[1;33m.\u001b[0m\u001b[0mpos\u001b[0m\u001b[1;33m(\u001b[0m\u001b[0mreview\u001b[0m\u001b[1;33m)\u001b[0m\u001b[1;33m\u001b[0m\u001b[1;33m\u001b[0m\u001b[0m\n\u001b[0;32m      5\u001b[0m     \u001b[1;32mfor\u001b[0m \u001b[0mpos\u001b[0m \u001b[1;32min\u001b[0m \u001b[0mtmp\u001b[0m\u001b[1;33m:\u001b[0m\u001b[1;33m\u001b[0m\u001b[1;33m\u001b[0m\u001b[0m\n",
      "\u001b[1;32m~\\anaconda3\\lib\\site-packages\\konlpy\\tag\\_okt.py\u001b[0m in \u001b[0;36m__init__\u001b[1;34m(self, jvmpath, max_heap_size)\u001b[0m\n\u001b[0;32m     89\u001b[0m     \u001b[1;32mdef\u001b[0m \u001b[0m__init__\u001b[0m\u001b[1;33m(\u001b[0m\u001b[0mself\u001b[0m\u001b[1;33m,\u001b[0m \u001b[0mjvmpath\u001b[0m\u001b[1;33m=\u001b[0m\u001b[1;32mNone\u001b[0m\u001b[1;33m,\u001b[0m \u001b[0mmax_heap_size\u001b[0m\u001b[1;33m=\u001b[0m\u001b[1;36m1024\u001b[0m\u001b[1;33m)\u001b[0m\u001b[1;33m:\u001b[0m\u001b[1;33m\u001b[0m\u001b[1;33m\u001b[0m\u001b[0m\n\u001b[0;32m     90\u001b[0m         \u001b[1;32mif\u001b[0m \u001b[1;32mnot\u001b[0m \u001b[0mjpype\u001b[0m\u001b[1;33m.\u001b[0m\u001b[0misJVMStarted\u001b[0m\u001b[1;33m(\u001b[0m\u001b[1;33m)\u001b[0m\u001b[1;33m:\u001b[0m\u001b[1;33m\u001b[0m\u001b[1;33m\u001b[0m\u001b[0m\n\u001b[1;32m---> 91\u001b[1;33m             \u001b[0mjvm\u001b[0m\u001b[1;33m.\u001b[0m\u001b[0minit_jvm\u001b[0m\u001b[1;33m(\u001b[0m\u001b[0mjvmpath\u001b[0m\u001b[1;33m,\u001b[0m \u001b[0mmax_heap_size\u001b[0m\u001b[1;33m)\u001b[0m\u001b[1;33m\u001b[0m\u001b[1;33m\u001b[0m\u001b[0m\n\u001b[0m\u001b[0;32m     92\u001b[0m \u001b[1;33m\u001b[0m\u001b[0m\n\u001b[0;32m     93\u001b[0m         \u001b[0moktJavaPackage\u001b[0m \u001b[1;33m=\u001b[0m \u001b[0mjpype\u001b[0m\u001b[1;33m.\u001b[0m\u001b[0mJPackage\u001b[0m\u001b[1;33m(\u001b[0m\u001b[1;34m'kr.lucypark.okt'\u001b[0m\u001b[1;33m)\u001b[0m\u001b[1;33m\u001b[0m\u001b[1;33m\u001b[0m\u001b[0m\n",
      "\u001b[1;32m~\\anaconda3\\lib\\site-packages\\konlpy\\jvm.py\u001b[0m in \u001b[0;36minit_jvm\u001b[1;34m(jvmpath, max_heap_size)\u001b[0m\n\u001b[0;32m     21\u001b[0m     \"\"\"\n\u001b[0;32m     22\u001b[0m \u001b[1;33m\u001b[0m\u001b[0m\n\u001b[1;32m---> 23\u001b[1;33m     \u001b[1;32mif\u001b[0m \u001b[0mjpype\u001b[0m\u001b[1;33m.\u001b[0m\u001b[0misJVMStarted\u001b[0m\u001b[1;33m(\u001b[0m\u001b[1;33m)\u001b[0m\u001b[1;33m:\u001b[0m\u001b[1;33m\u001b[0m\u001b[1;33m\u001b[0m\u001b[0m\n\u001b[0m\u001b[0;32m     24\u001b[0m         \u001b[0mlogging\u001b[0m\u001b[1;33m.\u001b[0m\u001b[0mwarning\u001b[0m\u001b[1;33m(\u001b[0m\u001b[1;34m'JVM is already running. Do not init twice!'\u001b[0m\u001b[1;33m)\u001b[0m\u001b[1;33m\u001b[0m\u001b[1;33m\u001b[0m\u001b[0m\n\u001b[0;32m     25\u001b[0m         \u001b[1;32mreturn\u001b[0m\u001b[1;33m\u001b[0m\u001b[1;33m\u001b[0m\u001b[0m\n",
      "\u001b[1;31mNameError\u001b[0m: name 'jpype' is not defined"
     ]
    }
   ],
   "source": [
    "okt = Okt()\n",
    "review_dict = {key:[] for key in review_all}\n",
    "for review in review_all:\n",
    "    tmp = okt.pos(review)\n",
    "    for pos in tmp:\n",
    "        if (pos[1] == 'Noun') | (pos[1] == 'Adjective'):\n",
    "            review_dict[review].append(pos[0])"
   ]
  },
  {
   "cell_type": "code",
   "execution_count": 28,
   "metadata": {
    "hidden": true,
    "pycharm": {
     "name": "#%%\n"
    }
   },
   "outputs": [
    {
     "ename": "NameError",
     "evalue": "name 'review_dict' is not defined",
     "output_type": "error",
     "traceback": [
      "\u001b[1;31m---------------------------------------------------------------------------\u001b[0m",
      "\u001b[1;31mNameError\u001b[0m                                 Traceback (most recent call last)",
      "\u001b[1;32m<ipython-input-28-782e4790e668>\u001b[0m in \u001b[0;36m<module>\u001b[1;34m\u001b[0m\n\u001b[0;32m      3\u001b[0m         \u001b[0mtmp_list\u001b[0m \u001b[1;33m=\u001b[0m \u001b[1;33m[\u001b[0m\u001b[1;33m]\u001b[0m\u001b[1;33m\u001b[0m\u001b[1;33m\u001b[0m\u001b[0m\n\u001b[0;32m      4\u001b[0m         \u001b[1;32mfor\u001b[0m \u001b[0msentence\u001b[0m \u001b[1;32min\u001b[0m \u001b[0mrow\u001b[0m\u001b[1;33m:\u001b[0m\u001b[1;33m\u001b[0m\u001b[1;33m\u001b[0m\u001b[0m\n\u001b[1;32m----> 5\u001b[1;33m             \u001b[0mtmp_list\u001b[0m\u001b[1;33m.\u001b[0m\u001b[0mextend\u001b[0m\u001b[1;33m(\u001b[0m\u001b[0mreview_dict\u001b[0m\u001b[1;33m[\u001b[0m\u001b[0msentence\u001b[0m\u001b[1;33m]\u001b[0m\u001b[1;33m)\u001b[0m\u001b[1;33m\u001b[0m\u001b[1;33m\u001b[0m\u001b[0m\n\u001b[0m\u001b[0;32m      6\u001b[0m         \u001b[0mdata\u001b[0m\u001b[1;33m.\u001b[0m\u001b[0mat\u001b[0m\u001b[1;33m[\u001b[0m\u001b[0midx\u001b[0m\u001b[1;33m,\u001b[0m \u001b[1;34m'visitor_review'\u001b[0m\u001b[1;33m]\u001b[0m \u001b[1;33m=\u001b[0m \u001b[1;34m' '\u001b[0m\u001b[1;33m.\u001b[0m\u001b[0mjoin\u001b[0m\u001b[1;33m(\u001b[0m\u001b[0mtmp_list\u001b[0m\u001b[1;33m)\u001b[0m\u001b[1;33m\u001b[0m\u001b[1;33m\u001b[0m\u001b[0m\n",
      "\u001b[1;31mNameError\u001b[0m: name 'review_dict' is not defined"
     ]
    }
   ],
   "source": [
    "for idx, row in enumerate(data['visitor_review']):\n",
    "    if type(row) != int:\n",
    "        tmp_list = []\n",
    "        for sentence in row:\n",
    "            tmp_list.extend(review_dict[sentence])\n",
    "        data.at[idx, 'visitor_review'] = ' '.join(tmp_list)"
   ]
  },
  {
   "cell_type": "markdown",
   "metadata": {
    "hidden": true
   },
   "source": [
    "### 1-(3) 관광지의 리뷰 데이터와 테마키워드 합쳐서 문서로 생성"
   ]
  },
  {
   "cell_type": "code",
   "execution_count": 48,
   "metadata": {
    "hidden": true,
    "pycharm": {
     "name": "#%%\n"
    }
   },
   "outputs": [],
   "source": [
    "data['tag_all'] = [ str(mood) + ' ' + str(topic) + ' ' + str(why) + ' ' + str(visitor) for mood, topic, why, visitor in zip(data['dl_mood_list'], data['dl_topic_list'], data['dl_why_list'], data['visitor_review'])]\n",
    "data['tag_all'] = data['tag_all'].apply(lambda x : x.replace(',', '').replace('0','').strip())"
   ]
  },
  {
   "cell_type": "code",
   "execution_count": 49,
   "metadata": {
    "hidden": true,
    "pycharm": {
     "name": "#%%\n"
    }
   },
   "outputs": [],
   "source": [
    "craw_tag_all = []\n",
    "craw_tag_all = [ word for tag in data['tag_all']  for word in tag.split(' ') if word not in craw_tag_all]"
   ]
  },
  {
   "cell_type": "markdown",
   "metadata": {
    "hidden": true,
    "pycharm": {
     "name": "#%% md\n"
    }
   },
   "source": [
    "### 1-(4) 태그 정제"
   ]
  },
  {
   "cell_type": "code",
   "execution_count": 53,
   "metadata": {
    "hidden": true,
    "pycharm": {
     "name": "#%%\n"
    }
   },
   "outputs": [],
   "source": [
    "data['tags'] = [ tags.replace('#','') for tags in data['tags'] ]\n",
    "data['tag_all'] = data['tag_all'] + ' ' + data['tags']"
   ]
  },
  {
   "cell_type": "code",
   "execution_count": 54,
   "metadata": {
    "hidden": true,
    "pycharm": {
     "name": "#%%\n"
    }
   },
   "outputs": [],
   "source": [
    "# key가 value에 들어 있으면 안돼\n",
    "change_dict = {'자연경관' : ['뷰', '경치', '경관', '경관/포토'],\n",
    "               '포토스팟' : ['포토', '우정스냅', '커플스냅', '경관/포토'],\n",
    "               '실내' : ['실내관광지', '실내놀이터'],\n",
    "               '4.3' : ['제주4.3', ],\n",
    "               '비/바람/눈' : ['비', '비.눈', '비올때', '비오는날'], '안개/흐림' : ['흐림'],\n",
    "               '레저/체험' : ['레저', '체험', '카트체험'], '전시/행사' : ['체험전시', '전시', '행사', '전시와행사', '전시관'],\n",
    "               '걷기/등산' : ['산책로', '산책', '산책길', '걷기', '등산', '겯기/등산', '걷기/휴식', '도보', '도보여행', '마을산책', '등산', '산'],\n",
    "               '꽃' : ['수국', '유채꽃', '철쭉', '봄꽃'],\n",
    "               '봄' : ['봄여행', '봄꽃'], '다양한' : ['다양해요'],\n",
    "               '절' : ['사찰'] , '요가' : ['메디컬요가', '플라잉요가', '빈야사요가', '하타요가', '테랍툴요가', '패들요가'],\n",
    "               '낚시' : ['선상낚시', '낚시체험'], '일출명소' : ['일출'], '일몰명소' : ['일몰'],\n",
    "               '체험' : ['체험관광', '체험프로그램', '체험여행', '자연염색', '천연염색'], '수상레저' : ['waterleisure', '해상레저'],\n",
    "               '휴식/힐링/치유' : ['휴식', '휴식/힐링', '휴식/치유', '치유', '힐링'],\n",
    "               '서핑' : ['서핑스쿨'],\n",
    "               '숲' : ['환상숲', '숲길', '휴양림', '편백나무숲'],\n",
    "               '공연' : ['극장', '공연장', '대극장', '연극', '뮤지컬'], '미술관/박물관' : ['미술/박물관', '미술관', '박물관', '미술'],\n",
    "               '유적지' : ['문화유적지', '역사유적지', '역사', '역사유적', '유적', '유물'],\n",
    "               '어린이' : ['아이', '어린이동물농장'], '재미있는' : ['재밌어요'],\n",
    "               '문화관광' : ['문화'], '사계절' : ['사게절'], '해수욕장' : ['곽지해수욕장'],\n",
    "               '빵' : ['감귤상웨빵', '거시기빵'],\n",
    "               '신선한' : ['신선해요']}"
   ]
  },
  {
   "cell_type": "code",
   "execution_count": 55,
   "metadata": {
    "hidden": true,
    "pycharm": {
     "name": "#%%\n"
    }
   },
   "outputs": [],
   "source": [
    "del_list = ['구제주', '제주시', '고산리', '의귀리', '서귀포', '수산리', '안개/흐림', '비/바람/눈', '맑음', '커플', '친구', '어린이', '부모', '청년', '중/장년',\n",
    "            '혼자', '휴식/힐링/치유', '걷기/등산', '자연경관', '어트랙션', '레저/체험', '문화관광', '해변']\n",
    "data['tags_list'] = data['tag_all'].apply(lambda x: tag_cleaning(x, change_dict, del_list))"
   ]
  },
  {
   "cell_type": "markdown",
   "metadata": {},
   "source": [
    "##  2. 관광지 TF-IDF 벡터 생성\n"
   ]
  },
  {
   "cell_type": "code",
   "execution_count": 56,
   "metadata": {
    "pycharm": {
     "name": "#%%\n"
    }
   },
   "outputs": [
    {
     "data": {
      "text/plain": [
       "'편해요 박람회 가격 겨울 한라봉 구성 주차 합리 승마체험 미술관/박물관 재미있는 화려한 다양한 이국적 실내 폭포 유익해요 식물원 알차요 유적지 가족여행 전시/행사 프로그램 조그마한'"
      ]
     },
     "execution_count": 56,
     "metadata": {},
     "output_type": "execute_result"
    }
   ],
   "source": [
    "## TF-IDF로 관광지 벡터를 만들어보자!\n",
    "#### TF-IDF에 태그 빼주기\n",
    "del_list = ['안개/흐림', '비/바람/눈', '맑음', '커플', '친구', '어린이', '부모', '청년', '중/장년', '혼자', '휴식/힐링/치유', '걷기/등산', '자연경관', '어트랙션',\n",
    "            '레저/체험', '문화관광', '해변']\n",
    "for idx, row in enumerate(data['tags_list']):\n",
    "    row_list = []\n",
    "    for word in row:\n",
    "        if word not in del_list:\n",
    "            row_list.append(word)\n",
    "    data.at[idx, 'tag_all_vj_no_no'] = ' '.join(row_list)"
   ]
  },
  {
   "cell_type": "code",
   "execution_count": null,
   "metadata": {
    "pycharm": {
     "name": "#%%\n"
    }
   },
   "outputs": [],
   "source": [
    "# 필요 없는 태그 정제"
   ]
  },
  {
   "cell_type": "code",
   "execution_count": null,
   "metadata": {
    "pycharm": {
     "name": "#%%\n"
    }
   },
   "outputs": [],
   "source": [
    "cluster_tags = data.groupby('cluster')['tags_list'].apply(lambda x: x.sum()).to_frame().reset_index()\n",
    "final_list = []\n",
    "for row in cluster_tags['tags_list']:\n",
    "    row_list = []\n",
    "    for word in row:\n",
    "        if word not in del_list:\n",
    "            row_list.append(word)\n",
    "    final_list.append(row_list)\n",
    "cluster_tags['tag_all_vj_no_no'] = final_list\n",
    "cluster_tags['tag_all_vj_no_no'] = cluster_tags['tag_all_vj_no_no'].apply(' '.join)"
   ]
  },
  {
   "cell_type": "code",
   "execution_count": null,
   "metadata": {
    "pycharm": {
     "name": "#%%\n"
    }
   },
   "outputs": [],
   "source": [
    "# TF IDF  벡터 만들기"
   ]
  },
  {
   "cell_type": "code",
   "execution_count": null,
   "metadata": {
    "pycharm": {
     "name": "#%%\n"
    }
   },
   "outputs": [],
   "source": [
    "tfidf_plc = TfidfVectorizer()\n",
    "place_plc = tfidf_plc.fit_transform(data['tag_all_vj_no_no'])\n",
    "cluster_plc = tfidf_plc.transform(cluster_tags['tag_all_vj_no_no'])"
   ]
  },
  {
   "cell_type": "code",
   "execution_count": null,
   "metadata": {
    "pycharm": {
     "name": "#%%\n"
    }
   },
   "outputs": [],
   "source": [
    "# place 기준으로 PCA\n",
    "svd_place = TruncatedSVD(n_components=220)\n",
    "svd_place_plc = svd_place.fit_transform(place_plc) # fit tranform\n",
    "svd_cluster_plc = svd_place.transform(cluster_plc) # transform\n",
    "var_explained_plc = svd_place.explained_variance_ratio_.sum()\n",
    "var_explained_plc  # dimension 220이면 .93"
   ]
  },
  {
   "cell_type": "code",
   "execution_count": null,
   "metadata": {
    "pycharm": {
     "name": "#%%\n"
    }
   },
   "outputs": [],
   "source": [
    "# 행렬 만듦 (place vector - plc로 pca / cluter vector - plc로 pca)\n",
    "svd_place_plc_df = pd.DataFrame(svd_place_plc, columns = [i for i in range(svd_place.n_components)])\n",
    "svd_cluster_plc_df = pd.DataFrame(svd_cluster_plc, columns = [i for i in range(svd_place.n_components)])"
   ]
  },
  {
   "cell_type": "code",
   "execution_count": null,
   "metadata": {
    "pycharm": {
     "name": "#%%\n"
    }
   },
   "outputs": [],
   "source": [
    "svd_place_plc_df['similarity'] = 0\n",
    "svd_place_plc_df['similarity'] = [ cos_sim(svd_cluster_plc_df.iloc[cls], svd_place_plc_df.iloc[idx][0:220]) if cls<2 else cos_sim(svd_cluster_plc_df.iloc[cls-1], svd_place_plc_df.iloc[idx][0:220])  for idx, cls in enumerate(svd_place_plc_df['cluster']) ] # 유사도 계산"
   ]
  },
  {
   "cell_type": "code",
   "execution_count": 57,
   "metadata": {
    "pycharm": {
     "name": "#%%\n"
    }
   },
   "outputs": [
    {
     "ename": "NameError",
     "evalue": "name 'svd_place_plc_df' is not defined",
     "output_type": "error",
     "traceback": [
      "\u001b[1;31m---------------------------------------------------------------------------\u001b[0m",
      "\u001b[1;31mNameError\u001b[0m                                 Traceback (most recent call last)",
      "Input \u001b[1;32mIn [57]\u001b[0m, in \u001b[0;36m<cell line: 1>\u001b[1;34m()\u001b[0m\n\u001b[1;32m----> 1\u001b[0m \u001b[43msvd_place_plc_df\u001b[49m[\u001b[38;5;124m'\u001b[39m\u001b[38;5;124mblog_review_num_list\u001b[39m\u001b[38;5;124m'\u001b[39m] \u001b[38;5;241m=\u001b[39m data[\u001b[38;5;124m'\u001b[39m\u001b[38;5;124mblog_review_num_list\u001b[39m\u001b[38;5;124m'\u001b[39m]\n",
      "\u001b[1;31mNameError\u001b[0m: name 'svd_place_plc_df' is not defined"
     ]
    }
   ],
   "source": [
    "svd_place_plc_df['blog_review_num_list'] = data['blog_review_num_list'] # 필요한 column정리\n",
    "svd_place_plc_df[['co2_max', 'lon', 'lat']] = data[['co2_max', 'GPS_LNGTD', 'GPS_LTTD']]\n",
    "svd_place_plc_df = svd_place_plc_df[['cluster', 'name_PRE', 'similarity', 'co2_max', 'lon', 'lat', 'blog_review_num_list']]"
   ]
  },
  {
   "cell_type": "code",
   "execution_count": null,
   "metadata": {
    "pycharm": {
     "name": "#%%\n"
    }
   },
   "outputs": [],
   "source": [
    "svd_place_plc_df.to_csv('data/관광지_유사도.csv', encoding='utf-8-sig', index=False)"
   ]
  },
  {
   "cell_type": "markdown",
   "metadata": {},
   "source": [
    "## 3. 관광지 추천점수 산정\n",
    "\n",
    "관광지 추천점수 5점 척도\n",
    "- eco_rate : 바람지도/푸른컵 등 친환경 사업 여부 1 or 0\n",
    "- co2_rate : 건물에 대한 탄소 배출량 스케일\n",
    "- review_rate : 네이버 블로그 수 스케일\n",
    "- cluster_rate : 구역의 특성과 일치하는 정도\n",
    "- dist_rate : 선별된 F&B와의 거리\n"
   ]
  },
  {
   "cell_type": "code",
   "execution_count": 30,
   "metadata": {},
   "outputs": [
    {
     "ename": "NameError",
     "evalue": "name 'svd_place_plc_df' is not defined",
     "output_type": "error",
     "traceback": [
      "\u001b[1;31m---------------------------------------------------------------------------\u001b[0m",
      "\u001b[1;31mNameError\u001b[0m                                 Traceback (most recent call last)",
      "\u001b[1;32m<ipython-input-30-5a08c7b30cc6>\u001b[0m in \u001b[0;36m<module>\u001b[1;34m\u001b[0m\n\u001b[0;32m      1\u001b[0m \u001b[0mcategory\u001b[0m \u001b[1;33m=\u001b[0m \u001b[0mdata\u001b[0m\u001b[1;33m\u001b[0m\u001b[1;33m\u001b[0m\u001b[0m\n\u001b[1;32m----> 2\u001b[1;33m \u001b[0mdata\u001b[0m \u001b[1;33m=\u001b[0m \u001b[0msvd_place_plc_df\u001b[0m\u001b[1;33m\u001b[0m\u001b[1;33m\u001b[0m\u001b[0m\n\u001b[0m",
      "\u001b[1;31mNameError\u001b[0m: name 'svd_place_plc_df' is not defined"
     ]
    }
   ],
   "source": [
    "category = data\n",
    "data = svd_place_plc_df"
   ]
  },
  {
   "cell_type": "code",
   "execution_count": null,
   "metadata": {},
   "outputs": [],
   "source": [
    "category = category[['name_PRE','CL_NM','CAT_PRE','PREICE_MAX']]\n",
    "category.columns = ['name_PRE','CL_NM','CAT_PRE','price']\n",
    "category.price[category.price.isna()] = 0\n",
    "\n",
    "data = pd.merge(left=data, right=category, how=\"left\", on = \"name_PRE\")\n",
    "data = data[['cluster', 'CL_NM', 'CAT_PRE','name_PRE', 'lon', 'lat','price','blog_review_num_list','co2_max', 'similarity']]\n",
    "data['type'] = \"관광지\"\n",
    "data"
   ]
  },
  {
   "cell_type": "markdown",
   "metadata": {},
   "source": [
    "#### 1. 친환경 사업 여부\n"
   ]
  },
  {
   "cell_type": "code",
   "execution_count": 31,
   "metadata": {},
   "outputs": [],
   "source": [
    "baram = pd.read_csv('data/제주바람지도.csv', encoding='utf-8-sig')\n",
    "bluecup = pd.read_csv('data/제주푸른컵지도.csv', encoding='utf-8-sig')"
   ]
  },
  {
   "cell_type": "code",
   "execution_count": 32,
   "metadata": {},
   "outputs": [],
   "source": [
    "# 이름 전처리용\n",
    "def name_preprocessing(name):\n",
    "    name = name.replace(' (', '(').replace(') ', ')').strip()\n",
    "    name = name.replace('(주)','').replace(\"·\",\".\").lower()\n",
    "    name = re.sub('[\\(\\)㈜!@#$%^&*{}|:;\\'\\\"/><,~`+=_ ]','', name)\n",
    "    name = re.sub('[\\[.\\]]','',name)\n",
    "    return name.strip()\n",
    "\n",
    "#주소 전처리용\n",
    "def addr_preprocessing(addr):\n",
    "    addr = re.sub('제주 서귀포시','제주특별자치도 서귀포시',addr)\n",
    "    addr = re.sub('제주 제주시','제주특별자치도 제주시',addr)\n",
    "\n",
    "    while (addr.split()[-1][-1].isdigit() == False) : #상세주소 제거\n",
    "        if len(addr.split()) <= 3 : break\n",
    "            \n",
    "        addr = \" \".join(addr.split()[0:-1]) #하나빼기\n",
    "\n",
    "    addr = \"\".join(addr.split()) #공백다 없애기\n",
    "    return addr.strip() #앞뒤정리"
   ]
  },
  {
   "cell_type": "code",
   "execution_count": 33,
   "metadata": {},
   "outputs": [],
   "source": [
    "baram.columns = ['area_name', 'tel', 'instagram', 'detail', 'category']"
   ]
  },
  {
   "cell_type": "code",
   "execution_count": 34,
   "metadata": {},
   "outputs": [
    {
     "ename": "NameError",
     "evalue": "name 're' is not defined",
     "output_type": "error",
     "traceback": [
      "\u001b[1;31m---------------------------------------------------------------------------\u001b[0m",
      "\u001b[1;31mNameError\u001b[0m                                 Traceback (most recent call last)",
      "\u001b[1;32m<ipython-input-34-dd4262b0b09f>\u001b[0m in \u001b[0;36m<module>\u001b[1;34m\u001b[0m\n\u001b[0;32m      2\u001b[0m \u001b[1;33m\u001b[0m\u001b[0m\n\u001b[0;32m      3\u001b[0m \u001b[1;31m#이름이 일치하는 경우\u001b[0m\u001b[1;33m\u001b[0m\u001b[1;33m\u001b[0m\u001b[1;33m\u001b[0m\u001b[0m\n\u001b[1;32m----> 4\u001b[1;33m \u001b[0mname_list\u001b[0m \u001b[1;33m=\u001b[0m \u001b[0mlist\u001b[0m\u001b[1;33m(\u001b[0m\u001b[0mmap\u001b[0m\u001b[1;33m(\u001b[0m\u001b[1;32mlambda\u001b[0m \u001b[0mx\u001b[0m \u001b[1;33m:\u001b[0m \u001b[0mname_preprocessing\u001b[0m\u001b[1;33m(\u001b[0m\u001b[0mx\u001b[0m\u001b[1;33m)\u001b[0m\u001b[1;33m,\u001b[0m \u001b[0mbaram\u001b[0m\u001b[1;33m[\u001b[0m\u001b[1;34m'area_name'\u001b[0m\u001b[1;33m]\u001b[0m\u001b[1;33m)\u001b[0m\u001b[1;33m)\u001b[0m\u001b[1;33m\u001b[0m\u001b[1;33m\u001b[0m\u001b[0m\n\u001b[0m\u001b[0;32m      5\u001b[0m \u001b[0mset\u001b[0m\u001b[1;33m(\u001b[0m\u001b[0meco_list\u001b[0m\u001b[1;33m)\u001b[0m\u001b[1;33m.\u001b[0m\u001b[0munion\u001b[0m\u001b[1;33m(\u001b[0m\u001b[0mset\u001b[0m\u001b[1;33m(\u001b[0m\u001b[0mdata\u001b[0m\u001b[1;33m[\u001b[0m\u001b[0mdata\u001b[0m\u001b[1;33m[\u001b[0m\u001b[1;34m'name_PRE'\u001b[0m\u001b[1;33m]\u001b[0m\u001b[1;33m.\u001b[0m\u001b[0misin\u001b[0m\u001b[1;33m(\u001b[0m\u001b[0mname_list\u001b[0m\u001b[1;33m)\u001b[0m\u001b[1;33m]\u001b[0m\u001b[1;33m.\u001b[0m\u001b[0mindex\u001b[0m\u001b[1;33m)\u001b[0m\u001b[1;33m)\u001b[0m\u001b[1;33m\u001b[0m\u001b[1;33m\u001b[0m\u001b[0m\n\u001b[0;32m      6\u001b[0m \u001b[1;33m\u001b[0m\u001b[0m\n",
      "\u001b[1;32m<ipython-input-34-dd4262b0b09f>\u001b[0m in \u001b[0;36m<lambda>\u001b[1;34m(x)\u001b[0m\n\u001b[0;32m      2\u001b[0m \u001b[1;33m\u001b[0m\u001b[0m\n\u001b[0;32m      3\u001b[0m \u001b[1;31m#이름이 일치하는 경우\u001b[0m\u001b[1;33m\u001b[0m\u001b[1;33m\u001b[0m\u001b[1;33m\u001b[0m\u001b[0m\n\u001b[1;32m----> 4\u001b[1;33m \u001b[0mname_list\u001b[0m \u001b[1;33m=\u001b[0m \u001b[0mlist\u001b[0m\u001b[1;33m(\u001b[0m\u001b[0mmap\u001b[0m\u001b[1;33m(\u001b[0m\u001b[1;32mlambda\u001b[0m \u001b[0mx\u001b[0m \u001b[1;33m:\u001b[0m \u001b[0mname_preprocessing\u001b[0m\u001b[1;33m(\u001b[0m\u001b[0mx\u001b[0m\u001b[1;33m)\u001b[0m\u001b[1;33m,\u001b[0m \u001b[0mbaram\u001b[0m\u001b[1;33m[\u001b[0m\u001b[1;34m'area_name'\u001b[0m\u001b[1;33m]\u001b[0m\u001b[1;33m)\u001b[0m\u001b[1;33m)\u001b[0m\u001b[1;33m\u001b[0m\u001b[1;33m\u001b[0m\u001b[0m\n\u001b[0m\u001b[0;32m      5\u001b[0m \u001b[0mset\u001b[0m\u001b[1;33m(\u001b[0m\u001b[0meco_list\u001b[0m\u001b[1;33m)\u001b[0m\u001b[1;33m.\u001b[0m\u001b[0munion\u001b[0m\u001b[1;33m(\u001b[0m\u001b[0mset\u001b[0m\u001b[1;33m(\u001b[0m\u001b[0mdata\u001b[0m\u001b[1;33m[\u001b[0m\u001b[0mdata\u001b[0m\u001b[1;33m[\u001b[0m\u001b[1;34m'name_PRE'\u001b[0m\u001b[1;33m]\u001b[0m\u001b[1;33m.\u001b[0m\u001b[0misin\u001b[0m\u001b[1;33m(\u001b[0m\u001b[0mname_list\u001b[0m\u001b[1;33m)\u001b[0m\u001b[1;33m]\u001b[0m\u001b[1;33m.\u001b[0m\u001b[0mindex\u001b[0m\u001b[1;33m)\u001b[0m\u001b[1;33m)\u001b[0m\u001b[1;33m\u001b[0m\u001b[1;33m\u001b[0m\u001b[0m\n\u001b[0;32m      6\u001b[0m \u001b[1;33m\u001b[0m\u001b[0m\n",
      "\u001b[1;32m<ipython-input-32-a19cbc2daf4d>\u001b[0m in \u001b[0;36mname_preprocessing\u001b[1;34m(name)\u001b[0m\n\u001b[0;32m      3\u001b[0m     \u001b[0mname\u001b[0m \u001b[1;33m=\u001b[0m \u001b[0mname\u001b[0m\u001b[1;33m.\u001b[0m\u001b[0mreplace\u001b[0m\u001b[1;33m(\u001b[0m\u001b[1;34m' ('\u001b[0m\u001b[1;33m,\u001b[0m \u001b[1;34m'('\u001b[0m\u001b[1;33m)\u001b[0m\u001b[1;33m.\u001b[0m\u001b[0mreplace\u001b[0m\u001b[1;33m(\u001b[0m\u001b[1;34m') '\u001b[0m\u001b[1;33m,\u001b[0m \u001b[1;34m')'\u001b[0m\u001b[1;33m)\u001b[0m\u001b[1;33m.\u001b[0m\u001b[0mstrip\u001b[0m\u001b[1;33m(\u001b[0m\u001b[1;33m)\u001b[0m\u001b[1;33m\u001b[0m\u001b[1;33m\u001b[0m\u001b[0m\n\u001b[0;32m      4\u001b[0m     \u001b[0mname\u001b[0m \u001b[1;33m=\u001b[0m \u001b[0mname\u001b[0m\u001b[1;33m.\u001b[0m\u001b[0mreplace\u001b[0m\u001b[1;33m(\u001b[0m\u001b[1;34m'(주)'\u001b[0m\u001b[1;33m,\u001b[0m\u001b[1;34m''\u001b[0m\u001b[1;33m)\u001b[0m\u001b[1;33m.\u001b[0m\u001b[0mreplace\u001b[0m\u001b[1;33m(\u001b[0m\u001b[1;34m\"·\"\u001b[0m\u001b[1;33m,\u001b[0m\u001b[1;34m\".\"\u001b[0m\u001b[1;33m)\u001b[0m\u001b[1;33m.\u001b[0m\u001b[0mlower\u001b[0m\u001b[1;33m(\u001b[0m\u001b[1;33m)\u001b[0m\u001b[1;33m\u001b[0m\u001b[1;33m\u001b[0m\u001b[0m\n\u001b[1;32m----> 5\u001b[1;33m     \u001b[0mname\u001b[0m \u001b[1;33m=\u001b[0m \u001b[0mre\u001b[0m\u001b[1;33m.\u001b[0m\u001b[0msub\u001b[0m\u001b[1;33m(\u001b[0m\u001b[1;34m'[\\(\\)㈜!@#$%^&*{}|:;\\'\\\"/><,~`+=_ ]'\u001b[0m\u001b[1;33m,\u001b[0m\u001b[1;34m''\u001b[0m\u001b[1;33m,\u001b[0m \u001b[0mname\u001b[0m\u001b[1;33m)\u001b[0m\u001b[1;33m\u001b[0m\u001b[1;33m\u001b[0m\u001b[0m\n\u001b[0m\u001b[0;32m      6\u001b[0m     \u001b[0mname\u001b[0m \u001b[1;33m=\u001b[0m \u001b[0mre\u001b[0m\u001b[1;33m.\u001b[0m\u001b[0msub\u001b[0m\u001b[1;33m(\u001b[0m\u001b[1;34m'[\\[.\\]]'\u001b[0m\u001b[1;33m,\u001b[0m\u001b[1;34m''\u001b[0m\u001b[1;33m,\u001b[0m\u001b[0mname\u001b[0m\u001b[1;33m)\u001b[0m\u001b[1;33m\u001b[0m\u001b[1;33m\u001b[0m\u001b[0m\n\u001b[0;32m      7\u001b[0m     \u001b[1;32mreturn\u001b[0m \u001b[0mname\u001b[0m\u001b[1;33m.\u001b[0m\u001b[0mstrip\u001b[0m\u001b[1;33m(\u001b[0m\u001b[1;33m)\u001b[0m\u001b[1;33m\u001b[0m\u001b[1;33m\u001b[0m\u001b[0m\n",
      "\u001b[1;31mNameError\u001b[0m: name 're' is not defined"
     ]
    }
   ],
   "source": [
    "eco_list = []\n",
    "        \n",
    "#이름이 일치하는 경우\n",
    "name_list = list(map(lambda x : name_preprocessing(x), baram['area_name']))\n",
    "set(eco_list).union(set(data[data['name_PRE'].isin(name_list)].index))\n",
    "\n",
    "#포함되는 경우\n",
    "for i in range(0, len(name_list)) :\n",
    "    idx = data[data['name_PRE'].str.contains(name_list[i])].index\n",
    "    if len(idx) >0 :\n",
    "        eco_list.append(idx.values[0])\n",
    "\n",
    "for i in range(0, len(data)) :\n",
    "    if len(baram[baram['area_name'].str.contains(data.name_PRE[i])]) >0 : \n",
    "        eco_list.append(i)"
   ]
  },
  {
   "cell_type": "code",
   "execution_count": null,
   "metadata": {},
   "outputs": [],
   "source": [
    "#이름이 일치하는 경우\n",
    "name_list = list(map(lambda x : name_preprocessing(x), bluecup['이름']))\n",
    "set(eco_list).union(set(data[data['name_PRE'].isin(name_list)].index))\n",
    "\n",
    "# 초함되는 경우\n",
    "for i in range(0, len(name_list)) :\n",
    "    idx = data[data['name_PRE'].str.contains(name_list[i])].index\n",
    "    if len(idx) >0 :\n",
    "        eco_list.append(idx.values[0])\n",
    "\n",
    "for i in range(0, len(data)) :\n",
    "    if len(bluecup[bluecup['이름'].str.contains(data.name_PRE[i])]) >0 : \n",
    "        eco_list.append(i)"
   ]
  },
  {
   "cell_type": "code",
   "execution_count": null,
   "metadata": {},
   "outputs": [],
   "source": [
    "#중복제거 및 처리\n",
    "eco_list = set(eco_list)\n",
    "data.iloc[list(eco_list)]"
   ]
  },
  {
   "cell_type": "code",
   "execution_count": null,
   "metadata": {},
   "outputs": [],
   "source": [
    "data['eco_YN'] = 0\n",
    "data['eco_YN'].iloc[list(eco_list)] = 1"
   ]
  },
  {
   "cell_type": "markdown",
   "metadata": {},
   "source": [
    "#### 2. 건물에 대한 탄소배출량 스케일 점수"
   ]
  },
  {
   "cell_type": "code",
   "execution_count": null,
   "metadata": {},
   "outputs": [],
   "source": [
    "data['co2_rate'] = (1 - minmax_scale(data['co2_max'],copy=True)).tolist()"
   ]
  },
  {
   "cell_type": "code",
   "execution_count": 35,
   "metadata": {},
   "outputs": [
    {
     "ename": "KeyError",
     "evalue": "'co2_rate'",
     "output_type": "error",
     "traceback": [
      "\u001b[1;31m---------------------------------------------------------------------------\u001b[0m",
      "\u001b[1;31mKeyError\u001b[0m                                  Traceback (most recent call last)",
      "\u001b[1;32m~\\anaconda3\\lib\\site-packages\\pandas\\core\\indexes\\base.py\u001b[0m in \u001b[0;36mget_loc\u001b[1;34m(self, key, method, tolerance)\u001b[0m\n\u001b[0;32m   3079\u001b[0m             \u001b[1;32mtry\u001b[0m\u001b[1;33m:\u001b[0m\u001b[1;33m\u001b[0m\u001b[1;33m\u001b[0m\u001b[0m\n\u001b[1;32m-> 3080\u001b[1;33m                 \u001b[1;32mreturn\u001b[0m \u001b[0mself\u001b[0m\u001b[1;33m.\u001b[0m\u001b[0m_engine\u001b[0m\u001b[1;33m.\u001b[0m\u001b[0mget_loc\u001b[0m\u001b[1;33m(\u001b[0m\u001b[0mcasted_key\u001b[0m\u001b[1;33m)\u001b[0m\u001b[1;33m\u001b[0m\u001b[1;33m\u001b[0m\u001b[0m\n\u001b[0m\u001b[0;32m   3081\u001b[0m             \u001b[1;32mexcept\u001b[0m \u001b[0mKeyError\u001b[0m \u001b[1;32mas\u001b[0m \u001b[0merr\u001b[0m\u001b[1;33m:\u001b[0m\u001b[1;33m\u001b[0m\u001b[1;33m\u001b[0m\u001b[0m\n",
      "\u001b[1;32mpandas\\_libs\\index.pyx\u001b[0m in \u001b[0;36mpandas._libs.index.IndexEngine.get_loc\u001b[1;34m()\u001b[0m\n",
      "\u001b[1;32mpandas\\_libs\\index.pyx\u001b[0m in \u001b[0;36mpandas._libs.index.IndexEngine.get_loc\u001b[1;34m()\u001b[0m\n",
      "\u001b[1;32mpandas\\_libs\\hashtable_class_helper.pxi\u001b[0m in \u001b[0;36mpandas._libs.hashtable.PyObjectHashTable.get_item\u001b[1;34m()\u001b[0m\n",
      "\u001b[1;32mpandas\\_libs\\hashtable_class_helper.pxi\u001b[0m in \u001b[0;36mpandas._libs.hashtable.PyObjectHashTable.get_item\u001b[1;34m()\u001b[0m\n",
      "\u001b[1;31mKeyError\u001b[0m: 'co2_rate'",
      "\nThe above exception was the direct cause of the following exception:\n",
      "\u001b[1;31mKeyError\u001b[0m                                  Traceback (most recent call last)",
      "\u001b[1;32m<ipython-input-35-992f97cf8fa8>\u001b[0m in \u001b[0;36m<module>\u001b[1;34m\u001b[0m\n\u001b[1;32m----> 1\u001b[1;33m \u001b[0mdata\u001b[0m\u001b[1;33m[\u001b[0m\u001b[1;34m'co2_rate'\u001b[0m\u001b[1;33m]\u001b[0m\u001b[1;33m.\u001b[0m\u001b[0msort_values\u001b[0m\u001b[1;33m(\u001b[0m\u001b[1;33m)\u001b[0m\u001b[1;33m\u001b[0m\u001b[1;33m\u001b[0m\u001b[0m\n\u001b[0m",
      "\u001b[1;32m~\\anaconda3\\lib\\site-packages\\pandas\\core\\frame.py\u001b[0m in \u001b[0;36m__getitem__\u001b[1;34m(self, key)\u001b[0m\n\u001b[0;32m   3022\u001b[0m             \u001b[1;32mif\u001b[0m \u001b[0mself\u001b[0m\u001b[1;33m.\u001b[0m\u001b[0mcolumns\u001b[0m\u001b[1;33m.\u001b[0m\u001b[0mnlevels\u001b[0m \u001b[1;33m>\u001b[0m \u001b[1;36m1\u001b[0m\u001b[1;33m:\u001b[0m\u001b[1;33m\u001b[0m\u001b[1;33m\u001b[0m\u001b[0m\n\u001b[0;32m   3023\u001b[0m                 \u001b[1;32mreturn\u001b[0m \u001b[0mself\u001b[0m\u001b[1;33m.\u001b[0m\u001b[0m_getitem_multilevel\u001b[0m\u001b[1;33m(\u001b[0m\u001b[0mkey\u001b[0m\u001b[1;33m)\u001b[0m\u001b[1;33m\u001b[0m\u001b[1;33m\u001b[0m\u001b[0m\n\u001b[1;32m-> 3024\u001b[1;33m             \u001b[0mindexer\u001b[0m \u001b[1;33m=\u001b[0m \u001b[0mself\u001b[0m\u001b[1;33m.\u001b[0m\u001b[0mcolumns\u001b[0m\u001b[1;33m.\u001b[0m\u001b[0mget_loc\u001b[0m\u001b[1;33m(\u001b[0m\u001b[0mkey\u001b[0m\u001b[1;33m)\u001b[0m\u001b[1;33m\u001b[0m\u001b[1;33m\u001b[0m\u001b[0m\n\u001b[0m\u001b[0;32m   3025\u001b[0m             \u001b[1;32mif\u001b[0m \u001b[0mis_integer\u001b[0m\u001b[1;33m(\u001b[0m\u001b[0mindexer\u001b[0m\u001b[1;33m)\u001b[0m\u001b[1;33m:\u001b[0m\u001b[1;33m\u001b[0m\u001b[1;33m\u001b[0m\u001b[0m\n\u001b[0;32m   3026\u001b[0m                 \u001b[0mindexer\u001b[0m \u001b[1;33m=\u001b[0m \u001b[1;33m[\u001b[0m\u001b[0mindexer\u001b[0m\u001b[1;33m]\u001b[0m\u001b[1;33m\u001b[0m\u001b[1;33m\u001b[0m\u001b[0m\n",
      "\u001b[1;32m~\\anaconda3\\lib\\site-packages\\pandas\\core\\indexes\\base.py\u001b[0m in \u001b[0;36mget_loc\u001b[1;34m(self, key, method, tolerance)\u001b[0m\n\u001b[0;32m   3080\u001b[0m                 \u001b[1;32mreturn\u001b[0m \u001b[0mself\u001b[0m\u001b[1;33m.\u001b[0m\u001b[0m_engine\u001b[0m\u001b[1;33m.\u001b[0m\u001b[0mget_loc\u001b[0m\u001b[1;33m(\u001b[0m\u001b[0mcasted_key\u001b[0m\u001b[1;33m)\u001b[0m\u001b[1;33m\u001b[0m\u001b[1;33m\u001b[0m\u001b[0m\n\u001b[0;32m   3081\u001b[0m             \u001b[1;32mexcept\u001b[0m \u001b[0mKeyError\u001b[0m \u001b[1;32mas\u001b[0m \u001b[0merr\u001b[0m\u001b[1;33m:\u001b[0m\u001b[1;33m\u001b[0m\u001b[1;33m\u001b[0m\u001b[0m\n\u001b[1;32m-> 3082\u001b[1;33m                 \u001b[1;32mraise\u001b[0m \u001b[0mKeyError\u001b[0m\u001b[1;33m(\u001b[0m\u001b[0mkey\u001b[0m\u001b[1;33m)\u001b[0m \u001b[1;32mfrom\u001b[0m \u001b[0merr\u001b[0m\u001b[1;33m\u001b[0m\u001b[1;33m\u001b[0m\u001b[0m\n\u001b[0m\u001b[0;32m   3083\u001b[0m \u001b[1;33m\u001b[0m\u001b[0m\n\u001b[0;32m   3084\u001b[0m         \u001b[1;32mif\u001b[0m \u001b[0mtolerance\u001b[0m \u001b[1;32mis\u001b[0m \u001b[1;32mnot\u001b[0m \u001b[1;32mNone\u001b[0m\u001b[1;33m:\u001b[0m\u001b[1;33m\u001b[0m\u001b[1;33m\u001b[0m\u001b[0m\n",
      "\u001b[1;31mKeyError\u001b[0m: 'co2_rate'"
     ]
    }
   ],
   "source": [
    "data['co2_rate'].sort_values()"
   ]
  },
  {
   "cell_type": "code",
   "execution_count": null,
   "metadata": {},
   "outputs": [],
   "source": [
    "import seaborn as sns\n",
    "sns.distplot(data['co2_rate'])"
   ]
  },
  {
   "cell_type": "markdown",
   "metadata": {},
   "source": [
    "### (3) 네이버 블로그 수"
   ]
  },
  {
   "cell_type": "code",
   "execution_count": null,
   "metadata": {},
   "outputs": [],
   "source": [
    "data['review_rate'] = minmax_scale(data['blog_review_num_list'],copy=True).tolist()"
   ]
  },
  {
   "cell_type": "code",
   "execution_count": null,
   "metadata": {},
   "outputs": [],
   "source": [
    "data['review_rate'].sort_values()"
   ]
  },
  {
   "cell_type": "code",
   "execution_count": null,
   "metadata": {},
   "outputs": [],
   "source": [
    "sns.distplot(data['review_rate'])"
   ]
  },
  {
   "cell_type": "markdown",
   "metadata": {},
   "source": [
    "### (4) 선정된 F&B와의 접근성"
   ]
  },
  {
   "cell_type": "code",
   "execution_count": null,
   "metadata": {},
   "outputs": [],
   "source": [
    "#클러스터별로 나누기\n",
    "data0 = data[data.cluster==0].reset_index(drop=True)\n",
    "data1 = data[data.cluster==1].reset_index(drop=True)\n",
    "data3 = data[data.cluster==3].reset_index(drop=True)\n",
    "data4 = data[data.cluster==4].reset_index(drop=True)\n",
    "data5 = data[data.cluster==5].reset_index(drop=True)"
   ]
  },
  {
   "cell_type": "code",
   "execution_count": null,
   "metadata": {},
   "outputs": [],
   "source": [
    "# F&B선별 데이터\n",
    "fnb0 = pd.read_csv('cluster0최종FB.csv', encoding='utf-8-sig')\n",
    "fnb1 = pd.read_csv('cluster1최종FB.csv', encoding='utf-8-sig')\n",
    "fnb3 = pd.read_csv('cluster3최종FB.csv', encoding='utf-8-sig')\n",
    "fnb4 = pd.read_csv('cluster4최종FB.csv', encoding='utf-8-sig')\n",
    "fnb5 = pd.read_csv('cluster5최종FB.csv', encoding='utf-8-sig')"
   ]
  },
  {
   "cell_type": "code",
   "execution_count": null,
   "metadata": {},
   "outputs": [],
   "source": [
    "#계산할 관광지 후보\n",
    "def calcuate_dist(data,fnb):\n",
    "    calcul_df = data[['name_PRE','lat','lon']]\n",
    "    \n",
    "    for i in range(0,len(fnb)):\n",
    "        target = tuple(fnb[['lat','lon']].iloc[i])\n",
    "        dist_list = []\n",
    "    \n",
    "        for j in range(0,len(calcul_df)):\n",
    "            distance = haversine(target, tuple(calcul_df.iloc[j,1:3]), unit = 'km')\n",
    "            dist_list.append(distance)\n",
    "        calcul_df[f'{i}'] = dist_list\n",
    "    #거리 최소값 계산\n",
    "    calcul_df['dist_min'] = calcul_df.iloc[:,3:].min(axis=1)\n",
    "\n",
    "    # 4km 이하인 거리는 모두 같은것(4km)으로 간주\n",
    "    calcul_df['dist_min'][calcul_df['dist_min'] <= 4] = 4\n",
    "\n",
    "    # Normalization > 점수부여\n",
    "    data['dist_score'] = (1 - minmax_scale(calcul_df['dist_min'], copy=True)).tolist()\n",
    "\n",
    "    return(data)"
   ]
  },
  {
   "cell_type": "code",
   "execution_count": null,
   "metadata": {},
   "outputs": [],
   "source": [
    "data0 = calcuate_dist(data0,fnb0)\n",
    "data1 = calcuate_dist(data1,fnb1)\n",
    "data3 = calcuate_dist(data3,fnb3)\n",
    "data4 = calcuate_dist(data4,fnb4)\n",
    "data5 = calcuate_dist(data5,fnb5)"
   ]
  },
  {
   "cell_type": "markdown",
   "metadata": {},
   "source": [
    "#### (5) 구역 특징과의 유사도"
   ]
  },
  {
   "cell_type": "code",
   "execution_count": null,
   "metadata": {},
   "outputs": [],
   "source": [
    "data0['total_score'] = data0[[ 'eco_YN', 'review_rate', 'co2_rate','dist_score', 'similarity']].sum(axis=1)\n",
    "data0.sort_values(['total_score'],ascending = False )[:8]"
   ]
  },
  {
   "cell_type": "code",
   "execution_count": null,
   "metadata": {},
   "outputs": [],
   "source": [
    "data1['total_score'] = data1[[ 'eco_YN', 'review_rate', 'co2_rate','dist_score', 'similarity']].sum(axis=1)\n",
    "data1.sort_values(['total_score'],ascending = False )[:10]"
   ]
  },
  {
   "cell_type": "code",
   "execution_count": null,
   "metadata": {},
   "outputs": [],
   "source": [
    "data3['total_score'] = data3[[ 'eco_YN', 'review_rate', 'co2_rate','dist_score', 'similarity']].sum(axis=1)\n",
    "data3.sort_values(['total_score'],ascending = False )[:8]"
   ]
  },
  {
   "cell_type": "code",
   "execution_count": null,
   "metadata": {},
   "outputs": [],
   "source": [
    "data4['total_score'] = data4[[ 'eco_YN', 'review_rate', 'co2_rate','dist_score', 'similarity']].sum(axis=1)\n",
    "data4.sort_values(['total_score'],ascending = False )[:10]"
   ]
  },
  {
   "cell_type": "code",
   "execution_count": null,
   "metadata": {},
   "outputs": [],
   "source": [
    "data5['total_score'] = data5[[ 'eco_YN', 'review_rate', 'co2_rate','dist_score', 'similarity']].sum(axis=1)\n",
    "data5.sort_values(['total_score'],ascending = False )[:10]"
   ]
  },
  {
   "cell_type": "code",
   "execution_count": null,
   "metadata": {},
   "outputs": [],
   "source": [
    "all_visits = pd.concat([\n",
    "    data0.sort_values(['total_score'],ascending = False )[:8],\n",
    "    data1.sort_values(['total_score'],ascending = False )[:10],\n",
    "    data3.sort_values(['total_score'],ascending = False )[:8],\n",
    "    data4.sort_values(['total_score'],ascending = False )[:10],\n",
    "    data5.sort_values(['total_score'],ascending = False )[:8]\n",
    "])\n",
    "all_visits"
   ]
  },
  {
   "cell_type": "code",
   "execution_count": null,
   "metadata": {},
   "outputs": [],
   "source": [
    "all_visits.shape"
   ]
  },
  {
   "cell_type": "code",
   "execution_count": null,
   "metadata": {},
   "outputs": [],
   "source": [
    "fnb0['cluster'] = 0\n",
    "fnb1['cluster'] = 1\n",
    "fnb3['cluster'] = 3\n",
    "fnb4['cluster'] = 4\n",
    "fnb5['cluster'] = 5\n",
    "\n",
    "fnb0['type'] = \"F&B\"\n",
    "fnb1['type'] = \"F&B\"\n",
    "fnb3['type'] = \"F&B\"\n",
    "fnb4['type'] = \"F&B\"\n",
    "fnb5['type'] = \"F&B\""
   ]
  },
  {
   "cell_type": "code",
   "execution_count": null,
   "metadata": {},
   "outputs": [],
   "source": [
    "final.to_csv('관광지F&B선정완료_FINAL.csv', encoding='utf-8-sig', index=False) "
   ]
  },
  {
   "cell_type": "code",
   "execution_count": null,
   "metadata": {},
   "outputs": [],
   "source": []
  },
  {
   "cell_type": "code",
   "execution_count": null,
   "metadata": {},
   "outputs": [],
   "source": [
    "## 지도 시각화\n",
    "center = [33.3618, 126.5291] #한라산\n",
    "m = folium.Map(location=center, zoom_start=10, tiles='cartodbpositron')\n",
    "style = {'fillColor': '#F15F5F', 'color': '#F15F5F'}\n",
    "\n",
    "df = final\n",
    "\n",
    "for i in range(len(df)):\n",
    "    folium.Circle(\n",
    "        location=[df.iloc[i]['lat'], df.iloc[i]['lon']],\n",
    "        popup=df.iloc[i]['AREA_NM_PRE'],\n",
    "        radius=100,\n",
    "        fill=True, fill_color=color_with(df.iloc[i]['cluster']), opacity=0.5,\n",
    "        color=color_with(df.iloc[i]['cluster']),\n",
    "    ).add_to(m)\n",
    "    \n",
    "m"
   ]
  },
  {
   "cell_type": "code",
   "execution_count": null,
   "metadata": {},
   "outputs": [],
   "source": [
    "fig = px.scatter(final, \n",
    "                 x=\"lon\", \n",
    "                 y=\"lat\",\n",
    "                 color = 'cluster',\n",
    "                 hover_name = 'cluster',\n",
    "                 hover_data=[\"AREA_NM_PRE\"])\n",
    "fig.show()"
   ]
  }
 ],
 "metadata": {
  "hide_input": false,
  "kernelspec": {
   "display_name": "Python 3",
   "language": "python",
   "name": "python3"
  },
  "language_info": {
   "codemirror_mode": {
    "name": "ipython",
    "version": 3
   },
   "file_extension": ".py",
   "mimetype": "text/x-python",
   "name": "python",
   "nbconvert_exporter": "python",
   "pygments_lexer": "ipython3",
   "version": "3.9.4"
  }
 },
 "nbformat": 4,
 "nbformat_minor": 1
}
