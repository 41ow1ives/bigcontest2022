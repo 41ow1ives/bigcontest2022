{
 "cells": [
  {
   "cell_type": "markdown",
   "id": "3b00105c",
   "metadata": {},
   "source": [
    "# 비짓제주 크롤링 코드\n",
    "\n",
    "비짓제주 숙박/관광지/F&B/쇼핑 데이터 크롤링 코드\n"
   ]
  },
  {
   "cell_type": "code",
   "execution_count": 2,
   "id": "3e922800",
   "metadata": {
    "pycharm": {
     "name": "#%%\n"
    }
   },
   "outputs": [],
   "source": [
    "from bs4 import BeautifulSoup\n",
    "from selenium import webdriver\n",
    "import re\n",
    "import warnings\n",
    "import pandas as pd"
   ]
  },
  {
   "cell_type": "code",
   "execution_count": 3,
   "id": "6b1b3a52",
   "metadata": {
    "pycharm": {
     "name": "#%%\n"
    }
   },
   "outputs": [],
   "source": [
    "warnings.filterwarnings(action='ignore')"
   ]
  },
  {
   "cell_type": "code",
   "execution_count": 4,
   "id": "944141f3",
   "metadata": {
    "pycharm": {
     "name": "#%%\n"
    }
   },
   "outputs": [],
   "source": [
    "base_url = 'https://www.visitjeju.net/kr/detail/list?menuId=DOM_000001707000000000&cate1cd=cate0000000004#p1&pageSize=12&sortListType=reviewcnt&viewType=thumb&isShowBtag&tag' #보여지는 형태를 꼭 네모 네개 짜리로 바꿀 것"
   ]
  },
  {
   "cell_type": "code",
   "execution_count": 5,
   "id": "941ffe8f",
   "metadata": {
    "pycharm": {
     "name": "#%%\n"
    }
   },
   "outputs": [],
   "source": [
    "driver = webdriver.Chrome(executable_path = 'D:\\Python_417\\chromedriver')\n",
    "driver.get(url=base_url)\n",
    "# implicit Waits\n",
    "driver.implicitly_wait(time_to_wait = 5)"
   ]
  },
  {
   "cell_type": "code",
   "execution_count": 6,
   "id": "df6d11f8",
   "metadata": {
    "pycharm": {
     "name": "#%%\n"
    }
   },
   "outputs": [],
   "source": [
    "cleaning = re.compile('<p.*=\"\">')"
   ]
  },
  {
   "cell_type": "code",
   "execution_count": 7,
   "id": "6250ce73",
   "metadata": {
    "pycharm": {
     "name": "#%%\n"
    }
   },
   "outputs": [],
   "source": [
    "html = driver.page_source\n",
    "soup = BeautifulSoup(html, 'html.parser')\n",
    "places = soup.select('dt>a>p.s_tit') # 제목\n",
    "places = [cleaning.sub('', str(name))[:-4] for name in places]\n",
    "# plc_tag = soup.find_all('p', class_= 'item_tag prev')\n",
    "# plc_tag = [(cleaning.sub('', str(tags))[:-4]).strip() for tags in plc_tag]\n",
    "# plc_tag는 안에 들어가면 더 있기 때문에 들어가서 구하는 걸로 하자"
   ]
  },
  {
   "cell_type": "code",
   "execution_count": 8,
   "id": "957f19bc",
   "metadata": {
    "pycharm": {
     "name": "#%%\n"
    }
   },
   "outputs": [],
   "source": [
    "tmp = driver.find_element_by_css_selector('#content > div > div.cont_wrap > div.recommend_area > ul > li:nth-child(1) > dl > dt > a')\n",
    "# 여기의 li:nth-child  (1) 안의 숫자를 바꿔가면서 클릭하면 됨\n",
    "tmp.click()"
   ]
  },
  {
   "cell_type": "markdown",
   "id": "2360f4b2",
   "metadata": {},
   "source": [
    "## (1) 비짓제주 숙박 데이터 크롤링"
   ]
  },
  {
   "cell_type": "code",
   "execution_count": 9,
   "id": "546b62c1",
   "metadata": {
    "pycharm": {
     "name": "#%%\n"
    }
   },
   "outputs": [],
   "source": [
    "def click_get_info():\n",
    "    twice = False\n",
    "    try:\n",
    "        name = driver.find_element_by_css_selector('#content > div.cont.detail_page.detail_style > div.sub_visual_wrap > div.inner_wrap > div.sub_info_area > div.sub_info_title > h3').text\n",
    "        stars = driver.find_element_by_css_selector(\n",
    "            '#content > div.cont.detail_page.detail_style > div.sub_visual_wrap > div.inner_wrap > div.sub_info_area > div.score_area_l > p').text[\n",
    "              9:-1]\n",
    "        tags = driver.find_element_by_css_selector(\n",
    "            '#content > div.cont.detail_page.detail_style > div.sub_visual_wrap > div.inner_wrap > div.sub_info_area > div.tag_area').text.replace(\n",
    "            '\\n', ' ')\n",
    "        address = driver.find_element_by_css_selector(\n",
    "            '#content > div.cont.detail_page.detail_style > div.sub_visual_wrap > div.inner_wrap > div.sub_info_area > div.basic_information > div:nth-child(2) > p.info_sub_cont').text\n",
    "        telephone = driver.find_element_by_css_selector(\n",
    "            '#content > div.cont.detail_page.detail_style > div.sub_visual_wrap > div.inner_wrap > div.sub_info_area > div.basic_information > div:nth-child(3) > p.info_sub_cont').text\n",
    "        like = driver.find_element_by_css_selector(\n",
    "            '#content > div.cont.detail_page.detail_style > div.cont_wrap.sub_visual > ul > li:nth-child(1) > button > p.appraisal_cnt').text\n",
    "        heart = driver.find_element_by_css_selector(\n",
    "            '#content > div.cont.detail_page.detail_style > div.cont_wrap.sub_visual > ul > li:nth-child(2) > button > p.appraisal_cnt').text\n",
    "        numreview = driver.find_element_by_css_selector(\n",
    "            '#content > div.cont.detail_page.detail_style > div.cont_wrap.sub_visual > ul > li:nth-child(3) > p.appraisal_cnt').text\n",
    "        view = driver.find_element_by_css_selector(\n",
    "            '#content > div.cont.detail_page.detail_style > div.cont_wrap.sub_visual > ul > li:nth-child(6) > p.appraisal_cnt').text\n",
    "        ### 상세정보\n",
    "        detail_text = driver.find_element_by_css_selector(\n",
    "            '#tab0 > div').text.replace('\\n', ' ')\n",
    "        ### 추천콘텐츠\n",
    "        #### 관광지\n",
    "        rec_tour = driver.find_element_by_css_selector(\n",
    "            '#content > div.cont.detail_page.detail_style > div.cont_wrap.sub_visual > div.add2020_detail > div.add2020_detail_right > div:nth-child(1) > div.add2020_detail_side_contents').text.split('\\n')[0:-1:2]\n",
    "        #### 음식점\n",
    "        try:\n",
    "            driver.find_element_by_css_selector(\n",
    "                '#content > div.cont.detail_page.detail_style > div.cont_wrap.sub_visual > div.add2020_detail > div.add2020_detail_right > div:nth-child(1) > div.add2020_detail_side_category > ul > li.add2020_detail_restaurant > a').click()\n",
    "            rec_restaurant = driver.find_element_by_css_selector(\n",
    "                '#content > div.cont.detail_page.detail_style > div.cont_wrap.sub_visual > div.add2020_detail > div.add2020_detail_right > div:nth-child(1) > div.add2020_detail_side_contents').text.split('\\n')[0:-1:2]\n",
    "        except:\n",
    "            driver.find_element_by_css_selector('#tab0 > h2').click()\n",
    "            driver.find_element_by_css_selector(\n",
    "                '#content > div.cont.detail_page.detail_style > div.cont_wrap.sub_visual > div.add2020_detail > div.add2020_detail_right > div:nth-child(1) > div.add2020_detail_side_category > ul > li.add2020_detail_restaurant > a').click()\n",
    "            rec_restaurant = driver.find_element_by_css_selector(\n",
    "                '#content > div.cont.detail_page.detail_style > div.cont_wrap.sub_visual > div.add2020_detail > div.add2020_detail_right > div:nth-child(1) > div.add2020_detail_side_contents').text.split('\\n')[0:-1:2]\n",
    "            twice=True\n",
    "        #### 숙박\n",
    "        driver.find_element_by_css_selector(\n",
    "            '#content > div.cont.detail_page.detail_style > div.cont_wrap.sub_visual > div.add2020_detail > div.add2020_detail_right > div:nth-child(1) > div.add2020_detail_side_category > ul > li.add2020_detail_lodgment > a').click()\n",
    "        rec_lodgment = driver.find_element_by_css_selector(\n",
    "            '#content > div.cont.detail_page.detail_style > div.cont_wrap.sub_visual > div.add2020_detail > div.add2020_detail_right > div:nth-child(1) > div.add2020_detail_side_contents').text.split('\\n')[0:-1:2]\n",
    "        #### 빅데이터\n",
    "        driver.find_element_by_css_selector(\n",
    "            '#content > div.cont.detail_page.detail_style > div.cont_wrap.sub_visual > div.add2020_detail > div.add2020_detail_right > div:nth-child(1) > div.add2020_detail_side_category > ul > li.add2020_detail_bigdata > a').click()\n",
    "        rec_bigdata = driver.find_element_by_css_selector(\n",
    "            '#content > div.cont.detail_page.detail_style > div.cont_wrap.sub_visual > div.add2020_detail > div.add2020_detail_right > div:nth-child(1) > div.add2020_detail_side_contents').text.split('\\n')[0:-1:2]\n",
    "        ### 이용안내\n",
    "        detail_side_box = driver.find_element_by_css_selector(\n",
    "            '#content > div.cont.detail_page.detail_style > div.cont_wrap.sub_visual > div.add2020_detail > div.add2020_detail_right > div:nth-child(2) > div > dl').text.split('\\n')\n",
    "    except:\n",
    "        name = driver.find_element_by_css_selector('#content > div.cont.detail_page.detail_style2 > div.sub_visual_wrap > div.inner_wrap > div.sub_info_area > div.sub_info_title > h3').text\n",
    "        stars = driver.find_element_by_css_selector(\n",
    "            '#content > div.cont.detail_page.detail_style2 > div.sub_visual_wrap > div.inner_wrap > div.sub_info_area > div.score_area_l > p').text[9:-1]\n",
    "        tags = driver.find_element_by_css_selector(\n",
    "            '#content > div.cont.detail_page.detail_style2 > div.sub_visual_wrap > div.inner_wrap > div.sub_info_area > div.tag_area').text.replace('\\n', ' ')\n",
    "        tags+=' '+driver.find_element_by_css_selector('#content > div.cont.detail_page.detail_style2 > div.sub_visual_wrap > div.inner_wrap > div.sub_info_area > div.tag_area > p:nth-child(2)').text.replace('\\n','')\n",
    "        address = driver.find_element_by_css_selector(\n",
    "            '#content > div.cont.detail_page.detail_style2 > div.sub_visual_wrap > div.inner_wrap > div.sub_info_area > div.basic_information > div:nth-child(2) > p.info_sub_cont').text\n",
    "        telephone = driver.find_element_by_css_selector(\n",
    "             '#content > div.cont.detail_page.detail_style2 > div.sub_visual_wrap > div.inner_wrap > div.sub_info_area > div.basic_information > div:nth-child(3) > p.info_sub_cont').text\n",
    "        ## 좋아요\n",
    "        like = driver.find_element_by_css_selector(\n",
    "            '#content > div.cont.detail_page.detail_style2 > div.cont_wrap.sub_visual > ul > li:nth-child(1) > button > p.appraisal_cnt').text\n",
    "        ### 찜하기\n",
    "        heart = driver.find_element_by_css_selector(\n",
    "            '#content > div.cont.detail_page.detail_style2 > div.cont_wrap.sub_visual > ul > li:nth-child(2) > button > p.appraisal_cnt').text\n",
    "        ### 리뷰\n",
    "        numreview = driver.find_element_by_css_selector(\n",
    "            '#content > div.cont.detail_page.detail_style2 > div.cont_wrap.sub_visual > ul > li:nth-child(3) > p.appraisal_cnt').text\n",
    "        ### 조회\n",
    "        view = driver.find_element_by_css_selector(\n",
    "            '#content > div.cont.detail_page.detail_style2 > div.cont_wrap.sub_visual > ul > li:nth-child(6) > p.appraisal_cnt').text\n",
    "        ### 상세정보\n",
    "        detail_text = driver.find_element_by_css_selector('#tab0 > div').text.replace('\\n', ' ')\n",
    "        ### 추천콘텐츠\n",
    "        #### 관광지\n",
    "        rec_tour = driver.find_element_by_css_selector('#content > div.cont.detail_page.detail_style2 > div.cont_wrap.sub_visual > div.add2020_detail > div.add2020_detail_right > div:nth-child(1) > div.add2020_detail_side_contents').text.split('\\n')[0:-1:2]\n",
    "        #### 음식점\n",
    "        try:\n",
    "            driver.find_element_by_css_selector('#content > div.cont.detail_page.detail_style2 > div.cont_wrap.sub_visual > div.add2020_detail > div.add2020_detail_right > div:nth-child(1) > div.add2020_detail_side_category > ul > li.add2020_detail_restaurant > a').click()\n",
    "            rec_restaurant = driver.find_element_by_css_selector('#content > div.cont.detail_page.detail_style2 > div.cont_wrap.sub_visual > div.add2020_detail > div.add2020_detail_right > div:nth-child(1) > div.add2020_detail_side_contents').text.split('\\n')[0:-1:2]\n",
    "        except:\n",
    "            driver.find_element_by_css_selector('#tab0 > h2').click()\n",
    "            driver.find_element_by_css_selector('#content > div.cont.detail_page.detail_style2 > div.cont_wrap.sub_visual > div.add2020_detail > div.add2020_detail_right > div:nth-child(1) > div.add2020_detail_side_category > ul > li.add2020_detail_restaurant > a').click()\n",
    "            rec_restaurant = driver.find_element_by_css_selector('#content > div.cont.detail_page.detail_style2 > div.cont_wrap.sub_visual > div.add2020_detail > div.add2020_detail_right > div:nth-child(1) > div.add2020_detail_side_contents').text.split('\\n')[0:-1:2]\n",
    "            twice=True\n",
    "        #### 숙박\n",
    "        driver.find_element_by_css_selector('#content > div.cont.detail_page.detail_style2 > div.cont_wrap.sub_visual > div.add2020_detail > div.add2020_detail_right > div:nth-child(1) > div.add2020_detail_side_category > ul > li.add2020_detail_lodgment > a').click()\n",
    "        rec_lodgment = driver.find_element_by_css_selector('#content > div.cont.detail_page.detail_style2 > div.cont_wrap.sub_visual > div.add2020_detail > div.add2020_detail_right > div:nth-child(1) > div.add2020_detail_side_contents').text.split('\\n')[0:-1:2]\n",
    "        #### 빅데이터\n",
    "        driver.find_element_by_css_selector('#content > div.cont.detail_page.detail_style2 > div.cont_wrap.sub_visual > div.add2020_detail > div.add2020_detail_right > div:nth-child(1) > div.add2020_detail_side_category > ul > li.add2020_detail_bigdata > a').click()\n",
    "        rec_bigdata = driver.find_element_by_css_selector('#content > div.cont.detail_page.detail_style2 > div.cont_wrap.sub_visual > div.add2020_detail > div.add2020_detail_right > div:nth-child(1) > div.add2020_detail_side_contents').text.split('\\n')[0:-1:2]\n",
    "        ### 이용안내\n",
    "        detail_side_box = driver.find_element_by_css_selector('#content > div.cont.detail_page.detail_style2 > div.cont_wrap.sub_visual > div.add2020_detail > div.add2020_detail_right > div:nth-child(2) > div > dl').text.split('\\n')\n",
    "\n",
    "    detail_side_box = { detail_side_box[i] : detail_side_box[i+1] for i in range(0,len(detail_side_box), 2) }\n",
    "\n",
    "    return {'name' : name, 'stars' : stars, 'tags': tags, 'address' : address, 'telephone' : telephone, 'like' : like, 'heart' : heart, 'numreview' : numreview, 'view' : view, 'detail_text' : detail_text, 'rec_tour' : rec_tour, 'rec_restaurant' : rec_restaurant, 'rec_lodgment' :  rec_lodgment, 'rec_bigdata' : rec_bigdata, 'detail_side_box' : detail_side_box}, twice"
   ]
  },
  {
   "cell_type": "code",
   "execution_count": 24,
   "id": "b4e12b3b",
   "metadata": {
    "pycharm": {
     "name": "#%%\n"
    }
   },
   "outputs": [],
   "source": [
    "driver.get(url=base_url)\n",
    "driver.maximize_window()\n",
    "driver.implicitly_wait(time_to_wait = 5)\n",
    "cleaning = re.compile('<p.*=\"\">')\n",
    "final_df = pd.DataFrame(columns = ['name', 'stars', 'tags', 'address', 'telephone', 'like', 'heart', 'numreview', 'view', 'detail_text', 'rec_tour',\n",
    "                                   'rec_restaurant', 'rec_lodgment', 'rec_bigdata', 'detail_side_box'])\n",
    "page_number = int(driver.find_element_by_css_selector('#content > div > div.cont_wrap > div.recommend_area > div.theme_tit_area.clear > div > div > div.counter > p > strong').text)//12"
   ]
  },
  {
   "cell_type": "code",
   "execution_count": 22,
   "id": "782f033a",
   "metadata": {
    "pycharm": {
     "name": "#%%\n"
    }
   },
   "outputs": [],
   "source": [
    "def crawling_tour(driver, final_df):\n",
    "    places = [element.text.split('\\n')[1] for element in driver.find_elements_by_css_selector('#content > div > div.cont_wrap > div.recommend_area > ul > li')]\n",
    "    for i in range(1,len(places)+1):\n",
    "        place_click = driver.find_element_by_css_selector(f'#content > div > div.cont_wrap > div.recommend_area > ul > li:nth-child({i}) > dl > dt > a')\n",
    "        place_click.click()\n",
    "        driver.implicitly_wait(time_to_wait = 20)\n",
    "\n",
    "        tmp_info_dict, twice = click_get_info()\n",
    "        tmp_df = pd.DataFrame(columns = tmp_info_dict.keys(), data = [tmp_info_dict.values()])\n",
    "        final_df = final_df.append(tmp_df)\n",
    "\n",
    "        driver.execute_script(\"window.history.go(-1)\")\n",
    "        if twice==True:\n",
    "            driver.execute_script(\"window.history.go(-1)\")\n",
    "    # driver.execute_script(\"window.history.go(-1)\")\n",
    "    return final_df"
   ]
  },
  {
   "cell_type": "code",
   "execution_count": 84,
   "id": "8ce85746",
   "metadata": {
    "pycharm": {
     "name": "#%%\n"
    }
   },
   "outputs": [
    {
     "name": "stdout",
     "output_type": "stream",
     "text": [
      "52번째 페이지 끝\n",
      "53번째 페이지 끝\n",
      "54번째 페이지 끝\n",
      "55번째 페이지 끝\n",
      "56번째 페이지 끝\n",
      "57번째 페이지 끝\n",
      "58번째 페이지 끝\n",
      "59번째 페이지 끝\n",
      "60번째 페이지 끝\n",
      "61번째 페이지 끝\n",
      "62번째 페이지 끝\n",
      "63번째 페이지 끝\n",
      "64번째 페이지 끝\n",
      "65번째 페이지 끝\n",
      "66번째 페이지 끝\n",
      "67번째 페이지 끝\n",
      "68번째 페이지 끝\n",
      "69번째 페이지 끝\n",
      "70번째 페이지 끝\n",
      "71번째 페이지 끝\n",
      "72번째 페이지 끝\n",
      "73번째 페이지 끝\n",
      "74번째 페이지 끝\n",
      "75번째 페이지 끝\n",
      "76번째 페이지 끝\n",
      "77번째 페이지 끝\n"
     ]
    }
   ],
   "source": [
    "for i in range(1,page_number):\n",
    "    final_df = crawling_tour(driver, final_df)\n",
    "    driver.find_element_by_css_selector('#paging > a.spr_com.page-next').click()\n",
    "    driver.implicitly_wait(time_to_wait=10)\n",
    "    print(f'{i}번째 페이지 끝')\n",
    "    final_df"
   ]
  },
  {
   "cell_type": "code",
   "execution_count": 93,
   "id": "4833808f",
   "metadata": {
    "pycharm": {
     "name": "#%%\n"
    }
   },
   "outputs": [],
   "source": [
    "final_df = final_df.drop_duplicates('name')"
   ]
  },
  {
   "cell_type": "code",
   "execution_count": 87,
   "id": "844916d5",
   "metadata": {
    "pycharm": {
     "name": "#%%\n"
    }
   },
   "outputs": [],
   "source": [
    "# store_df = pd.read_csv('VISITJEJU_숙소정보크롤링.csv')"
   ]
  },
  {
   "cell_type": "code",
   "execution_count": 97,
   "id": "d243a160",
   "metadata": {
    "pycharm": {
     "name": "#%%\n"
    }
   },
   "outputs": [],
   "source": [
    "store_df = store_df.append(final_df)\n",
    "store_df = store_df.drop_duplicates('name')\n",
    "store_df.reset_index(drop=True, inplace=True)"
   ]
  },
  {
   "cell_type": "code",
   "execution_count": 98,
   "id": "3a091737",
   "metadata": {
    "pycharm": {
     "name": "#%%\n"
    }
   },
   "outputs": [],
   "source": [
    "#store_df.to_csv('data/VISITJEJU_숙박정보크롤링_FINAL.csv', encoding='utf-8-sig', index=False)"
   ]
  },
  {
   "cell_type": "markdown",
   "id": "73c8b90c",
   "metadata": {
    "pycharm": {
     "name": "#%% md\n"
    }
   },
   "source": [
    "### 크롤링 안된 경우 체크"
   ]
  },
  {
   "cell_type": "code",
   "execution_count": 50,
   "id": "2c999051",
   "metadata": {
    "pycharm": {
     "name": "#%%\n"
    }
   },
   "outputs": [],
   "source": [
    "#store_df = pd.read_csv('bigcon_data/VISITJEJU_숙박정보크롤링.csv')"
   ]
  },
  {
   "cell_type": "code",
   "execution_count": null,
   "id": "27074bcd",
   "metadata": {
    "pycharm": {
     "name": "#%%\n"
    }
   },
   "outputs": [],
   "source": [
    "driver.get(url = base_url)"
   ]
  },
  {
   "cell_type": "code",
   "execution_count": 56,
   "id": "538ae6e5",
   "metadata": {
    "pycharm": {
     "name": "#%%\n"
    }
   },
   "outputs": [],
   "source": [
    "main_url = base_url"
   ]
  },
  {
   "cell_type": "code",
   "execution_count": 57,
   "id": "71a05514",
   "metadata": {
    "pycharm": {
     "name": "#%%\n"
    }
   },
   "outputs": [
    {
     "name": "stdout",
     "output_type": "stream",
     "text": [
      "['나미송 머무는 곳', '해비치호텔앤드리조트', '신라호텔제주', '롯데호텔 제주', '제주조천스위스마을게스트하우스', '비젠빌리지', '제주도푸른산푸른바다', '휘닉스 제주 섭지코지', '히든클리프 호텔 앤 네이쳐', '대명리조트 제주', '서귀포KAL호텔', '제주도푸른바다']\n",
      "1번째 페이지 끝\n",
      "['캠핑트리펜션', '씨에스호텔앤리조트', '객의하우스', '금호리조트제주', '수상한소금밭게스트하우스', '달달하우스', '신라스테이 제주', '틸다하우스', 'inn jeju 인제주 게스트하우스', '르페도라', '제주가좋아서 펜션', '나날 게스트하우스']\n",
      "2번째 페이지 끝\n",
      "['라마다프라자 제주호텔', '롯데시티호텔제주', '메종글래드 제주', '제주bp게스트하우스 JEJU BP GUESTHOUSE', '제주부영호텔엔리조트', '빠담빠담게스트하우스', '오션스위츠호텔 제주', '우도사랑', '제주해나루', '켄싱턴리조트 제주 한림점', '활엽수 게스트하우스', '꽃하루방게스트하우스']\n",
      "3번째 페이지 끝\n",
      "['롯데리조트아트빌라스', '마레보 리조트', '메종드오조락', '범섬풍경', '서귀포푸른바다', '아름다운리조트', '아이비테라스', '야호비치하우스', '오션스퀘어', '오크하우스', '제주WE호텔', '제주리조트']\n",
      "4번째 페이지 끝\n",
      "['제주아이브리조트', '하워드존슨 제주 연동 호텔', '꿈꾸는섬 게스트하우스', '더본 호텔', '더포그레이스호텔앤리조트', '랜딩관 제주신화월드 호텔앤리조트', '베니키아 아이진호텔', '베스트웨스턴제주호텔', '블루하와이리조트', '소풍(월정리)', '예이츠산장', '유월그리고열두마루']\n",
      "소풍(월정리)\n",
      "5번째 페이지 끝\n",
      "['이디하우스n카페', '일레인호텔', '제주인호텔', '제주하이킹 INN(구덕게스트하우스)', '파르나스 호텔 제주', '펄리플러스', '포도호텔', '플레이스 캠프 제주', '하도리일번지', '한화리조트 제주', '게으른소나기', '구름밭하우스']\n",
      "제주하이킹 INN(구덕게스트하우스)\n",
      "6번째 페이지 끝\n",
      "['내도바당펜션', '넙빌레하우스', '노낭게스트하우스', '단추스테이 단추숲', '대명 샤인빌리조트', '더클라우드호텔', '돈내코힐 리조트', '동박생이', '두베하우스', '뒹글하우스', '드헤브펜션', '라마다 제주 함덕 호텔']\n",
      "7번째 페이지 끝\n",
      "['라마다 제주시티호텔', '라포즈', '레드우드하우스', '루시드봉봉', '몽돌바당', '미도호스텔', '백패커스홈', '밸류호텔 서귀포(VALUE HOTEL Seogwipo JS)', '베니키아호텔제주', '봉쟈 게스트하우스', '비안', '뽀요요펜션']\n",
      "밸류호텔 서귀포(VALUE HOTEL Seogwipo JS)\n",
      "8번째 페이지 끝\n",
      "['서머셋 제주신화월드 호텔앤리조트', '소소게스트하우스', '스위트호텔 제주', '슴게스트하우스 제주공항점', '야스라기펜션', '엠스테이호텔', '연이네다락방 게스트하우스', '와이리조트 제주', '이런날엔', '제주 메이 더 호텔 카라반빌리지', '제주 에코 스위츠 펜션', '제주락']\n",
      "9번째 페이지 끝\n",
      "['제주바다펜션', '제주샘모루펜션', '제주에살다', '제주카사블랑카펜션', '제주해안휴양펜션(제주해안펜션)', '초', '코시롱게스트하우스', '코즈게스트하우스', '펠리시아호텔', '포구민박', '표선이레하우스', '하바나블루스']\n",
      "제주해안휴양펜션(제주해안펜션)\n",
      "10번째 페이지 끝\n",
      "['하이디펜션', '협재해오름펜션', '호텔 리젠트마린', '호텔레오', '메리어트관 제주신화월드 호텔앤리조트', 'JAY&CHLOE', 'JK라마다앙코르 제주연동호텔', 'Oh! 세화! (오세화게스트하우스)', 'UncleBORO게스트하우스', '가까이에파도소리', '갤럭시호텔 제주', '건축학개론펜션']\n",
      "Oh! 세화! (오세화게스트하우스)\n",
      "11번째 페이지 끝\n",
      "['게스트하우스 클럽 제이제이', '고망난돌민박가든', '골든파크호텔', '그랜드메르호텔', '그린트리인서귀포호텔', '끄라비펜션', '나무사이로햇살이', '나무처럼 게스트하우스', '난드르통나무집', '남촌풀하우스', '노을과어울림', '단빌리지게스트하우스']\n",
      "12번째 페이지 끝\n",
      "['단추스테이', '더들집', '더베이리조트', '도시락게스트하우스', '동원리조트제주', '디아넥스 호텔', '디오션힐', '또랑게스트하우스', '뚜르드제주게스트하우스', '라림부띠끄호텔', '라온호텔앤리조트', '레프트핸더 게스트하우스']\n",
      "13번째 페이지 끝\n",
      "['로뎀펜션', '루미수다게스트하우스', '리치망고펜션', '마니주팬션', '몽마르뜨펜션', '물고기나무게스트하우스', '미라클게스트하우스', '미소게스트하우스', '발리인제주', '밭담사이', '베이힐 풀앤빌라', '보리게스트하우스']\n",
      "14번째 페이지 끝\n",
      "['봄그리고가을호텔&리조트', '북마크하우스&카페', '북촌플레이스', '브라운 스위트 제주 호텔 & 리조트', '브릭216', '블란디야', '블랙스톤리조트', '비비엔다', '빌림', '산토리니 펜션', '서귀포통나무집', '선샤인호텔']\n",
      "15번째 페이지 끝\n",
      "['섬타임즈', '성산풀하우스', '소낭게스트하우스', '소라담하우스', '소랑풀빌라', '소랑호젠', '소섬바당', '솔바람풍경소리펜션', '수앤수가족호텔', '쉴만한 물가', '스카이워커', '슬로우리제주 민박']\n",
      "16번째 페이지 끝\n",
      "['신화관 제주신화월드 호텔 앤 리조트', '씨앤관광호텔', '씨엘블루호텔', '씨오르리조트', '아올키즈펜션', '아프리카게스트하우스', '알랑가게스트하우스', '애월포구풍경', '언덕위에 빨간지붕', '에덴통나무빌리지', '여울목게스트하우스(월정리)', '예촌민박']\n",
      "여울목게스트하우스(월정리)\n",
      "17번째 페이지 끝\n",
      "['외돌개나라', '용두암빌리지', '우도피아', '우리희망이 게스트하우스', '위더스펜션', '위미모루왓', '유앤아이게스트하우스', '제니빌펜션', '제이드림호텔(jdream hotel)', '제주 오션팰리스 호텔', '제주도 레인보우', '제주로얄호텔']\n",
      "제이드림호텔(jdream hotel)\n",
      "18번째 페이지 끝\n",
      "['제주시드니호텔', '제주썬호텔&카지노', '제주애단비', '제주엠리조트', '제주오리엔탈호텔', '제주이야기펜션', '중문그린힐통나무펜션', '중문스테이', '지니코티지', '쫄깃센터', '청춘게스트하우스', '초원게스트하우스']\n",
      "19번째 페이지 끝\n",
      "['콴도제주', '토스카나호텔', '통나무파크', '파크 선샤인 제주', '팜핑제주', '퍼시픽호텔', '펜션머물다', '편운산장', '풍경호텔(풍경관광호텔)', '프레리아', '하늘고래', '하도리보통날']\n",
      "풍경호텔(풍경관광호텔)\n",
      "20번째 페이지 끝\n",
      "['하도하도1929', '하랑 게스트하우스', '하얀산호민박', '한라궁', '함덕산티아고게스트하우스', '해바라기', '해바라기 펜션', '해변산책펜션', '해안길펜션', '헤리티지', '호스텔린든(Hostel lyndon)', '호텔 스카이파크 제주1호점']\n",
      "호스텔린든(Hostel lyndon)\n",
      "21번째 페이지 끝\n",
      "['호텔난타', '홍익샤모니리조트', '휘슬락호텔', '흰고래게스트하우스', '흰수염고래리조트', '1915 지오하우스', '521 게스트 하우스', 'be Lazy B&B', 'BK호텔제주', 'cafe말/개스트하우스 말', 'CS빌리지', 'For 安(포안)']\n",
      "호텔난타\n",
      "홍익샤모니리조트\n",
      "휘슬락호텔\n",
      "흰고래게스트하우스\n",
      "흰수염고래리조트\n",
      "1915 지오하우스\n",
      "521 게스트 하우스\n",
      "be Lazy B&B\n",
      "BK호텔제주\n",
      "cafe말/개스트하우스 말\n",
      "CS빌리지\n",
      "For 安(포안)\n",
      "22번째 페이지 끝\n",
      "['IGH펜션', 'JJ하우스', 'UTS제주골프빌리지', 'ZeZuZip', '가름게스트하우스', '가비오타 펜션', '가산토방', '가이아호텔', '가파도민박', '가파도상동펜션', '간드락게스트하우스', '감비나무']\n",
      "23번째 페이지 끝\n",
      "['강남하우스펜션', '강정서부민박', '개스트하우스 말2', '갤러리민박', '갯바위펜션', '거드락지민박', '게스트하우스7', '게으르게', '고려민박', '고불락하우스', '골드원 호텔 & 스위트', '골든비치']\n",
      "24번째 페이지 끝\n",
      "['골든튤립 제주 성산호텔', '곰씨비씨게스트하우스', '공감민박', '관음사 야영장', '구름비낭', '굿데이 펜션', '그라벨호텔제주', '그랜드 조선 제주', '그랜드 하얏트 제주', '그린나래', '그린민박', '그린사이드펜션']\n",
      "25번째 페이지 끝\n",
      "['그림같은집', '그림같은풍경', '그림그리는펜션', '그림리조트', '글라라의집', '금서방네이층집', '기분좋은 민박', '길섶나그네펜션', '김군아미고게스트하우스', '김녕몽생이', '김녕한옥 용암정원', '김선장네 민박']\n",
      "26번째 페이지 끝\n",
      "['까사데비발디호텔', '꽃머채 펜션', '꽃향기바다소리', '꿀잠자리', '꿈꾸는 노마드', '꿈꾸는바다', '꿈꾸는정원', '나무아래독채펜션', '나무이야기', '나무이야기 하우스', '나무이야기게스트하우스', '나무이야기게스트하우스 2호점']\n",
      "27번째 페이지 끝\n",
      "['나무향기펜션', '나바론 민박', '나바론민박', '나비스호텔', '나인스파빌', '남쪽나라빌', '낭만펜션', '내사랑추자야펜션민박', '노닐다 게스트하우스', '노블렛휴양펜션', '노을과 포도향기', '노을과원담']\n",
      "28번째 페이지 끝\n",
      "['노을담은뜨락', '놀멍쉬멍고르멍', '눈먼고래', '뉴그린모텔', '뉴그린펜션', '뉴아일랜드민박', '뉴아일랜드호텔', '뉴코리아유스호스텔', '느르왓', '늘바다통나무펜션', '늘송파크텔', '늘푸른 게스트하우스']\n",
      "29번째 페이지 끝\n",
      "['늘해랑펜션', '다노이커플펜션', '다락마마', '다래산장', '다미네민박', '다솜펜션', '다올제민박', '다이브게스트하우스', '다이아몬드 호텔', '다인리조트', '다인오세아노 호텔', '달빛고운펜션']\n",
      "30번째 페이지 끝\n",
      "['달빛바다', '달자펜션', '달집게스트하우스', '달콤한소금만들기', '달콤한아침', '담앤루펜션리조트', '대물민박', '더 프라이빗 시로', '더갤러리펜션', '더그랜드섬오름', '더레드관광호텔', '더블루제주']\n",
      "31번째 페이지 끝\n",
      "['더비비스제주', '더쉼팡스파&풀빌라', '더아름다운펜션', '더큐브리조트 제주', '더하도스파빌라', '더하우스펜션', '데이즈호텔 제주서귀포오션', '도도펜션', '도로시게스트하우스', '도일모텔', '돌고래하우스(캠핑장)', '돌꽃펜션']\n",
      "돌고래하우스(캠핑장)\n",
      "32번째 페이지 끝\n",
      "['돌담민박', '돌담한길펜션', '돌집조앤정', '동굴민박', '동막골게스트하우스', '동백동산펜션', '동복리671', '동산나라펜션', '동양콘도', '동일민박', '동촌하우스', '두리안펜션']\n",
      "33번째 페이지 끝\n",
      "['드림캐슬', '등대민박', '디셈버호텔', '디스이즈핫', '땅콩펜션', '또오크라', '또올레펜션&게스트하우스', '뜨레향 펜션', '뜨리바다펜션', '라마다앙코르 서귀포 이스트 호텔', '라마다앙코르 서귀포호텔', '라메종베니in제주']\n",
      "34번째 페이지 끝\n",
      "['라벤다호텔', '라신비', '라오체리조트', '라이온힐펜션', '라자관광호텔', '라파로마휴양펜션', '라헨느리조트', '란펜션', '랑주호텔', '런호텔', '레몬이네 민박', '레몬트리게스트하우스']\n",
      "35번째 페이지 끝\n",
      "['레이크힐스 제주 리조트', '레지나팬션', '로그맨하우스', '로그밸리', '로그빌리지 펜션', '로베로호텔', '로즈비치', '루시드엠', '루체빌', '루하우스', '리니민박(RINY)', '리버풀펜션']\n",
      "리니민박(RINY)\n",
      "36번째 페이지 끝\n",
      "['리치웨이 펜션', '리틀해녀', '마눌펜션', '마당돌펜션', '마라도게스트하우스', '마라도별장', '마레카펜션', '마리아주펜션', '마린포트리조트', '마빈', '마이테르유스호스텔', '마주보기펜션']\n",
      "37번째 페이지 끝\n",
      "['머무름민박', '메모리 인 제주 펜션', '메이더호텔', '메이저호텔', '메이풀하우스', '메종드판포', '모멘토호텔', '모물펜션', '목조 독채민박 멍3닷컴', '몬딱게스트하우스', '몬딱쉼터', '몬떼뷰 스테이']\n",
      "38번째 페이지 끝\n",
      "['무이비엔', '물돌이민박', '물메랑', '미도모텔', '미래하우스', '미르빌펜션', '미소가펜션', '미쓰홍당무하우스', '민박바당집', '민박집섶낭', '민박하얀집', '민준채']\n",
      "39번째 페이지 끝\n",
      "['민중각 게스트하우스', '밀레니엄빌', '밀물민박', '바다드림', '바다산책', '바다스케치', '바다와자전거', '바다위올레펜션', '바다의향기', '바다추억', '바다파파', '바다풍경펜션']\n",
      "40번째 페이지 끝\n",
      "['바다해호텔', '바다향기', '바닷가하얀집', '바닷가하우스펜션', '바당정원펜션', '바람돌이하우스', '바랑쉬게스트하우스', '바사팬스파', '바산올레펜션', '바우하우스', '발로바쉬', '밧돌 게스트하우스']\n",
      "바다해호텔\n",
      "바다향기\n",
      "바닷가하얀집\n",
      "바닷가하우스펜션\n",
      "바당정원펜션\n",
      "바람돌이하우스\n",
      "바랑쉬게스트하우스\n",
      "바사팬스파\n",
      "바산올레펜션\n",
      "바우하우스\n",
      "발로바쉬\n",
      "밧돌 게스트하우스\n",
      "41번째 페이지 끝\n",
      "['방울풍뎅이 하우스', '배목수집', '백악관민박', '밸류호텔 월드와이드 제주', '뱅디가름게스트하우스', '벙커호텔앤리조트', '베누스무인텔', '베니키아 중문호텔', '별똥별채집소', '별마로펜션', '별장민박', '볕들이펜션']\n",
      "42번째 페이지 끝\n",
      "['보로미 민박', '보물섬', '볼몽지엥하우스', '봉골레 하우스 민박', '봉아저씨네민박', '부르네스테이', '부영CC관광호텔', '브라운캐빈', '브리즈베이호텔', '블라제리조트', '블랑게스트하우스', '블랙롯지']\n",
      "43번째 페이지 끝\n",
      "['블랙샌즈호텔', '블루마린', '블루마운틴호텔', '블루오션', '블루펄', '블룸호텔', '비스타리조트', '비스타케이호텔월드컵', '비아 제주', '비앤비호텔', '비오하우스', '비자낭달집']\n",
      "블랙샌즈호텔\n",
      "블루마린\n",
      "블루마운틴호텔\n",
      "블루오션\n",
      "블루펄\n",
      "블룸호텔\n",
      "비스타리조트\n",
      "비스타케이호텔월드컵\n",
      "비아 제주\n",
      "비앤비호텔\n",
      "비오하우스\n",
      "비자낭달집\n",
      "44번째 페이지 끝\n",
      "['비지터게스트하우스', '비치조아', '빌라배알로', '빌라비하우스', '뿌리게스트하우스', '쁘띠제주빅터펜션', '사계여행민박', '사계절민박', '사랑이꽃피는민박', '사랑터울', '사면초가펜션', '산방산에펜션']\n",
      "45번째 페이지 끝\n",
      "['산방산호텔', '삼보민박', '삼해인관광호텔', '서귀포귤림성', '서귀포힐즈호텔', '선스토리', '성게돌 펜션', '성산아침노을펜션', '성산우리집 펜션', '세화리움', '세화맨션', '셋째날']\n",
      "46번째 페이지 끝\n",
      "['소낭재', '소담펜션', '소풍BnB', '소풍이야기 펜션', '솔로 게스트하우스', '솔민박', '송림원', '쇠소깍섬도리왓펜션', '쇠소깍올레민박', '수상한집 광보네', '수필하우스', '수하리839']\n",
      "47번째 페이지 끝\n",
      "['숨비아일랜드', '숲골 제주독채펜션', '쉴띠펜션&게스트하우스', '쉼게스트하우스', '스마일모텔', '스머프하우스', '스위트모텔', '스카이리더스호텔', '스쿠버스토리', '스테이달하', '스테이지게스트하우스', '스토리인제주게스트하우스']\n",
      "48번째 페이지 끝\n",
      "['스토리하우스펜션', '스톤성민박', '스프링데일골프앤리조트', '시땅', '시월애', '신강남모텔', '신등대민박', '신산게스트하우스', '신촌돌집', '신흥소시민', '실크로드펜션', '심스호텔']\n",
      "49번째 페이지 끝\n",
      "['썬라이즈호텔', '썬레이크빌제주', '썬베이펜션', '썬비치리조트', '썬비치민박', '썬앤문리조트', '쏠레 민박', '씨사이드아덴', '씨스테이 용두암', '씨스테이호텔', '씨앤하우스', '씨제이 관광호텔']\n",
      "50번째 페이지 끝\n",
      "['아델리아빌', '아뜨네통나무펜션', '아띠랑스호텔', '아름다운펜션민박', '아리스토캣펜션', '아림민박', '아마빌레', '아모렉스리조트', '아모르하우스', '아스타호텔', '아이랑키즈펜션', '아이미 제주비치 호텔']\n",
      "51번째 페이지 끝\n",
      "['아이존호텔', '아이콘민박', '아이콘펜션', '아인피플호텔', '아침의 새소리', '아침의향기', '아침해변', '아쿠아뷰티크', '아템파우제', '아토하우스', '아트모텔', '안녕김녕sea']\n",
      "52번째 페이지 끝\n",
      "['안녕프로젝트 게스트하우스', '안트레 펜션', '알로하민박', '알앤비타운', '애월해안누리펜션(구 하얀둥지펜션)', '약천골민박', '언니게스트하우스', '언니네여인숙', '엄블랑펜션', '에너벨리민박', '에띠에리조트', '에리두 Cafe n Beds']\n",
      "애월해안누리펜션(구 하얀둥지펜션)\n",
      "53번째 페이지 끝\n",
      "['에바다라이더하우스.공방', '에스호텔', '에이지하우스', '에이티눈호텔', '에코그린리조트', '에코하우스민박펜션', '에쿠스모텔', '엔젤하우스', '엘마르게스트하우스', '엘쯔타운펜션', '엠버관광호텔', '엠버리조트']\n",
      "54번째 페이지 끝\n",
      "['엠버하우스', '엠버호텔 센트럴', '여래게스트하우스', '여정여관', '여행스케치', '연지민박', '예다움휴양펜션', '예스준게스트하우스', '옛살라비', '오누게스트하우스', '오랑제리펜션', '오렌지트리 호텔']\n",
      "55번째 페이지 끝\n",
      "['오름게스트하우스', '오비두스', '오빌하우스', '오션그랜드호텔 (함덕)', '오션스카이', '오션트리', '오션패밀리호텔', '오시록헌펜션', '오조리비앤비(Ojoribnb)', '오후여섯시펜션', '올레관광호텔', '올레리조트']\n",
      "오션그랜드호텔 (함덕)\n",
      "오조리비앤비(Ojoribnb)\n",
      "56번째 페이지 끝\n",
      "['올레스테이', '올레요리조트', '올레프로방스', '올레해오름펜션', '올리수펜션', '와락 게스트하우스', '우도쉼팡게스트하우스', '우도올레펜션', '우리두리게스트하우스', '우연히 행복해지다', '월령채', '월정소랑']\n",
      "57번째 페이지 끝\n",
      "['월정에비뉴', '월정플레이스', '웨스티하우스', '유니호텔제주', '유러하우스', '유심이감성하우스민박', '유창민박', '유탑유블레스호텔', '이디살래', '이레민박', '이린펜션', '이쁜새이쁘게노래하고펜션']\n",
      "월정에비뉴\n",
      "58번째 페이지 끝\n",
      "['이안재', '이야기별방', '이어도펜션', '이찌마루&잠비', '인더 하우스', '인추자커피앤민박', '일출썬 펜션', '잇츠힐', '자넷앤캐시', '자연인', '장원민박', '저스트슬립제주']\n",
      "59번째 페이지 끝\n",
      "['전원민박', '절물길펜션', '제니아호텔', '제이앤클로이', '제주 리치호텔', '제주 벨루가', '제주가온29', '제주공항 고추잠자리 게스트하우스', '제주금산펜션', '제주나인 부띠끄', '제주나인리조트', '제주도통나무펜션']\n",
      "60번째 페이지 끝\n",
      "['제주돌집2호점 (스코리아)', '제주디오빌', '제주란펜션', '제주를여행하는히치하이커를위한안내소', '제주리시온관광호텔', '제주마로펜션', '제주마실게스트하우스', '제주머무리', '제주메이플호텔', '제주목화휴양펜션', '제주밭담숲', '제주베스트힐 펜션&글램핑']\n",
      "제주돌집2호점 (스코리아)\n",
      "61번째 페이지 끝\n",
      "['제주별바람', '제주부영청소년수련원', '제주비치펜션', '제주빌레성 통나무휴양펜션', '제주사랑 펜션', '제주산내들', '제주서울민박', '제주성산아일랜드', '제주쉼표', '제주스웨덴리조트펜션', '제주스테이비우다', '제주신신휴양펜션']\n",
      "62번째 페이지 끝\n",
      "['제주아이니', '제주야자원', '제주양떼목장', '제주엔펜션', '제주영숙', '제주올레돔', '제주올레하우스팬션', '제주와요펜션', '제주우리집펜션', '제주유스호스텔', '제주의시간은느리다', '제주잔잔']\n",
      "63번째 페이지 끝\n",
      "['제주코기네', '제주토비스콘도', '제주통나무휴양펜션', '제주파도소리', '제주파크랜드', '제주팔레스호텔', '제주팡숑예래', '제주펄관광호텔', '제주펜션오다', '제주펜션향림원', '제주포시즌호텔', '제주프렌즈펜션']\n",
      "64번째 페이지 끝\n",
      "['제주필하우스', '제주하나호텔', '제주항공우주호텔', '제주해조대펜션', '제주휴리조트', '조은민박', '조이랜드펜션', '조천댁', '조천스테이', '종달스토리', '중문빌리지', '중문진실캠핑장']\n",
      "65번째 페이지 끝\n",
      "['중문통나무휴양펜션', '중문햇빛펜션', '중문훼미리리조트', '쥬빌리펜션', '지삿개풍경', '지현민박', '천상의노을', '청재설헌', '청정고을민박', '체이슨호텔 더 스마일', '초록새록', '초록하우스']\n",
      "66번째 페이지 끝\n",
      "['초콜릿펜션', '추사랑민박', '추자도민박', '추자도휴양펜션', '추자바다25시', '추자섬민박', '추자피싱랜드', '취다선리조트', '카사마리나', '카이리조트', '캐빈타운', '캐슬 드 한림']\n",
      "67번째 페이지 끝\n",
      "['캠퍼트리호텔앤리조트', '케이관광호텔제주', '켄싱턴리조트 서귀포', '켄싱턴리조트 제주중문', '코델리아리조트', '코업시티호텔성산', '코자호텔', '코코스펜션', '코쿤호텔', '콤마게스트하우스', '콤포스텔라 별들의들판', '쿨쿨하우스']\n",
      "68번째 페이지 끝\n",
      "['클럽ES리조트 제주', '클로버비앤비', '킴스캐빈', '킹스통나무', '타미우스골프앤빌리지', '탐라누리', '탐탐56', '탑팰리스호텔', '태성민박', '태흥리조트', '태흥여관', '탱자탱자게스트하우스']\n",
      "69번째 페이지 끝\n",
      "['테디밸리호텔', '테마하우스', '토리코티지카레클린트', '토마토하우스', '토토하우스', '투데이제주펜션', '파더하우스', '파도봐펜션', '파미유스파리조트', '파밀리아호텔', '파인비치', '파인힐호텔']\n",
      "70번째 페이지 끝\n",
      "['파크빌리지', '파크사이드호텔', '팔도민박', '팜밸리리조트', '팜빌리지', '팜힐', '패밀리아팬션', '펜션 수망가라', '펜션 에덴호스텔', '펜션연리', '펜션해다미', '펜션형민박꿈꾸는숲']\n",
      "71번째 페이지 끝\n",
      "['펠리스타운', '포비네오두막게스트하우스', '포시즌펜션', '포유펜션', '포지타노인제주', '포트애비뉴', '폴라리스인제주', '폴에이리조트', '퐁낭하우스제주', '푸르미르 펜션', '풍차와노을 독채펜션', '프라이빗리조트']\n",
      "72번째 페이지 끝\n",
      "['플라마 펜션', '플로라펜션', '피노호텔', '피디스테이션', '피우다 게스트하우스', '하녹펜션', '하늘만큼땅만큼', '하늘을달리다', '하늘정원펜션', '하늘조각', '하늘타리펜션', '하니크라운호텔']\n",
      "73번째 페이지 끝\n",
      "['하도하도 3200', '하루앤하루', '하마다 게스트하우스', '하바다 통나무집', '하얀도화지', '하얀언덕', '하와이펜션', '하이제주호텔', '하쿠나마타타게스트하우스', '한담풍경하우스', '한라앤탐 펜션', '한라하이츠펜션']\n",
      "74번째 페이지 끝\n",
      "['한모살', '함덕삼다펜션', '핫플게스트하우스', '해녀신춘자할망 민박', '해담은스파빌', '해돋는마을', '해뜨는집 (남원)', '해뜨는집 (도두)', '해마관광호텔', '해마지펜션', '해변여행', '해변의집']\n",
      "해뜨는집 (남원)\n",
      "해뜨는집 (도두)\n",
      "75번째 페이지 끝\n",
      "['해비치 바람의집 펜션&카페', '해성펜션', '해아래펜션', '해안풍경펜션', '해오름민박', '해오름정원', '해일월', '해피데이', '해피데이 민박', '해피펜션', '해호텔', '핸즈인제주']\n",
      "76번째 페이지 끝\n",
      "['허브인휴양펜션', '허브펜션 오즈', '헌치 게스트하우스', '헤세드하우스', '헤이 서귀포', '호도하우스', '호텔 더블유 신제주점(hotel W)', '호텔 샬롬제주', '호텔 스카브로', '호텔 앨리스앤트렁크', '호텔 캘리포니아 제주', '호텔더블유 탑동점']\n",
      "호텔 더블유 신제주점(hotel W)\n",
      "77번째 페이지 끝\n",
      "['호텔더원', '호텔빠레브', '호텔서귀피안', '호텔아로하', '호텔엘린', '호텔제이엠', '호텔컬리넌제주', '혼디', '화인호텔', '환상의민박', '황재여관', '훼밀리민박']\n",
      "78번째 페이지 끝\n",
      "['휴마루리조트', '히든스테이', '힐링캠프펜션']\n",
      "79번째 페이지 끝\n"
     ]
    }
   ],
   "source": [
    "for i in range(1,80):\n",
    "    driver.get(url = main_url)\n",
    "    places = [element.text.split('\\n')[1] for element in driver.find_elements_by_css_selector('#content > div > div.cont_wrap > div.recommend_area > ul > li')]\n",
    "    print(places)\n",
    "    main_url = driver.current_url\n",
    "    for idx, place in enumerate(places):\n",
    "        if place not in store_df['name'].tolist():\n",
    "            place_click = driver.find_element_by_css_selector(f'#content > div > div.cont_wrap > div.recommend_area > ul > li:nth-child({idx+1}) > dl > dt > a')\n",
    "            place_click.click()\n",
    "            driver.implicitly_wait(time_to_wait = 20)\n",
    "\n",
    "            tmp_info_dict, twice = click_get_info()\n",
    "            tmp_df = pd.DataFrame(columns = tmp_info_dict.keys(), data = [tmp_info_dict.values()])\n",
    "            store_df = store_df.append(tmp_df)\n",
    "\n",
    "            driver.execute_script(\"window.history.go(-1)\")\n",
    "            if twice==True:\n",
    "                driver.execute_script(\"window.history.go(-1)\")\n",
    "\n",
    "            print(place)\n",
    "        else:\n",
    "            pass\n",
    "    driver.get(url = main_url)\n",
    "    driver.find_element_by_css_selector('#paging > a.spr_com.page-next').click()\n",
    "    driver.implicitly_wait(time_to_wait=60)\n",
    "    main_url = driver.current_url\n",
    "    print(f'{i}번째 페이지 끝')"
   ]
  },
  {
   "cell_type": "code",
   "execution_count": null,
   "id": "2b9b8bae",
   "metadata": {
    "pycharm": {
     "name": "#%%\n"
    }
   },
   "outputs": [],
   "source": [
    "store_df['name'].value_counts()"
   ]
  },
  {
   "cell_type": "code",
   "execution_count": null,
   "id": "603d20b5",
   "metadata": {
    "pycharm": {
     "name": "#%%\n"
    }
   },
   "outputs": [],
   "source": [
    "store_df[store_df['name'] == '해뜨는집']"
   ]
  },
  {
   "cell_type": "markdown",
   "id": "12d18652",
   "metadata": {
    "pycharm": {
     "name": "#%% md\n"
    }
   },
   "source": [
    "- 해뜨는집이 visitjeju 숙박에 두개 있는데 두개가 하나는 남원, 하나는 도두에 위치하고 있어서 다르게 인식됨 그런데 이름에는 해뜨는집으로 공통되게 나오는 문제가 있음\n",
    "- 그래서 하나를 해뜨는집 (남원)으로, 다른 걸 해뜨는집 (도두)로 바꿔주려고 함"
   ]
  },
  {
   "cell_type": "code",
   "execution_count": 93,
   "id": "760bb5be",
   "metadata": {
    "pycharm": {
     "name": "#%%\n"
    }
   },
   "outputs": [],
   "source": [
    "store_df.at[282, 'name'] = '해뜨는집 (남원)'"
   ]
  },
  {
   "cell_type": "code",
   "execution_count": 95,
   "id": "901abc48",
   "metadata": {
    "pycharm": {
     "name": "#%%\n"
    }
   },
   "outputs": [
    {
     "data": {
      "text/html": [
       "<div>\n",
       "<style scoped>\n",
       "    .dataframe tbody tr th:only-of-type {\n",
       "        vertical-align: middle;\n",
       "    }\n",
       "\n",
       "    .dataframe tbody tr th {\n",
       "        vertical-align: top;\n",
       "    }\n",
       "\n",
       "    .dataframe thead th {\n",
       "        text-align: right;\n",
       "    }\n",
       "</style>\n",
       "<table border=\"1\" class=\"dataframe\">\n",
       "  <thead>\n",
       "    <tr style=\"text-align: right;\">\n",
       "      <th></th>\n",
       "      <th>name</th>\n",
       "      <th>stars</th>\n",
       "      <th>tags</th>\n",
       "      <th>address</th>\n",
       "      <th>telephone</th>\n",
       "      <th>like</th>\n",
       "      <th>heart</th>\n",
       "      <th>numreview</th>\n",
       "      <th>view</th>\n",
       "      <th>detail_text</th>\n",
       "      <th>rec_tour</th>\n",
       "      <th>rec_restaurant</th>\n",
       "      <th>rec_lodgment</th>\n",
       "      <th>rec_bigdata</th>\n",
       "      <th>detail_side_box</th>\n",
       "    </tr>\n",
       "  </thead>\n",
       "  <tbody>\n",
       "    <tr>\n",
       "      <th>953</th>\n",
       "      <td>해뜨는집</td>\n",
       "      <td></td>\n",
       "      <td>#펜션 #숙소 #휴양펜션 #독채 #자연경관 #정원</td>\n",
       "      <td>제주특별자치도 서귀포시 남원읍 하신로 31</td>\n",
       "      <td>(+82) 010-8861-7651</td>\n",
       "      <td>0</td>\n",
       "      <td>1</td>\n",
       "      <td>0</td>\n",
       "      <td>1,029</td>\n",
       "      <td>1, 2층 전층을 다 이용하는 단독형 펜션이다. 1층에는 주방, 거실, 침실이 있고...</td>\n",
       "      <td>[남원 위미2리 어촌계, 사려니오름, 헌마공신김만일기념관]</td>\n",
       "      <td>[유나카페, 로드3.7 (road3.7), 육값하네식육가든]</td>\n",
       "      <td>[노블렛휴양펜션, 미소가펜션, 부영CC관광호텔]</td>\n",
       "      <td>[효명사, 고살리숲길, 망장포]</td>\n",
       "      <td>{'소개': '한라산과 바다를 전부 조망하는 단독형 펜션', '상세 정보': '체크...</td>\n",
       "    </tr>\n",
       "    <tr>\n",
       "      <th>954</th>\n",
       "      <td>해뜨는집</td>\n",
       "      <td></td>\n",
       "      <td>#휴식 #숙소 #펜션 #휴양펜션 #자연경관 #주차장 #힐링</td>\n",
       "      <td>제주특별자치도 제주시 서해안로 234</td>\n",
       "      <td>(+82) 064-742-7701</td>\n",
       "      <td>0</td>\n",
       "      <td>0</td>\n",
       "      <td>0</td>\n",
       "      <td>1,373</td>\n",
       "      <td>해뜨는 집 전 객실에서 일출을 조망 할 수 있고,. 강중훈 시인이 직접 운영하며 노...</td>\n",
       "      <td>[서부두명품횟집거리, 산지항 옛터, 삼화포구]</td>\n",
       "      <td>[녹원전통찻집, 24시 뼈다귀탕 제주점, 국수와냉면]</td>\n",
       "      <td>[삼다펜션, 게스트하우스7, 호텔컬리넌제주]</td>\n",
       "      <td>[미래하우스, 레터스 투 시리얼, 빅토리아]</td>\n",
       "      <td>{'소개': '강중훈 시인이 운영하는 펜션', '이용 시간': 'Checkin : ...</td>\n",
       "    </tr>\n",
       "  </tbody>\n",
       "</table>\n",
       "</div>"
      ],
      "text/plain": [
       "     name stars                              tags                  address  \\\n",
       "953  해뜨는집             #펜션 #숙소 #휴양펜션 #독채 #자연경관 #정원  제주특별자치도 서귀포시 남원읍 하신로 31   \n",
       "954  해뜨는집        #휴식 #숙소 #펜션 #휴양펜션 #자연경관 #주차장 #힐링     제주특별자치도 제주시 서해안로 234   \n",
       "\n",
       "               telephone like heart numreview   view  \\\n",
       "953  (+82) 010-8861-7651    0     1         0  1,029   \n",
       "954   (+82) 064-742-7701    0     0         0  1,373   \n",
       "\n",
       "                                           detail_text  \\\n",
       "953  1, 2층 전층을 다 이용하는 단독형 펜션이다. 1층에는 주방, 거실, 침실이 있고...   \n",
       "954  해뜨는 집 전 객실에서 일출을 조망 할 수 있고,. 강중훈 시인이 직접 운영하며 노...   \n",
       "\n",
       "                             rec_tour                     rec_restaurant  \\\n",
       "953  [남원 위미2리 어촌계, 사려니오름, 헌마공신김만일기념관]  [유나카페, 로드3.7 (road3.7), 육값하네식육가든]   \n",
       "954         [서부두명품횟집거리, 산지항 옛터, 삼화포구]      [녹원전통찻집, 24시 뼈다귀탕 제주점, 국수와냉면]   \n",
       "\n",
       "                   rec_lodgment               rec_bigdata  \\\n",
       "953  [노블렛휴양펜션, 미소가펜션, 부영CC관광호텔]         [효명사, 고살리숲길, 망장포]   \n",
       "954    [삼다펜션, 게스트하우스7, 호텔컬리넌제주]  [미래하우스, 레터스 투 시리얼, 빅토리아]   \n",
       "\n",
       "                                       detail_side_box  \n",
       "953  {'소개': '한라산과 바다를 전부 조망하는 단독형 펜션', '상세 정보': '체크...  \n",
       "954  {'소개': '강중훈 시인이 운영하는 펜션', '이용 시간': 'Checkin : ...  "
      ]
     },
     "execution_count": 95,
     "metadata": {},
     "output_type": "execute_result"
    }
   ],
   "source": [
    "store_df.reset_index(drop=True, inplace=True)\n",
    "store_df[store_df['name'] == '해뜨는집']"
   ]
  },
  {
   "cell_type": "code",
   "execution_count": 98,
   "id": "dd7c327b",
   "metadata": {
    "pycharm": {
     "name": "#%%\n"
    }
   },
   "outputs": [],
   "source": [
    "s = store_df.copy()"
   ]
  },
  {
   "cell_type": "code",
   "execution_count": 104,
   "id": "b92d0f6b",
   "metadata": {
    "pycharm": {
     "name": "#%%\n"
    }
   },
   "outputs": [],
   "source": [
    "store_df.at[954, 'name' ] = '해뜨는집 (도두)'\n",
    "store_df = store_df.drop(953, axis=0)\n",
    "store_df = store_df.drop_duplicates('name').reset_index(drop=True)"
   ]
  },
  {
   "cell_type": "code",
   "execution_count": 105,
   "id": "0ed19239",
   "metadata": {
    "pycharm": {
     "name": "#%%\n"
    }
   },
   "outputs": [],
   "source": [
    "store_df.to_csv('data/VISITJEJU_숙박크롤링_FINAL.csv', encoding='utf-8-sig', index=False)"
   ]
  },
  {
   "cell_type": "markdown",
   "id": "27c99e27",
   "metadata": {},
   "source": [
    "## (2) 비짓제주 관광지 데이터 크롤링"
   ]
  },
  {
   "cell_type": "code",
   "execution_count": 60,
   "id": "831ee7a2",
   "metadata": {
    "pycharm": {
     "name": "#%%\n"
    }
   },
   "outputs": [],
   "source": [
    "url = 'https://www.visitjeju.net/kr/detail/list?menuId=DOM_000001707000000000&cate1cd=cate0000000004#p1&pageSize=12&sortListType=reviewcnt&viewType=thumb&isShowBtag&tag' #보여지는 형태를 꼭 네모 네개 짜리로 바꿀 것"
   ]
  },
  {
   "cell_type": "code",
   "execution_count": 8,
   "id": "62f9579e",
   "metadata": {
    "pycharm": {
     "name": "#%%\n"
    }
   },
   "outputs": [],
   "source": [
    "driver = webdriver.Chrome(executable_path = 'D:\\Python_417\\chromedriver')\n",
    "driver.get(url=url)"
   ]
  },
  {
   "cell_type": "code",
   "execution_count": 9,
   "id": "3b1730a1",
   "metadata": {
    "pycharm": {
     "name": "#%%\n"
    }
   },
   "outputs": [],
   "source": [
    "# implicit Waits\n",
    "driver.implicitly_wait(time_to_wait = 5)"
   ]
  },
  {
   "cell_type": "code",
   "execution_count": 10,
   "id": "a62597b0",
   "metadata": {
    "pycharm": {
     "name": "#%%\n"
    }
   },
   "outputs": [],
   "source": [
    "cleaning = re.compile('<p.*=\"\">')"
   ]
  },
  {
   "cell_type": "code",
   "execution_count": 344,
   "id": "45992071",
   "metadata": {
    "pycharm": {
     "name": "#%%\n"
    }
   },
   "outputs": [],
   "source": [
    "html = driver.page_source\n",
    "soup = BeautifulSoup(html, 'html.parser')\n",
    "places = soup.select('dt>a>p.s_tit') # 제목\n",
    "places = [cleaning.sub('', str(name))[:-4] for name in places]\n",
    "# plc_tag = soup.find_all('p', class_= 'item_tag prev')\n",
    "# plc_tag = [(cleaning.sub('', str(tags))[:-4]).strip() for tags in plc_tag]\n",
    "# plc_tag는 안에 들어가면 더 있기 때문에 들어가서 구하는 걸로 하자"
   ]
  },
  {
   "cell_type": "code",
   "execution_count": 11,
   "id": "8e03099b",
   "metadata": {
    "pycharm": {
     "name": "#%%\n"
    }
   },
   "outputs": [],
   "source": [
    "tmp = driver.find_element_by_css_selector('#content > div > div.cont_wrap > div.recommend_area > ul > li:nth-child(1) > dl > dt > a')\n",
    "# 여기의 li:nth-child(1) 안의 숫자를 바꿔가면서 클릭하면 됨\n",
    "tmp.click()"
   ]
  },
  {
   "cell_type": "code",
   "execution_count": 98,
   "id": "d756b393",
   "metadata": {
    "pycharm": {
     "name": "#%%\n"
    }
   },
   "outputs": [],
   "source": [
    "def click_get_info():\n",
    "    twice = False\n",
    "    try:\n",
    "        name = driver.find_element_by_css_selector('#content > div.cont.detail_page.detail_style > div.sub_visual_wrap > div.inner_wrap > div.sub_info_area > div.sub_info_title > h3').text\n",
    "        stars = driver.find_element_by_css_selector(\n",
    "            '#content > div.cont.detail_page.detail_style > div.sub_visual_wrap > div.inner_wrap > div.sub_info_area > div.score_area_l > p').text[\n",
    "              9:-1]\n",
    "        tags = driver.find_element_by_css_selector(\n",
    "            '#content > div.cont.detail_page.detail_style > div.sub_visual_wrap > div.inner_wrap > div.sub_info_area > div.tag_area').text.replace(\n",
    "            '\\n', ' ')\n",
    "        address = driver.find_element_by_css_selector(\n",
    "            '#content > div.cont.detail_page.detail_style > div.sub_visual_wrap > div.inner_wrap > div.sub_info_area > div.basic_information > div:nth-child(2) > p.info_sub_cont').text\n",
    "        telephone = driver.find_element_by_css_selector(\n",
    "            '#content > div.cont.detail_page.detail_style > div.sub_visual_wrap > div.inner_wrap > div.sub_info_area > div.basic_information > div:nth-child(3) > p.info_sub_cont').text\n",
    "        like = driver.find_element_by_css_selector(\n",
    "            '#content > div.cont.detail_page.detail_style > div.cont_wrap.sub_visual > ul > li:nth-child(1) > button > p.appraisal_cnt').text\n",
    "        heart = driver.find_element_by_css_selector(\n",
    "            '#content > div.cont.detail_page.detail_style > div.cont_wrap.sub_visual > ul > li:nth-child(2) > button > p.appraisal_cnt').text\n",
    "        numreview = driver.find_element_by_css_selector(\n",
    "            '#content > div.cont.detail_page.detail_style > div.cont_wrap.sub_visual > ul > li:nth-child(3) > p.appraisal_cnt').text\n",
    "        view = driver.find_element_by_css_selector(\n",
    "            '#content > div.cont.detail_page.detail_style > div.cont_wrap.sub_visual > ul > li:nth-child(6) > p.appraisal_cnt').text\n",
    "        ### 상세정보\n",
    "        detail_text = driver.find_element_by_css_selector(\n",
    "            '#tab0 > div').text.replace('\\n', ' ')\n",
    "        ### 추천콘텐츠\n",
    "        #### 관광지\n",
    "        rec_tour = driver.find_element_by_css_selector(\n",
    "            '#content > div.cont.detail_page.detail_style > div.cont_wrap.sub_visual > div.add2020_detail > div.add2020_detail_right > div:nth-child(1) > div.add2020_detail_side_contents').text.split('\\n')[0:-1:2]\n",
    "        #### 음식점\n",
    "        try:\n",
    "            driver.find_element_by_css_selector(\n",
    "                '#content > div.cont.detail_page.detail_style > div.cont_wrap.sub_visual > div.add2020_detail > div.add2020_detail_right > div:nth-child(1) > div.add2020_detail_side_category > ul > li.add2020_detail_restaurant > a').click()\n",
    "            rec_restaurant = driver.find_element_by_css_selector(\n",
    "                '#content > div.cont.detail_page.detail_style > div.cont_wrap.sub_visual > div.add2020_detail > div.add2020_detail_right > div:nth-child(1) > div.add2020_detail_side_contents').text.split('\\n')[0:-1:2]\n",
    "        except:\n",
    "            driver.find_element_by_css_selector('#tab0 > h2').click()\n",
    "            driver.find_element_by_css_selector(\n",
    "                '#content > div.cont.detail_page.detail_style > div.cont_wrap.sub_visual > div.add2020_detail > div.add2020_detail_right > div:nth-child(1) > div.add2020_detail_side_category > ul > li.add2020_detail_restaurant > a').click()\n",
    "            rec_restaurant = driver.find_element_by_css_selector(\n",
    "                '#content > div.cont.detail_page.detail_style > div.cont_wrap.sub_visual > div.add2020_detail > div.add2020_detail_right > div:nth-child(1) > div.add2020_detail_side_contents').text.split('\\n')[0:-1:2]\n",
    "            twice=True\n",
    "        #### 숙박\n",
    "        driver.find_element_by_css_selector(\n",
    "            '#content > div.cont.detail_page.detail_style > div.cont_wrap.sub_visual > div.add2020_detail > div.add2020_detail_right > div:nth-child(1) > div.add2020_detail_side_category > ul > li.add2020_detail_lodgment > a').click()\n",
    "        rec_lodgment = driver.find_element_by_css_selector(\n",
    "            '#content > div.cont.detail_page.detail_style > div.cont_wrap.sub_visual > div.add2020_detail > div.add2020_detail_right > div:nth-child(1) > div.add2020_detail_side_contents').text.split('\\n')[0:-1:2]\n",
    "        #### 빅데이터\n",
    "        driver.find_element_by_css_selector(\n",
    "            '#content > div.cont.detail_page.detail_style > div.cont_wrap.sub_visual > div.add2020_detail > div.add2020_detail_right > div:nth-child(1) > div.add2020_detail_side_category > ul > li.add2020_detail_bigdata > a').click()\n",
    "        rec_bigdata = driver.find_element_by_css_selector(\n",
    "            '#content > div.cont.detail_page.detail_style > div.cont_wrap.sub_visual > div.add2020_detail > div.add2020_detail_right > div:nth-child(1) > div.add2020_detail_side_contents').text.split('\\n')[0:-1:2]\n",
    "        ### 이용안내\n",
    "        detail_side_box = driver.find_element_by_css_selector(\n",
    "            '#content > div.cont.detail_page.detail_style > div.cont_wrap.sub_visual > div.add2020_detail > div.add2020_detail_right > div:nth-child(2) > div > dl').text.split('\\n')\n",
    "    except:\n",
    "        name = driver.find_element_by_css_selector('#content > div.cont.detail_page.detail_style2 > div.sub_visual_wrap > div.inner_wrap > div.sub_info_area > div.sub_info_title > h3').text\n",
    "        stars = driver.find_element_by_css_selector(\n",
    "            '#content > div.cont.detail_page.detail_style2 > div.sub_visual_wrap > div.inner_wrap > div.sub_info_area > div.score_area_l > p').text[9:-1]\n",
    "        tags = driver.find_element_by_css_selector(\n",
    "            '#content > div.cont.detail_page.detail_style2 > div.sub_visual_wrap > div.inner_wrap > div.sub_info_area > div.tag_area').text.replace('\\n', ' ')\n",
    "        tags+=' '+driver.find_element_by_css_selector('#content > div.cont.detail_page.detail_style2 > div.sub_visual_wrap > div.inner_wrap > div.sub_info_area > div.tag_area > p:nth-child(2)').text.replace('\\n','')\n",
    "        address = driver.find_element_by_css_selector(\n",
    "            '#content > div.cont.detail_page.detail_style2 > div.sub_visual_wrap > div.inner_wrap > div.sub_info_area > div.basic_information > div:nth-child(2) > p.info_sub_cont').text\n",
    "        telephone = driver.find_element_by_css_selector(\n",
    "             '#content > div.cont.detail_page.detail_style2 > div.sub_visual_wrap > div.inner_wrap > div.sub_info_area > div.basic_information > div:nth-child(3) > p.info_sub_cont').text\n",
    "        ## 좋아요\n",
    "        like = driver.find_element_by_css_selector(\n",
    "            '#content > div.cont.detail_page.detail_style2 > div.cont_wrap.sub_visual > ul > li:nth-child(1) > button > p.appraisal_cnt').text\n",
    "        ### 찜하기\n",
    "        heart = driver.find_element_by_css_selector(\n",
    "            '#content > div.cont.detail_page.detail_style2 > div.cont_wrap.sub_visual > ul > li:nth-child(2) > button > p.appraisal_cnt').text\n",
    "        ### 리뷰\n",
    "        numreview = driver.find_element_by_css_selector(\n",
    "            '#content > div.cont.detail_page.detail_style2 > div.cont_wrap.sub_visual > ul > li:nth-child(3) > p.appraisal_cnt').text\n",
    "        ### 조회\n",
    "        view = driver.find_element_by_css_selector(\n",
    "            '#content > div.cont.detail_page.detail_style2 > div.cont_wrap.sub_visual > ul > li:nth-child(6) > p.appraisal_cnt').text\n",
    "        ### 상세정보\n",
    "        detail_text = driver.find_element_by_css_selector('#tab0 > div').text.replace('\\n', ' ')\n",
    "        ### 추천콘텐츠\n",
    "        #### 관광지\n",
    "        rec_tour = driver.find_element_by_css_selector('#content > div.cont.detail_page.detail_style2 > div.cont_wrap.sub_visual > div.add2020_detail > div.add2020_detail_right > div:nth-child(1) > div.add2020_detail_side_contents').text.split('\\n')[0:-1:2]\n",
    "        #### 음식점\n",
    "        try:\n",
    "            driver.find_element_by_css_selector('#content > div.cont.detail_page.detail_style2 > div.cont_wrap.sub_visual > div.add2020_detail > div.add2020_detail_right > div:nth-child(1) > div.add2020_detail_side_category > ul > li.add2020_detail_restaurant > a').click()\n",
    "            rec_restaurant = driver.find_element_by_css_selector('#content > div.cont.detail_page.detail_style2 > div.cont_wrap.sub_visual > div.add2020_detail > div.add2020_detail_right > div:nth-child(1) > div.add2020_detail_side_contents').text.split('\\n')[0:-1:2]\n",
    "        except:\n",
    "            driver.find_element_by_css_selector('#tab0 > h2').click()\n",
    "            driver.find_element_by_css_selector('#content > div.cont.detail_page.detail_style2 > div.cont_wrap.sub_visual > div.add2020_detail > div.add2020_detail_right > div:nth-child(1) > div.add2020_detail_side_category > ul > li.add2020_detail_restaurant > a').click()\n",
    "            rec_restaurant = driver.find_element_by_css_selector('#content > div.cont.detail_page.detail_style2 > div.cont_wrap.sub_visual > div.add2020_detail > div.add2020_detail_right > div:nth-child(1) > div.add2020_detail_side_contents').text.split('\\n')[0:-1:2]\n",
    "            twice=True\n",
    "        #### 숙박\n",
    "        driver.find_element_by_css_selector('#content > div.cont.detail_page.detail_style2 > div.cont_wrap.sub_visual > div.add2020_detail > div.add2020_detail_right > div:nth-child(1) > div.add2020_detail_side_category > ul > li.add2020_detail_lodgment > a').click()\n",
    "        rec_lodgment = driver.find_element_by_css_selector('#content > div.cont.detail_page.detail_style2 > div.cont_wrap.sub_visual > div.add2020_detail > div.add2020_detail_right > div:nth-child(1) > div.add2020_detail_side_contents').text.split('\\n')[0:-1:2]\n",
    "        #### 빅데이터\n",
    "        driver.find_element_by_css_selector('#content > div.cont.detail_page.detail_style2 > div.cont_wrap.sub_visual > div.add2020_detail > div.add2020_detail_right > div:nth-child(1) > div.add2020_detail_side_category > ul > li.add2020_detail_bigdata > a').click()\n",
    "        rec_bigdata = driver.find_element_by_css_selector('#content > div.cont.detail_page.detail_style2 > div.cont_wrap.sub_visual > div.add2020_detail > div.add2020_detail_right > div:nth-child(1) > div.add2020_detail_side_contents').text.split('\\n')[0:-1:2]\n",
    "        ### 이용안내\n",
    "        detail_side_box = driver.find_element_by_css_selector('#content > div.cont.detail_page.detail_style2 > div.cont_wrap.sub_visual > div.add2020_detail > div.add2020_detail_right > div:nth-child(2) > div > dl').text.split('\\n')\n",
    "\n",
    "    detail_side_box = { detail_side_box[i] : detail_side_box[i+1] for i in range(0,len(detail_side_box), 2) }\n",
    "\n",
    "    return {'name' : name, 'stars' : stars, 'tags': tags, 'address' : address, 'telephone' : telephone, 'like' : like, 'heart' : heart, 'numreview' : numreview, 'view' : view, 'detail_text' : detail_text, 'rec_tour' : rec_tour, 'rec_restaurant' : rec_restaurant, 'rec_lodgment' :  rec_lodgment, 'rec_bigdata' : rec_bigdata, 'detail_side_box' : detail_side_box}, twice"
   ]
  },
  {
   "cell_type": "code",
   "execution_count": 99,
   "id": "20871815",
   "metadata": {
    "pycharm": {
     "name": "#%%\n"
    }
   },
   "outputs": [],
   "source": [
    "driver.get(url=url)\n",
    "driver.maximize_window()\n",
    "driver.implicitly_wait(time_to_wait = 5)\n",
    "cleaning = re.compile('<p.*=\"\">')\n",
    "final_df = pd.DataFrame(columns = ['name', 'stars', 'tags', 'address', 'telephone', 'like', 'heart', 'numreview', 'view', 'detail_text', 'rec_tour',\n",
    "                                   'rec_restaurant', 'rec_lodgment', 'rec_bigdata', 'detail_side_box'])\n",
    "page_number = int(driver.find_element_by_css_selector('#content > div > div.cont_wrap > div.recommend_area > div.theme_tit_area.clear > div > div > div.counter > p > strong').text)//12"
   ]
  },
  {
   "cell_type": "code",
   "execution_count": 100,
   "id": "9edda179",
   "metadata": {
    "pycharm": {
     "name": "#%%\n"
    }
   },
   "outputs": [],
   "source": [
    "def crawling_tour(driver, final_df):\n",
    "    places = [element.text.split('\\n')[1] for element in driver.find_elements_by_css_selector('#content > div > div.cont_wrap > div.recommend_area > ul > li')]\n",
    "    for i in range(1,len(places)+1):\n",
    "        place_click = driver.find_element_by_css_selector(f'#content > div > div.cont_wrap > div.recommend_area > ul > li:nth-child({i}) > dl > dt > a')\n",
    "        place_click.click()\n",
    "        driver.implicitly_wait(time_to_wait = 20)\n",
    "\n",
    "        tmp_info_dict, twice = click_get_info()\n",
    "        tmp_df = pd.DataFrame(columns = tmp_info_dict.keys(), data = [tmp_info_dict.values()])\n",
    "        final_df = final_df.append(tmp_df)\n",
    "\n",
    "        driver.execute_script(\"window.history.go(-1)\")\n",
    "        if twice==True:\n",
    "            driver.execute_script(\"window.history.go(-1)\")\n",
    "\n",
    "        print(f'{i}번째 관광지')\n",
    "    # driver.execute_script(\"window.history.go(-1)\")\n",
    "    return final_df"
   ]
  },
  {
   "cell_type": "code",
   "execution_count": null,
   "id": "d2832f9a",
   "metadata": {
    "pycharm": {
     "is_executing": true,
     "name": "#%%\n"
    }
   },
   "outputs": [
    {
     "name": "stdout",
     "output_type": "stream",
     "text": [
      "1번째 관광지\n",
      "2번째 관광지\n",
      "3번째 관광지\n",
      "4번째 관광지\n",
      "5번째 관광지\n",
      "6번째 관광지\n",
      "7번째 관광지\n",
      "8번째 관광지\n",
      "9번째 관광지\n",
      "10번째 관광지\n",
      "11번째 관광지\n",
      "12번째 관광지\n",
      "1번째 관광지\n",
      "2번째 관광지\n",
      "3번째 관광지\n",
      "4번째 관광지\n",
      "5번째 관광지\n",
      "6번째 관광지\n",
      "7번째 관광지\n",
      "8번째 관광지\n",
      "9번째 관광지\n",
      "10번째 관광지\n",
      "11번째 관광지\n",
      "12번째 관광지\n",
      "1번째 관광지\n",
      "2번째 관광지\n",
      "3번째 관광지\n",
      "4번째 관광지\n",
      "5번째 관광지\n",
      "6번째 관광지\n",
      "7번째 관광지\n",
      "8번째 관광지\n",
      "9번째 관광지\n",
      "10번째 관광지\n",
      "11번째 관광지\n",
      "12번째 관광지\n",
      "1번째 관광지\n",
      "2번째 관광지\n",
      "3번째 관광지\n",
      "4번째 관광지\n",
      "5번째 관광지\n",
      "6번째 관광지\n",
      "7번째 관광지\n",
      "8번째 관광지\n",
      "9번째 관광지\n",
      "10번째 관광지\n",
      "11번째 관광지\n",
      "12번째 관광지\n",
      "1번째 관광지\n",
      "2번째 관광지\n",
      "3번째 관광지\n",
      "4번째 관광지\n",
      "5번째 관광지\n",
      "6번째 관광지\n",
      "7번째 관광지\n",
      "8번째 관광지\n",
      "9번째 관광지\n",
      "10번째 관광지\n",
      "11번째 관광지\n",
      "12번째 관광지\n",
      "1번째 관광지\n",
      "2번째 관광지\n",
      "3번째 관광지\n",
      "4번째 관광지\n",
      "5번째 관광지\n",
      "6번째 관광지\n",
      "7번째 관광지\n",
      "8번째 관광지\n",
      "9번째 관광지\n",
      "10번째 관광지\n",
      "11번째 관광지\n",
      "12번째 관광지\n",
      "1번째 관광지\n",
      "2번째 관광지\n",
      "3번째 관광지\n",
      "4번째 관광지\n",
      "5번째 관광지\n",
      "6번째 관광지\n",
      "7번째 관광지\n",
      "8번째 관광지\n",
      "9번째 관광지\n",
      "10번째 관광지\n",
      "11번째 관광지\n",
      "12번째 관광지\n",
      "1번째 관광지\n",
      "2번째 관광지\n",
      "3번째 관광지\n",
      "4번째 관광지\n",
      "5번째 관광지\n",
      "6번째 관광지\n",
      "7번째 관광지\n",
      "8번째 관광지\n",
      "9번째 관광지\n",
      "10번째 관광지\n",
      "11번째 관광지\n",
      "12번째 관광지\n",
      "1번째 관광지\n",
      "2번째 관광지\n",
      "3번째 관광지\n",
      "4번째 관광지\n",
      "5번째 관광지\n",
      "6번째 관광지\n",
      "7번째 관광지\n",
      "8번째 관광지\n",
      "9번째 관광지\n",
      "10번째 관광지\n",
      "11번째 관광지\n",
      "12번째 관광지\n",
      "13번째 관광지\n",
      "14번째 관광지\n",
      "15번째 관광지\n",
      "16번째 관광지\n",
      "17번째 관광지\n",
      "18번째 관광지\n",
      "19번째 관광지\n",
      "20번째 관광지\n",
      "21번째 관광지\n",
      "22번째 관광지\n",
      "23번째 관광지\n",
      "24번째 관광지\n",
      "25번째 관광지\n",
      "26번째 관광지\n",
      "27번째 관광지\n",
      "28번째 관광지\n",
      "29번째 관광지\n",
      "30번째 관광지\n",
      "31번째 관광지\n",
      "32번째 관광지\n",
      "33번째 관광지\n",
      "34번째 관광지\n",
      "35번째 관광지\n",
      "36번째 관광지\n",
      "37번째 관광지\n",
      "38번째 관광지\n",
      "39번째 관광지\n",
      "40번째 관광지\n",
      "41번째 관광지\n",
      "42번째 관광지\n",
      "43번째 관광지\n",
      "44번째 관광지\n",
      "45번째 관광지\n",
      "46번째 관광지\n",
      "47번째 관광지\n",
      "48번째 관광지\n",
      "49번째 관광지\n",
      "50번째 관광지\n",
      "51번째 관광지\n",
      "52번째 관광지\n",
      "53번째 관광지\n",
      "54번째 관광지\n",
      "55번째 관광지\n",
      "56번째 관광지\n",
      "57번째 관광지\n",
      "58번째 관광지\n"
     ]
    }
   ],
   "source": [
    "for i in range(2,page_number):\n",
    "    final_df = crawling_tour(driver, final_df)\n",
    "    driver.find_element_by_css_selector('#paging > a.spr_com.page-next').click()\n",
    "    driver.implicitly_wait(time_to_wait=10)\n",
    "    final_df"
   ]
  },
  {
   "cell_type": "code",
   "execution_count": 50,
   "id": "944df974",
   "metadata": {
    "pycharm": {
     "name": "#%%\n"
    }
   },
   "outputs": [],
   "source": [
    "final_df = final_df.drop_duplicates('name').reset_index(drop=True)"
   ]
  },
  {
   "cell_type": "code",
   "execution_count": null,
   "id": "cbd47213",
   "metadata": {},
   "outputs": [],
   "source": [
    "final_df.to_csv('data/VISITJEJU_관광지정보크롤링_0914.csv', encoding='utf-8-sig', index=False)"
   ]
  },
  {
   "cell_type": "markdown",
   "id": "4b055437",
   "metadata": {},
   "source": [
    "## (3) 비짓제주 F&B 데이터 크롤링"
   ]
  },
  {
   "cell_type": "code",
   "execution_count": null,
   "id": "20ebf313",
   "metadata": {},
   "outputs": [],
   "source": []
  },
  {
   "cell_type": "code",
   "execution_count": null,
   "id": "39071234",
   "metadata": {},
   "outputs": [],
   "source": []
  }
 ],
 "metadata": {
  "hide_input": false,
  "kernelspec": {
   "display_name": "Python 3",
   "language": "python",
   "name": "python3"
  },
  "language_info": {
   "codemirror_mode": {
    "name": "ipython",
    "version": 3
   },
   "file_extension": ".py",
   "mimetype": "text/x-python",
   "name": "python",
   "nbconvert_exporter": "python",
   "pygments_lexer": "ipython3",
   "version": "3.9.4"
  }
 },
 "nbformat": 4,
 "nbformat_minor": 5
}
