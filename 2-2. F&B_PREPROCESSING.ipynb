{
 "cells": [
  {
   "cell_type": "markdown",
   "id": "0cd2bb6c",
   "metadata": {},
   "source": [
    "# F&B데이터 전처리 \n",
    "\n",
    "\n",
    "1. VISITJEJU 로그 데이터 전처리\n",
    "    - 현재 운영되고 있는 식당 및 카페 정보만 반영하기 위해 VISITJEJU 크롤링 데이터로 필터링 \n",
    "    \n",
    "\n",
    "2. 주소 변환 및 좌표 추출  \n",
    "    - 카카오API 활용해 도로명주소->지번주소 변환 및 좌표 추출\n",
    "\n",
    "\n",
    "3. 매출액 상위 가맹점 데이터로 가격정보 추가  \n",
    "    - 제주지역 매출액상위 가맹점 데이터(JEJU_MERCHANT)의 매출구간 중위수 /20대 고객의 요일시간대별 승인건수합으로 대체\n",
    "    - NA값은 추후 네이버지도 크롤링 데이터의 메뉴평균 가격정보 대체 \n",
    "\n",
    "\n",
    "4. 지번주소 기준 온실가스배출량 데이터 병합 \n",
    "    - **공간 탄소배출량 계산**\n",
    "   \n",
    "\n",
    "5. 가격정보 대체\n",
    "    - 네이버맵 크롤링 데이터 정제\n",
    "    - 네이버맵 크롤링 데이터 내 메뉴 평균 데이터로 가격 결측 데이터 대체  \n",
    "\n",
    "\n",
    "6. 메뉴군 분류 및 평균 탄소 배출량 NA대체\n",
    "    - 중분류 카테고리 생성하고 카테고리 평균 탄소배출량으로 결측치 대체\n",
    "    - 카테고리 **음식별 탄소배출량**도 고려하여 계산\n"
   ]
  },
  {
   "cell_type": "code",
   "execution_count": 1,
   "id": "17659c02",
   "metadata": {},
   "outputs": [],
   "source": [
    "import warnings\n",
    "warnings.filterwarnings(action='ignore')"
   ]
  },
  {
   "cell_type": "code",
   "execution_count": 2,
   "id": "75d14ce9",
   "metadata": {},
   "outputs": [],
   "source": [
    "import pandas as pd\n",
    "import numpy as np\n",
    "import re\n",
    "import requests\n",
    "import json\n",
    "import matplotlib.pyplot as plt\n",
    "import collections\n",
    "import ast"
   ]
  },
  {
   "cell_type": "code",
   "execution_count": 3,
   "id": "bd085fe8",
   "metadata": {},
   "outputs": [],
   "source": [
    "#pd.set_option('display.max_rows', None)\n",
    "#pd.set_option('display.max_columns', None)"
   ]
  },
  {
   "cell_type": "markdown",
   "id": "50bb45ed",
   "metadata": {},
   "source": [
    "## 1. VISITJEJU 로그 데이터 전처리\n",
    "- 비짓제주 로그 데이터 중 음식점 데이터만 추출\n",
    "- 크롤링 데이터 기준 필터링하여 현재 운영 중인 정보만 반영"
   ]
  },
  {
   "cell_type": "markdown",
   "id": "8611e718",
   "metadata": {},
   "source": [
    "### 1-(1) 음식점 데이터 필터링"
   ]
  },
  {
   "cell_type": "code",
   "execution_count": 4,
   "id": "51355f05",
   "metadata": {},
   "outputs": [],
   "source": [
    "vj_view = pd.read_csv('data/PRE_JT_MT_ACCTO_TRRSRT_SCCNT_LIST.csv')"
   ]
  },
  {
   "cell_type": "code",
   "execution_count": 5,
   "id": "c726ed8b",
   "metadata": {},
   "outputs": [
    {
     "data": {
      "text/html": [
       "<div>\n",
       "<style scoped>\n",
       "    .dataframe tbody tr th:only-of-type {\n",
       "        vertical-align: middle;\n",
       "    }\n",
       "\n",
       "    .dataframe tbody tr th {\n",
       "        vertical-align: top;\n",
       "    }\n",
       "\n",
       "    .dataframe thead th {\n",
       "        text-align: right;\n",
       "    }\n",
       "</style>\n",
       "<table border=\"1\" class=\"dataframe\">\n",
       "  <thead>\n",
       "    <tr style=\"text-align: right;\">\n",
       "      <th></th>\n",
       "      <th>AREA_NM_PRE</th>\n",
       "      <th>CL_NM</th>\n",
       "      <th>MAR_VIEW_CO</th>\n",
       "      <th>NOV_VIEW_CO</th>\n",
       "    </tr>\n",
       "  </thead>\n",
       "  <tbody>\n",
       "    <tr>\n",
       "      <th>0</th>\n",
       "      <td>1080칼국수</td>\n",
       "      <td>음식점</td>\n",
       "      <td>9</td>\n",
       "      <td>69</td>\n",
       "    </tr>\n",
       "    <tr>\n",
       "      <th>1</th>\n",
       "      <td>1100고지</td>\n",
       "      <td>관광지</td>\n",
       "      <td>438</td>\n",
       "      <td>541</td>\n",
       "    </tr>\n",
       "    <tr>\n",
       "      <th>2</th>\n",
       "      <td>1100고지습지</td>\n",
       "      <td>관광지</td>\n",
       "      <td>613</td>\n",
       "      <td>960</td>\n",
       "    </tr>\n",
       "    <tr>\n",
       "      <th>3</th>\n",
       "      <td>1112도로</td>\n",
       "      <td>관광지</td>\n",
       "      <td>60</td>\n",
       "      <td>112</td>\n",
       "    </tr>\n",
       "    <tr>\n",
       "      <th>4</th>\n",
       "      <td>1915지오하우스</td>\n",
       "      <td>숙박</td>\n",
       "      <td>38</td>\n",
       "      <td>47</td>\n",
       "    </tr>\n",
       "    <tr>\n",
       "      <th>5</th>\n",
       "      <td>1950하우스</td>\n",
       "      <td>음식점</td>\n",
       "      <td>17</td>\n",
       "      <td>48</td>\n",
       "    </tr>\n",
       "  </tbody>\n",
       "</table>\n",
       "</div>"
      ],
      "text/plain": [
       "  AREA_NM_PRE CL_NM  MAR_VIEW_CO  NOV_VIEW_CO\n",
       "0     1080칼국수   음식점            9           69\n",
       "1      1100고지   관광지          438          541\n",
       "2    1100고지습지   관광지          613          960\n",
       "3      1112도로   관광지           60          112\n",
       "4   1915지오하우스    숙박           38           47\n",
       "5     1950하우스   음식점           17           48"
      ]
     },
     "execution_count": 5,
     "metadata": {},
     "output_type": "execute_result"
    }
   ],
   "source": [
    "vj_view.head(6)[['AREA_NM_PRE', 'CL_NM', 'MAR_VIEW_CO', 'NOV_VIEW_CO']]"
   ]
  },
  {
   "cell_type": "code",
   "execution_count": 6,
   "id": "0fac4fe7",
   "metadata": {
    "scrolled": true
   },
   "outputs": [
    {
     "data": {
      "text/html": [
       "<div>\n",
       "<style scoped>\n",
       "    .dataframe tbody tr th:only-of-type {\n",
       "        vertical-align: middle;\n",
       "    }\n",
       "\n",
       "    .dataframe tbody tr th {\n",
       "        vertical-align: top;\n",
       "    }\n",
       "\n",
       "    .dataframe thead th {\n",
       "        text-align: right;\n",
       "    }\n",
       "</style>\n",
       "<table border=\"1\" class=\"dataframe\">\n",
       "  <thead>\n",
       "    <tr style=\"text-align: right;\">\n",
       "      <th></th>\n",
       "      <th>AREA_NM_PRE</th>\n",
       "      <th>CL_NM</th>\n",
       "      <th>AREA_NM</th>\n",
       "      <th>ADDR</th>\n",
       "      <th>BASE_YEAR</th>\n",
       "      <th>MAR_VIEW_CO</th>\n",
       "      <th>APR_VIEW_CO</th>\n",
       "      <th>MAY_VIEW_CO</th>\n",
       "      <th>SEP_VIEW_CO</th>\n",
       "      <th>OCT_VIEW_CO</th>\n",
       "      <th>NOV_VIEW_CO</th>\n",
       "    </tr>\n",
       "  </thead>\n",
       "  <tbody>\n",
       "    <tr>\n",
       "      <th>0</th>\n",
       "      <td>1080칼국수</td>\n",
       "      <td>음식점</td>\n",
       "      <td>['1080칼국수']</td>\n",
       "      <td>['제주특별자치도 제주시 서광로13길 3']</td>\n",
       "      <td>12129</td>\n",
       "      <td>9</td>\n",
       "      <td>14</td>\n",
       "      <td>15</td>\n",
       "      <td>18</td>\n",
       "      <td>23</td>\n",
       "      <td>69</td>\n",
       "    </tr>\n",
       "    <tr>\n",
       "      <th>1</th>\n",
       "      <td>1950하우스</td>\n",
       "      <td>음식점</td>\n",
       "      <td>['1950하우스']</td>\n",
       "      <td>['제주특별자치도 제주시 애월읍 평화로 2369']</td>\n",
       "      <td>12129</td>\n",
       "      <td>17</td>\n",
       "      <td>25</td>\n",
       "      <td>26</td>\n",
       "      <td>21</td>\n",
       "      <td>27</td>\n",
       "      <td>48</td>\n",
       "    </tr>\n",
       "    <tr>\n",
       "      <th>2</th>\n",
       "      <td>2093하우스</td>\n",
       "      <td>음식점</td>\n",
       "      <td>['2093하우스']</td>\n",
       "      <td>['제주특별자치도 제주시 조천읍 남조로 2093']</td>\n",
       "      <td>12129</td>\n",
       "      <td>13</td>\n",
       "      <td>21</td>\n",
       "      <td>26</td>\n",
       "      <td>19</td>\n",
       "      <td>35</td>\n",
       "      <td>55</td>\n",
       "    </tr>\n",
       "    <tr>\n",
       "      <th>3</th>\n",
       "      <td>24시누름돌김치찌개</td>\n",
       "      <td>음식점</td>\n",
       "      <td>['24시누름돌김치찌개']</td>\n",
       "      <td>['제주특별자치도 제주시 노연로 146']</td>\n",
       "      <td>4044</td>\n",
       "      <td>0</td>\n",
       "      <td>6</td>\n",
       "      <td>1</td>\n",
       "      <td>0</td>\n",
       "      <td>0</td>\n",
       "      <td>0</td>\n",
       "    </tr>\n",
       "    <tr>\n",
       "      <th>4</th>\n",
       "      <td>24시뼈다귀탕동홍점</td>\n",
       "      <td>음식점</td>\n",
       "      <td>['24시뼈다귀탕동홍점']</td>\n",
       "      <td>['제주특별자치도 서귀포시 동홍남로 43']</td>\n",
       "      <td>4044</td>\n",
       "      <td>0</td>\n",
       "      <td>3</td>\n",
       "      <td>2</td>\n",
       "      <td>0</td>\n",
       "      <td>0</td>\n",
       "      <td>0</td>\n",
       "    </tr>\n",
       "    <tr>\n",
       "      <th>...</th>\n",
       "      <td>...</td>\n",
       "      <td>...</td>\n",
       "      <td>...</td>\n",
       "      <td>...</td>\n",
       "      <td>...</td>\n",
       "      <td>...</td>\n",
       "      <td>...</td>\n",
       "      <td>...</td>\n",
       "      <td>...</td>\n",
       "      <td>...</td>\n",
       "      <td>...</td>\n",
       "    </tr>\n",
       "    <tr>\n",
       "      <th>1734</th>\n",
       "      <td>흑돼지촌</td>\n",
       "      <td>음식점</td>\n",
       "      <td>['흑돼지촌']</td>\n",
       "      <td>['제주특별자치도 제주시 한림읍 한림상로 62']</td>\n",
       "      <td>12129</td>\n",
       "      <td>11</td>\n",
       "      <td>18</td>\n",
       "      <td>14</td>\n",
       "      <td>34</td>\n",
       "      <td>29</td>\n",
       "      <td>37</td>\n",
       "    </tr>\n",
       "    <tr>\n",
       "      <th>1735</th>\n",
       "      <td>흑돼지킹생구이전문점</td>\n",
       "      <td>음식점</td>\n",
       "      <td>['흑돼지킹생구이전문점']</td>\n",
       "      <td>['제주특별자치도 제주시 도령로11길 26-9']</td>\n",
       "      <td>12129</td>\n",
       "      <td>15</td>\n",
       "      <td>18</td>\n",
       "      <td>16</td>\n",
       "      <td>11</td>\n",
       "      <td>18</td>\n",
       "      <td>21</td>\n",
       "    </tr>\n",
       "    <tr>\n",
       "      <th>1736</th>\n",
       "      <td>흑소랑</td>\n",
       "      <td>음식점</td>\n",
       "      <td>['흑소랑']</td>\n",
       "      <td>['제주특별자치도 제주시 연북로 631']</td>\n",
       "      <td>12129</td>\n",
       "      <td>18</td>\n",
       "      <td>30</td>\n",
       "      <td>33</td>\n",
       "      <td>48</td>\n",
       "      <td>54</td>\n",
       "      <td>57</td>\n",
       "    </tr>\n",
       "    <tr>\n",
       "      <th>1737</th>\n",
       "      <td>흑염소마루</td>\n",
       "      <td>음식점</td>\n",
       "      <td>['흑염소마루']</td>\n",
       "      <td>['제주특별자치도 서귀포시 남원읍 태위로663번길 1-1']</td>\n",
       "      <td>12129</td>\n",
       "      <td>4</td>\n",
       "      <td>14</td>\n",
       "      <td>30</td>\n",
       "      <td>27</td>\n",
       "      <td>25</td>\n",
       "      <td>36</td>\n",
       "    </tr>\n",
       "    <tr>\n",
       "      <th>1738</th>\n",
       "      <td>흑한우명품관</td>\n",
       "      <td>음식점</td>\n",
       "      <td>['흑한우명품관']</td>\n",
       "      <td>['제주특별자치도 서귀포시 일주동로 8421']</td>\n",
       "      <td>12129</td>\n",
       "      <td>39</td>\n",
       "      <td>52</td>\n",
       "      <td>95</td>\n",
       "      <td>74</td>\n",
       "      <td>90</td>\n",
       "      <td>68</td>\n",
       "    </tr>\n",
       "  </tbody>\n",
       "</table>\n",
       "<p>1739 rows × 11 columns</p>\n",
       "</div>"
      ],
      "text/plain": [
       "     AREA_NM_PRE CL_NM         AREA_NM                               ADDR  \\\n",
       "0        1080칼국수   음식점     ['1080칼국수']           ['제주특별자치도 제주시 서광로13길 3']   \n",
       "1        1950하우스   음식점     ['1950하우스']       ['제주특별자치도 제주시 애월읍 평화로 2369']   \n",
       "2        2093하우스   음식점     ['2093하우스']       ['제주특별자치도 제주시 조천읍 남조로 2093']   \n",
       "3     24시누름돌김치찌개   음식점  ['24시누름돌김치찌개']            ['제주특별자치도 제주시 노연로 146']   \n",
       "4     24시뼈다귀탕동홍점   음식점  ['24시뼈다귀탕동홍점']           ['제주특별자치도 서귀포시 동홍남로 43']   \n",
       "...          ...   ...             ...                                ...   \n",
       "1734        흑돼지촌   음식점        ['흑돼지촌']        ['제주특별자치도 제주시 한림읍 한림상로 62']   \n",
       "1735  흑돼지킹생구이전문점   음식점  ['흑돼지킹생구이전문점']        ['제주특별자치도 제주시 도령로11길 26-9']   \n",
       "1736         흑소랑   음식점         ['흑소랑']            ['제주특별자치도 제주시 연북로 631']   \n",
       "1737       흑염소마루   음식점       ['흑염소마루']  ['제주특별자치도 서귀포시 남원읍 태위로663번길 1-1']   \n",
       "1738      흑한우명품관   음식점      ['흑한우명품관']         ['제주특별자치도 서귀포시 일주동로 8421']   \n",
       "\n",
       "      BASE_YEAR  MAR_VIEW_CO  APR_VIEW_CO  MAY_VIEW_CO  SEP_VIEW_CO  \\\n",
       "0         12129            9           14           15           18   \n",
       "1         12129           17           25           26           21   \n",
       "2         12129           13           21           26           19   \n",
       "3          4044            0            6            1            0   \n",
       "4          4044            0            3            2            0   \n",
       "...         ...          ...          ...          ...          ...   \n",
       "1734      12129           11           18           14           34   \n",
       "1735      12129           15           18           16           11   \n",
       "1736      12129           18           30           33           48   \n",
       "1737      12129            4           14           30           27   \n",
       "1738      12129           39           52           95           74   \n",
       "\n",
       "      OCT_VIEW_CO  NOV_VIEW_CO  \n",
       "0              23           69  \n",
       "1              27           48  \n",
       "2              35           55  \n",
       "3               0            0  \n",
       "4               0            0  \n",
       "...           ...          ...  \n",
       "1734           29           37  \n",
       "1735           18           21  \n",
       "1736           54           57  \n",
       "1737           25           36  \n",
       "1738           90           68  \n",
       "\n",
       "[1739 rows x 11 columns]"
      ]
     },
     "execution_count": 6,
     "metadata": {},
     "output_type": "execute_result"
    }
   ],
   "source": [
    "# 음식점 데이터만 추출\n",
    "vj_fb = vj_view[vj_view.CL_NM == \"음식점\"]\n",
    "vj_fb = vj_fb.reset_index(drop=True) ; vj_fb"
   ]
  },
  {
   "cell_type": "code",
   "execution_count": 7,
   "id": "0603570d",
   "metadata": {
    "scrolled": false
   },
   "outputs": [],
   "source": [
    "# VISIT JEJU 크롤링 데이터\n",
    "vj_craw_fb = pd.read_csv('data/VISITJEJU_음식점정보크롤링_0915.csv')"
   ]
  },
  {
   "cell_type": "code",
   "execution_count": 8,
   "id": "b374c21d",
   "metadata": {},
   "outputs": [],
   "source": [
    "#안 쓸 열들 drop\n",
    "vj_craw_fb = vj_craw_fb.drop(['stars', 'address', 'telephone', 'numreview', 'view', 'rec_tour', 'rec_restaurant', 'rec_lodgment', 'rec_bigdata', 'detail_side_box'], axis=1)"
   ]
  },
  {
   "cell_type": "markdown",
   "id": "8a0f62ec",
   "metadata": {},
   "source": [
    "### 1-(2) 이름 전처리"
   ]
  },
  {
   "cell_type": "code",
   "execution_count": 9,
   "id": "dd65cf2a",
   "metadata": {},
   "outputs": [],
   "source": [
    "def name_preprocessing(name):\n",
    "    name = name.replace('(주)','').replace(\"·\",\".\").lower()\n",
    "    name = re.sub('[\\(\\)㈜!@#$%^&*{}|:;\\'\\\"/><,~`+=_ ]','', name)\n",
    "    name = name.split(\"(\")[0]\n",
    "    name = re.sub('[\\[.\\]]','',name)\n",
    "    return name.strip()"
   ]
  },
  {
   "cell_type": "code",
   "execution_count": 10,
   "id": "1225a9c7",
   "metadata": {},
   "outputs": [],
   "source": [
    "# 로그 데이터 이름 preprocessing\n",
    "vj_fb['AREA_NM_PRE'] = list(map(lambda x : name_preprocessing(x), vj_fb['AREA_NM_PRE']))\n",
    "#크롤링 데이터 이름 preprocessing\n",
    "vj_craw_fb['name_PRE'] = list(map(lambda x : name_preprocessing(x), vj_craw_fb['name']))"
   ]
  },
  {
   "cell_type": "markdown",
   "id": "eb91d4aa",
   "metadata": {},
   "source": [
    "### 1-(3) 중복행 삭제"
   ]
  },
  {
   "cell_type": "code",
   "execution_count": 11,
   "id": "138ce2df",
   "metadata": {
    "code_folding": []
   },
   "outputs": [
    {
     "data": {
      "text/html": [
       "<div>\n",
       "<style scoped>\n",
       "    .dataframe tbody tr th:only-of-type {\n",
       "        vertical-align: middle;\n",
       "    }\n",
       "\n",
       "    .dataframe tbody tr th {\n",
       "        vertical-align: top;\n",
       "    }\n",
       "\n",
       "    .dataframe thead th {\n",
       "        text-align: right;\n",
       "    }\n",
       "</style>\n",
       "<table border=\"1\" class=\"dataframe\">\n",
       "  <thead>\n",
       "    <tr style=\"text-align: right;\">\n",
       "      <th></th>\n",
       "      <th>name_PRE</th>\n",
       "    </tr>\n",
       "  </thead>\n",
       "  <tbody>\n",
       "    <tr>\n",
       "      <th>커피가게쉬고가게</th>\n",
       "      <td>2</td>\n",
       "    </tr>\n",
       "    <tr>\n",
       "      <th>제니의정원</th>\n",
       "      <td>2</td>\n",
       "    </tr>\n",
       "    <tr>\n",
       "      <th>일도국수</th>\n",
       "      <td>2</td>\n",
       "    </tr>\n",
       "    <tr>\n",
       "      <th>어진이네횟집</th>\n",
       "      <td>2</td>\n",
       "    </tr>\n",
       "    <tr>\n",
       "      <th>24시전주명가콩나물국밥</th>\n",
       "      <td>2</td>\n",
       "    </tr>\n",
       "    <tr>\n",
       "      <th>바다를본돼지</th>\n",
       "      <td>2</td>\n",
       "    </tr>\n",
       "  </tbody>\n",
       "</table>\n",
       "</div>"
      ],
      "text/plain": [
       "              name_PRE\n",
       "커피가게쉬고가게             2\n",
       "제니의정원                2\n",
       "일도국수                 2\n",
       "어진이네횟집               2\n",
       "24시전주명가콩나물국밥         2\n",
       "바다를본돼지               2"
      ]
     },
     "execution_count": 11,
     "metadata": {},
     "output_type": "execute_result"
    }
   ],
   "source": [
    "# 중복행 확인\n",
    "dup_name = vj_craw_fb['name_PRE'].value_counts().to_frame()\n",
    "dup_name[dup_name.name_PRE == 2]"
   ]
  },
  {
   "cell_type": "code",
   "execution_count": 12,
   "id": "06ccf88a",
   "metadata": {
    "scrolled": true
   },
   "outputs": [],
   "source": [
    "#vj_craw_fb[vj_craw_fb.name_PRE == \"24시전주명가콩나물국밥\"]  \n",
    "#vj_craw_fb[vj_craw_fb.name_PRE == \"제니의정원\"]              \n",
    "#vj_craw_fb[vj_craw_fb.name_PRE == \"일도국수\"]\n",
    "#vj_craw_fb[vj_craw_fb.name_PRE == \"바다를본돼지\"]\n",
    "#vj_craw_fb[vj_craw_fb.name_PRE == \"어진이네횟집\"]"
   ]
  },
  {
   "cell_type": "code",
   "execution_count": 13,
   "id": "93c66bba",
   "metadata": {},
   "outputs": [],
   "source": [
    "# 중복행 삭제 \n",
    "vj_craw_fb = vj_craw_fb.drop([321,608,940,1192,1325,1476], axis=0).reset_index(drop=True)"
   ]
  },
  {
   "cell_type": "markdown",
   "id": "c7f229cf",
   "metadata": {},
   "source": [
    "### 1-(4) 데이터 병합"
   ]
  },
  {
   "cell_type": "code",
   "execution_count": 14,
   "id": "f9589bfe",
   "metadata": {},
   "outputs": [],
   "source": [
    "vj_filter_fb = pd.merge(left=vj_fb, right=vj_craw_fb, how='inner',\n",
    "                    left_on='AREA_NM_PRE', right_on='name_PRE').reset_index(drop=True)"
   ]
  },
  {
   "cell_type": "code",
   "execution_count": 15,
   "id": "3245f653",
   "metadata": {},
   "outputs": [],
   "source": [
    "final_fb = vj_filter_fb.drop(['CL_NM','AREA_NM','name','name_PRE'], axis=1)"
   ]
  },
  {
   "cell_type": "markdown",
   "id": "9f6449d5",
   "metadata": {},
   "source": [
    "## 2. 주소 변환 및 좌표 추출\n",
    "- 카카오API 이용해서 도로명주소->지번주소 변환, 좌표추출"
   ]
  },
  {
   "cell_type": "markdown",
   "id": "671b49cd",
   "metadata": {},
   "source": [
    "### 2 - (1) 주소 변환"
   ]
  },
  {
   "cell_type": "code",
   "execution_count": 16,
   "id": "93c1a7f9",
   "metadata": {},
   "outputs": [],
   "source": [
    "# 주소 list 문자열로 변환\n",
    "final_fb['ADDR'] = [ast.literal_eval(x)[0] for x in final_fb['ADDR']]"
   ]
  },
  {
   "cell_type": "code",
   "execution_count": 17,
   "id": "1c8f3d9c",
   "metadata": {},
   "outputs": [],
   "source": [
    "# kakao api key \n",
    "api_key = '7465f66e54fbe4f71543e474623685f1'"
   ]
  },
  {
   "cell_type": "code",
   "execution_count": 18,
   "id": "409c5529",
   "metadata": {
    "scrolled": false
   },
   "outputs": [
    {
     "name": "stdout",
     "output_type": "stream",
     "text": [
      "69 92 180 419 496 639 646 667 682 737 740 820 937 1051 1102 1201 1291 1309 1310 1434 1447 1518 "
     ]
    }
   ],
   "source": [
    "addrs = final_fb['ADDR']\n",
    "locations_add = []\n",
    "locations_road = []\n",
    "miss_index = []\n",
    "\n",
    "# 도로명주소, 지번주소 추출 \n",
    "for i in range(len(addrs)):\n",
    "    url = 'https://dapi.kakao.com/v2/local/search/address.json?query={}'.format(addrs.iloc[i])\n",
    "    headers = {\"Authorization\": \"KakaoAK \" + api_key}\n",
    "    result = json.loads(str(requests.get(url, headers = headers).text))\n",
    "    \n",
    "    try:\n",
    "        addr_temp = result['documents'][0]['address']['address_name']\n",
    "        road_temp = result['documents'][0]['road_address']['address_name']\n",
    "        locations_add.append(addr_temp)\n",
    "        locations_road.append(road_temp)\n",
    "\n",
    "    except TypeError:\n",
    "        print(i, end=' ')\n",
    "        miss_index.append(i)\n",
    "        locations_add.append(np.NaN)\n",
    "        locations_road.append(np.NaN)\n",
    "\n",
    "    except IndexError:\n",
    "        print(i, end=' ')\n",
    "        miss_index.append(i)\n",
    "        locations_add.append(np.NaN)\n",
    "        locations_road.append(np.NaN)"
   ]
  },
  {
   "cell_type": "code",
   "execution_count": 19,
   "id": "7abbc5d8",
   "metadata": {},
   "outputs": [],
   "source": [
    "# 검색된 주소 변수 생성\n",
    "final_fb['LN_ADDR'] = locations_add\n",
    "final_fb['ROAD_ADDR'] = locations_road"
   ]
  },
  {
   "cell_type": "markdown",
   "id": "8182c682",
   "metadata": {},
   "source": [
    "### 2 - (2) 주소 검색 안되는 데이터 정제 \n",
    "- 주소 오류 있는 경우  삭제"
   ]
  },
  {
   "cell_type": "code",
   "execution_count": 20,
   "id": "3ba80cd7",
   "metadata": {},
   "outputs": [],
   "source": [
    "#final_fb.iloc[miss_index][['AREA_NM_PRE','ADDR']]"
   ]
  },
  {
   "cell_type": "code",
   "execution_count": 21,
   "id": "1adef774",
   "metadata": {},
   "outputs": [],
   "source": [
    "final_fb = final_fb.dropna().reset_index(drop=True)"
   ]
  },
  {
   "cell_type": "markdown",
   "id": "e29b7f2d",
   "metadata": {},
   "source": [
    "### 2 - (3) 좌표 추출"
   ]
  },
  {
   "cell_type": "code",
   "execution_count": 22,
   "id": "be2e645c",
   "metadata": {},
   "outputs": [],
   "source": [
    "def addr_to_lat_lon(addr):\n",
    "    url = 'https://dapi.kakao.com/v2/local/search/address.json?query={address}'.format(address=addr)\n",
    "    headers = {\"Authorization\": \"KakaoAK \" + api_key}\n",
    "    result = json.loads(str(requests.get(url, headers=headers).text))\n",
    "    match_first = result['documents'][0]['address']\n",
    "    return float(match_first['x']), float(match_first['y'])"
   ]
  },
  {
   "cell_type": "code",
   "execution_count": 23,
   "id": "74248a35",
   "metadata": {
    "scrolled": true
   },
   "outputs": [],
   "source": [
    "lat_list = []\n",
    "lon_list = []\n",
    "\n",
    "# 좌표 추출 함수 \n",
    "for i in range(len(final_fb)):\n",
    "    try:\n",
    "        lat_list.append(addr_to_lat_lon(final_fb['ADDR'][i])[1])\n",
    "        lon_list.append(addr_to_lat_lon(final_fb['ADDR'][i])[0])\n",
    "    except TypeError:\n",
    "        print(i, end = \" \")\n",
    "        lat_list.append(np.NaN)\n",
    "        lon_list.append(np.NaN)\n",
    "    except IndexError:\n",
    "        print(i, end=' ')\n",
    "        lat_list.append(np.NaN)\n",
    "        lon_list.append(np.NaN)\n",
    "    except KeyError:\n",
    "        print(i, end=\" \")\n",
    "        lat_list.append(np.NaN)\n",
    "        lon_list.append(np.NaN)"
   ]
  },
  {
   "cell_type": "code",
   "execution_count": 24,
   "id": "21ebcf32",
   "metadata": {},
   "outputs": [],
   "source": [
    "# 좌표 변수 생성\n",
    "final_fb['lon'] = lon_list\n",
    "final_fb['lat'] = lat_list"
   ]
  },
  {
   "cell_type": "markdown",
   "id": "a5e8e21a",
   "metadata": {},
   "source": [
    "### 2 - (4) 읍면동 변수 추출"
   ]
  },
  {
   "cell_type": "code",
   "execution_count": 25,
   "id": "e484e2cd",
   "metadata": {},
   "outputs": [],
   "source": [
    "# 제주시 뒤에 나오는 단어 추출\n",
    "final_fb['region'] = [tmp.split('시')[1].strip().split(' ')[0] for tmp in final_fb['LN_ADDR']]"
   ]
  },
  {
   "cell_type": "markdown",
   "id": "b81d2d08",
   "metadata": {},
   "source": [
    "### 2 - (5) 주소 형식 통일 \n",
    "- 공백 제거\n",
    "- 제주 -> 제주특별자치도로 변경"
   ]
  },
  {
   "cell_type": "code",
   "execution_count": 26,
   "id": "41cec329",
   "metadata": {},
   "outputs": [],
   "source": [
    "def addr_preprocessing(addr):\n",
    "    addr = addr.strip()\n",
    "    if '제주특별자치도' in addr:\n",
    "        addr = \"제주특별자치도 \" + addr.split('제주특별자치도')[1].lstrip()\n",
    "    else:\n",
    "        addr = re.sub('제주 서귀포시','제주특별자치도 서귀포시', addr)\n",
    "        addr = re.sub('제주 제주시','제주특별자치도 제주시', addr)\n",
    "\n",
    "    addr = re.sub(\"  \", \" \", addr)\n",
    "    return addr.strip() "
   ]
  },
  {
   "cell_type": "code",
   "execution_count": 27,
   "id": "744a60ba",
   "metadata": {},
   "outputs": [],
   "source": [
    "final_fb['ROAD_ADDR'] = list(map(lambda x : addr_preprocessing(x), final_fb['ROAD_ADDR']))\n",
    "final_fb['LN_ADDR'] = list(map(lambda x: addr_preprocessing(x), final_fb['LN_ADDR']))"
   ]
  },
  {
   "cell_type": "code",
   "execution_count": 28,
   "id": "55bd2dea",
   "metadata": {
    "scrolled": true
   },
   "outputs": [
    {
     "data": {
      "text/html": [
       "<div>\n",
       "<style scoped>\n",
       "    .dataframe tbody tr th:only-of-type {\n",
       "        vertical-align: middle;\n",
       "    }\n",
       "\n",
       "    .dataframe tbody tr th {\n",
       "        vertical-align: top;\n",
       "    }\n",
       "\n",
       "    .dataframe thead th {\n",
       "        text-align: right;\n",
       "    }\n",
       "</style>\n",
       "<table border=\"1\" class=\"dataframe\">\n",
       "  <thead>\n",
       "    <tr style=\"text-align: right;\">\n",
       "      <th></th>\n",
       "      <th>ROAD_ADDR</th>\n",
       "      <th>LN_ADDR</th>\n",
       "    </tr>\n",
       "  </thead>\n",
       "  <tbody>\n",
       "    <tr>\n",
       "      <th>0</th>\n",
       "      <td>제주특별자치도 제주시 서광로13길 3</td>\n",
       "      <td>제주특별자치도 제주시 삼도일동 518-9</td>\n",
       "    </tr>\n",
       "    <tr>\n",
       "      <th>1</th>\n",
       "      <td>제주특별자치도 제주시 애월읍 평화로 2369</td>\n",
       "      <td>제주특별자치도 제주시 애월읍 유수암리 1023</td>\n",
       "    </tr>\n",
       "    <tr>\n",
       "      <th>2</th>\n",
       "      <td>제주특별자치도 제주시 조천읍 남조로 2093</td>\n",
       "      <td>제주특별자치도 제주시 조천읍 교래리 786-21</td>\n",
       "    </tr>\n",
       "    <tr>\n",
       "      <th>3</th>\n",
       "      <td>제주특별자치도 제주시 노연로 146</td>\n",
       "      <td>제주특별자치도 제주시 연동 304-3</td>\n",
       "    </tr>\n",
       "    <tr>\n",
       "      <th>4</th>\n",
       "      <td>제주특별자치도 서귀포시 동홍남로 43</td>\n",
       "      <td>제주특별자치도 서귀포시 동홍동 107-6</td>\n",
       "    </tr>\n",
       "    <tr>\n",
       "      <th>...</th>\n",
       "      <td>...</td>\n",
       "      <td>...</td>\n",
       "    </tr>\n",
       "    <tr>\n",
       "      <th>1585</th>\n",
       "      <td>제주특별자치도 제주시 한림읍 한림상로 62</td>\n",
       "      <td>제주특별자치도 제주시 한림읍 동명리 1858</td>\n",
       "    </tr>\n",
       "    <tr>\n",
       "      <th>1586</th>\n",
       "      <td>제주특별자치도 제주시 도령로11길 26-9</td>\n",
       "      <td>제주특별자치도 제주시 연동 2313-4</td>\n",
       "    </tr>\n",
       "    <tr>\n",
       "      <th>1587</th>\n",
       "      <td>제주특별자치도 제주시 연북로 631</td>\n",
       "      <td>제주특별자치도 제주시 아라이동 3007-2</td>\n",
       "    </tr>\n",
       "    <tr>\n",
       "      <th>1588</th>\n",
       "      <td>제주특별자치도 서귀포시 남원읍 태위로663번길 1-1</td>\n",
       "      <td>제주특별자치도 서귀포시 남원읍 남원리 116-14</td>\n",
       "    </tr>\n",
       "    <tr>\n",
       "      <th>1589</th>\n",
       "      <td>제주특별자치도 서귀포시 일주동로 8421</td>\n",
       "      <td>제주특별자치도 서귀포시 토평동 262-1</td>\n",
       "    </tr>\n",
       "  </tbody>\n",
       "</table>\n",
       "<p>1590 rows × 2 columns</p>\n",
       "</div>"
      ],
      "text/plain": [
       "                          ROAD_ADDR                      LN_ADDR\n",
       "0              제주특별자치도 제주시 서광로13길 3       제주특별자치도 제주시 삼도일동 518-9\n",
       "1          제주특별자치도 제주시 애월읍 평화로 2369    제주특별자치도 제주시 애월읍 유수암리 1023\n",
       "2          제주특별자치도 제주시 조천읍 남조로 2093   제주특별자치도 제주시 조천읍 교래리 786-21\n",
       "3               제주특별자치도 제주시 노연로 146         제주특별자치도 제주시 연동 304-3\n",
       "4              제주특별자치도 서귀포시 동홍남로 43       제주특별자치도 서귀포시 동홍동 107-6\n",
       "...                             ...                          ...\n",
       "1585        제주특별자치도 제주시 한림읍 한림상로 62     제주특별자치도 제주시 한림읍 동명리 1858\n",
       "1586        제주특별자치도 제주시 도령로11길 26-9        제주특별자치도 제주시 연동 2313-4\n",
       "1587            제주특별자치도 제주시 연북로 631      제주특별자치도 제주시 아라이동 3007-2\n",
       "1588  제주특별자치도 서귀포시 남원읍 태위로663번길 1-1  제주특별자치도 서귀포시 남원읍 남원리 116-14\n",
       "1589         제주특별자치도 서귀포시 일주동로 8421       제주특별자치도 서귀포시 토평동 262-1\n",
       "\n",
       "[1590 rows x 2 columns]"
      ]
     },
     "execution_count": 28,
     "metadata": {},
     "output_type": "execute_result"
    }
   ],
   "source": [
    "final_fb[['ROAD_ADDR', 'LN_ADDR']]"
   ]
  },
  {
   "cell_type": "code",
   "execution_count": 29,
   "id": "0a481317",
   "metadata": {},
   "outputs": [],
   "source": [
    "#final_fb.to_csv('PRE_F&B데이터.csv', encoding='utf-8-sig', index=False)"
   ]
  },
  {
   "cell_type": "markdown",
   "id": "efef8cca",
   "metadata": {},
   "source": [
    "## 3. 가격정보 추가\n",
    "\n",
    "- 가격 정보\n",
    "- merchant data는 최신년도인 2022 기준 (2022없는 경우은 2021) \n",
    "- 연령은 20대만 필터링\n",
    "- 요일시간대 승인건수 합으로 매출구간 중위값 나누어서 예상 가격대 계산\n"
   ]
  },
  {
   "cell_type": "code",
   "execution_count": 30,
   "id": "ea158c93",
   "metadata": {},
   "outputs": [],
   "source": [
    "#final_fb = pd.read_csv('PRE_F&B데이터.csv')"
   ]
  },
  {
   "cell_type": "markdown",
   "id": "1794bf77",
   "metadata": {},
   "source": [
    "### 3 - (1) MERCHANT 가격정보 전처리"
   ]
  },
  {
   "cell_type": "code",
   "execution_count": 31,
   "id": "8c30d947",
   "metadata": {},
   "outputs": [],
   "source": [
    "merchant = pd.read_csv('data/JEJU_MERCHANT.csv', encoding='cp949')"
   ]
  },
  {
   "cell_type": "code",
   "execution_count": 32,
   "id": "3556aafa",
   "metadata": {},
   "outputs": [],
   "source": [
    "# 요식/유흥 카테고리+ 연령 20대만 필터링\n",
    "merchant = merchant[merchant.LG_CAT == 1]\n",
    "merchant = merchant[(merchant.AGE_GP == \"1_20_24\") | (merchant.AGE_GP == \"2_25_29\")]"
   ]
  },
  {
   "cell_type": "code",
   "execution_count": 33,
   "id": "a56fcebc",
   "metadata": {},
   "outputs": [
    {
     "data": {
      "text/plain": [
       "array(['3_25%~50%', '4_50%~75%', '2_10%~25%', '5_75%~90%', '1_상위10%이상',\n",
       "       '6_90%미만'], dtype=object)"
      ]
     },
     "execution_count": 33,
     "metadata": {},
     "output_type": "execute_result"
    }
   ],
   "source": [
    "merchant['MNTH_SALES_PCTL'].unique()"
   ]
  },
  {
   "cell_type": "code",
   "execution_count": 34,
   "id": "1448a323",
   "metadata": {},
   "outputs": [],
   "source": [
    "# 매출분위 별 구간 중위값으로 대체\n",
    "conditions = [\n",
    "    merchant['MNTH_SALES_PCTL'] == \"1_상위10%이상\",\n",
    "    merchant['MNTH_SALES_PCTL'] == \"2_10%~25%\",\n",
    "    merchant['MNTH_SALES_PCTL'] == \"3_25%~50%\",\n",
    "    merchant['MNTH_SALES_PCTL'] == \"4_50%~75%\",\n",
    "    merchant['MNTH_SALES_PCTL'] == \"5_75%~90%\",\n",
    "    merchant['MNTH_SALES_PCTL'] == \"6_90%미만\"\n",
    "]\n",
    "\n",
    "vals = [195750000,\n",
    "        (195750000+11400000)/2,\n",
    "        (114000000+63000000)/2,\n",
    "        (63000000+28500000)/2,\n",
    "        (28500000+ 10500000)/2,\n",
    "        10500000]\n",
    "\n",
    "\n",
    "merchant['SALES'] = np.select(conditions, vals)"
   ]
  },
  {
   "cell_type": "code",
   "execution_count": 35,
   "id": "a54bf5f4",
   "metadata": {},
   "outputs": [
    {
     "data": {
      "text/plain": [
       "[195750000, 103575000.0, 88500000.0, 45750000.0, 19500000.0, 10500000]"
      ]
     },
     "execution_count": 35,
     "metadata": {},
     "output_type": "execute_result"
    }
   ],
   "source": [
    "vals"
   ]
  },
  {
   "cell_type": "code",
   "execution_count": 36,
   "id": "d3393648",
   "metadata": {
    "scrolled": true
   },
   "outputs": [],
   "source": [
    "# 2022 \n",
    "merchant22 = merchant[merchant.YR==2022].groupby(['MCT_NM','MCT_BSE_AR','SALES']).apply(lambda x:  x.UE_CT.sum()).reset_index()\n",
    "merchant22.columns = ['NCT_NM','MCT_BSE_AR', 'SALES', 'CT_SUM']"
   ]
  },
  {
   "cell_type": "code",
   "execution_count": 37,
   "id": "a7ed7e44",
   "metadata": {},
   "outputs": [],
   "source": [
    "# 2021\n",
    "merchant21 = merchant[merchant.YR==2021].groupby(['MCT_NM', 'MCT_BSE_AR', 'SALES']).apply(lambda x:  x.UE_CT.sum()).reset_index()\n",
    "merchant21.columns = ['NCT_NM','MCT_BSE_AR', 'SALES','CT_SUM']  "
   ]
  },
  {
   "cell_type": "code",
   "execution_count": 38,
   "id": "50cc889a",
   "metadata": {},
   "outputs": [],
   "source": [
    "name_list = merchant22['NCT_NM'].to_list()\n",
    "index = []\n",
    "\n",
    "for i in range(len(merchant21)):\n",
    "    if merchant21['NCT_NM'][i] not in name_list:\n",
    "        index.append(i)"
   ]
  },
  {
   "cell_type": "code",
   "execution_count": 39,
   "id": "20abffe8",
   "metadata": {},
   "outputs": [
    {
     "data": {
      "text/html": [
       "<div>\n",
       "<style scoped>\n",
       "    .dataframe tbody tr th:only-of-type {\n",
       "        vertical-align: middle;\n",
       "    }\n",
       "\n",
       "    .dataframe tbody tr th {\n",
       "        vertical-align: top;\n",
       "    }\n",
       "\n",
       "    .dataframe thead th {\n",
       "        text-align: right;\n",
       "    }\n",
       "</style>\n",
       "<table border=\"1\" class=\"dataframe\">\n",
       "  <thead>\n",
       "    <tr style=\"text-align: right;\">\n",
       "      <th></th>\n",
       "      <th>NCT_NM</th>\n",
       "      <th>MCT_BSE_AR</th>\n",
       "      <th>SALES</th>\n",
       "      <th>CT_SUM</th>\n",
       "    </tr>\n",
       "  </thead>\n",
       "  <tbody>\n",
       "    <tr>\n",
       "      <th>0</th>\n",
       "      <td>(유)아웃백스테이크하우스코리아제주점</td>\n",
       "      <td>제주  제주시  노형동</td>\n",
       "      <td>45750000.0</td>\n",
       "      <td>966</td>\n",
       "    </tr>\n",
       "    <tr>\n",
       "      <th>1</th>\n",
       "      <td>(주) 베이힐</td>\n",
       "      <td>제주 서귀포시 하예동</td>\n",
       "      <td>195750000.0</td>\n",
       "      <td>672</td>\n",
       "    </tr>\n",
       "    <tr>\n",
       "      <th>2</th>\n",
       "      <td>(주) 신세계푸드  데블스도어 제주점</td>\n",
       "      <td>제주특별자치도 서귀포시 안덕면 신화역사로304번길 38</td>\n",
       "      <td>88500000.0</td>\n",
       "      <td>1617</td>\n",
       "    </tr>\n",
       "    <tr>\n",
       "      <th>3</th>\n",
       "      <td>(주) 신세계푸드 제주신화월드  티플레이스</td>\n",
       "      <td>제주특별자치도 서귀포시 안덕면 녹차분재로 217</td>\n",
       "      <td>88500000.0</td>\n",
       "      <td>1218</td>\n",
       "    </tr>\n",
       "    <tr>\n",
       "      <th>4</th>\n",
       "      <td>(주)대유산업</td>\n",
       "      <td>제주 서귀포시 상예로 381</td>\n",
       "      <td>103575000.0</td>\n",
       "      <td>2114</td>\n",
       "    </tr>\n",
       "  </tbody>\n",
       "</table>\n",
       "</div>"
      ],
      "text/plain": [
       "                    NCT_NM                      MCT_BSE_AR        SALES  \\\n",
       "0      (유)아웃백스테이크하우스코리아제주점                    제주  제주시  노형동   45750000.0   \n",
       "1                  (주) 베이힐                     제주 서귀포시 하예동  195750000.0   \n",
       "2     (주) 신세계푸드  데블스도어 제주점  제주특별자치도 서귀포시 안덕면 신화역사로304번길 38   88500000.0   \n",
       "3  (주) 신세계푸드 제주신화월드  티플레이스      제주특별자치도 서귀포시 안덕면 녹차분재로 217   88500000.0   \n",
       "4                  (주)대유산업                 제주 서귀포시 상예로 381  103575000.0   \n",
       "\n",
       "   CT_SUM  \n",
       "0     966  \n",
       "1     672  \n",
       "2    1617  \n",
       "3    1218  \n",
       "4    2114  "
      ]
     },
     "execution_count": 39,
     "metadata": {},
     "output_type": "execute_result"
    }
   ],
   "source": [
    "#2022년 데이터가 없는 식당들은 2021년으로 대체\n",
    "fin_merchant = pd.concat([merchant22, merchant21.loc[index,:]]).reset_index(drop=True)\n",
    "fin_merchant.head()"
   ]
  },
  {
   "cell_type": "markdown",
   "id": "2260fb5c",
   "metadata": {},
   "source": [
    "### 3 - (2) 이름/주소 전처리"
   ]
  },
  {
   "cell_type": "code",
   "execution_count": 40,
   "id": "c55d6671",
   "metadata": {},
   "outputs": [],
   "source": [
    "fin_merchant['NCT_NM_PRE'] = list(map(lambda x : name_preprocessing(x), fin_merchant['NCT_NM']))"
   ]
  },
  {
   "cell_type": "code",
   "execution_count": 41,
   "id": "ab5bbd56",
   "metadata": {},
   "outputs": [],
   "source": [
    "fin_merchant['ADDR_PRE'] = list(map(lambda x: addr_preprocessing(x), fin_merchant['MCT_BSE_AR']))"
   ]
  },
  {
   "cell_type": "markdown",
   "id": "0251cb1f",
   "metadata": {},
   "source": [
    "### 3 - (3) 병합"
   ]
  },
  {
   "cell_type": "code",
   "execution_count": 42,
   "id": "d0381d06",
   "metadata": {},
   "outputs": [],
   "source": [
    "final_fb2 = pd.merge(final_fb, fin_merchant, how='left', left_on=['AREA_NM_PRE', 'ROAD_ADDR'], right_on = ['NCT_NM_PRE','ADDR_PRE']).reset_index(drop=True)"
   ]
  },
  {
   "cell_type": "code",
   "execution_count": 43,
   "id": "b256de99",
   "metadata": {
    "scrolled": true
   },
   "outputs": [
    {
     "name": "stdout",
     "output_type": "stream",
     "text": [
      "82\n"
     ]
    }
   ],
   "source": [
    "print(len(final_fb2['SALES'].dropna())) # 82개만 가격정보 반영"
   ]
  },
  {
   "cell_type": "code",
   "execution_count": null,
   "id": "6ec0676f",
   "metadata": {},
   "outputs": [],
   "source": []
  },
  {
   "cell_type": "code",
   "execution_count": null,
   "id": "fdfd6128",
   "metadata": {},
   "outputs": [],
   "source": []
  },
  {
   "cell_type": "markdown",
   "id": "d53f58e8",
   "metadata": {},
   "source": [
    "## 4. 지번주소 기준 온실가스배출량 데이터 병합\n",
    "\n",
    "\n",
    "- 지번주소별 탄소배출량 mean, max 데이터 병합 => 최종적으로 max 데이터사용 \n",
    "- 공간 탄소배출량으로 사용\n"
   ]
  },
  {
   "cell_type": "code",
   "execution_count": 44,
   "id": "2732d65e",
   "metadata": {},
   "outputs": [],
   "source": [
    "cd_dat = pd.read_csv('data/PRE_CO2_지번단위탄소배출량_meanmax.csv')"
   ]
  },
  {
   "cell_type": "code",
   "execution_count": 45,
   "id": "cad965f8",
   "metadata": {},
   "outputs": [],
   "source": [
    "def lt_preprocess_add(add):\n",
    "    add = add.strip()\n",
    "    add = add.rstrip('번지')\n",
    "    return add "
   ]
  },
  {
   "cell_type": "code",
   "execution_count": 46,
   "id": "20238e84",
   "metadata": {},
   "outputs": [],
   "source": [
    "cd_dat['LTNO_ADDR'] = list(map(lambda x: lt_preprocess_add(x), cd_dat['LTNO_ADDR']))\n",
    "cd_dat['LTNO_ADDR_PRE'] = list(map(lambda x: addr_preprocessing(x), cd_dat['LTNO_ADDR']))"
   ]
  },
  {
   "cell_type": "code",
   "execution_count": 47,
   "id": "d3df339c",
   "metadata": {},
   "outputs": [],
   "source": [
    "fb_dat = pd.merge(left=final_fb2, right=cd_dat, how='left', left_on='LN_ADDR', right_on='LTNO_ADDR_PRE').reset_index(drop=True)"
   ]
  },
  {
   "cell_type": "code",
   "execution_count": 48,
   "id": "e3f4e1ad",
   "metadata": {},
   "outputs": [],
   "source": [
    "fb_dat = fb_dat.drop(['NCT_NM', 'MCT_BSE_AR', 'NCT_NM_PRE', 'ADDR_PRE', 'GPS_LNGTD', 'GPS_LTTD', 'LTNO_ADDR_PRE'], axis=1).reset_index(drop=True)"
   ]
  },
  {
   "cell_type": "code",
   "execution_count": 49,
   "id": "ba7a06df",
   "metadata": {
    "scrolled": true
   },
   "outputs": [],
   "source": [
    "fb_dat.to_csv('F&B데이터_co2.csv', encoding='utf-8-sig', index=False) # 이 데이터 기준으로 네이버 검색 크롤링"
   ]
  },
  {
   "cell_type": "markdown",
   "id": "a687f762",
   "metadata": {},
   "source": [
    "## 5. 가격정보 대체\n",
    "\n",
    "네이버 검색결과 크롤링 데이터와 기존 F&B 데이터 병합  \n",
    "\n",
    "데이터 정제 및 가격 정보 NA를 네이버맵 메뉴정보 평균값으로 대체"
   ]
  },
  {
   "cell_type": "markdown",
   "id": "078be3bf",
   "metadata": {},
   "source": [
    "### 5-(1) 데이터 병합"
   ]
  },
  {
   "cell_type": "code",
   "execution_count": 50,
   "id": "9cd3e913",
   "metadata": {},
   "outputs": [],
   "source": [
    "#fb_data = pd.read_csv('F&B데이터_탄소추가.csv')"
   ]
  },
  {
   "cell_type": "code",
   "execution_count": 51,
   "id": "297bf86f",
   "metadata": {
    "scrolled": true
   },
   "outputs": [
    {
     "data": {
      "text/html": [
       "<div>\n",
       "<style scoped>\n",
       "    .dataframe tbody tr th:only-of-type {\n",
       "        vertical-align: middle;\n",
       "    }\n",
       "\n",
       "    .dataframe tbody tr th {\n",
       "        vertical-align: top;\n",
       "    }\n",
       "\n",
       "    .dataframe thead th {\n",
       "        text-align: right;\n",
       "    }\n",
       "</style>\n",
       "<table border=\"1\" class=\"dataframe\">\n",
       "  <thead>\n",
       "    <tr style=\"text-align: right;\">\n",
       "      <th></th>\n",
       "      <th>name_list</th>\n",
       "      <th>type_list</th>\n",
       "      <th>address_list</th>\n",
       "      <th>visitor_review_num_list</th>\n",
       "      <th>blog_review_num_list</th>\n",
       "      <th>visitor_review_list</th>\n",
       "      <th>menu_list</th>\n",
       "      <th>dl_mood_list</th>\n",
       "      <th>dl_topic_list</th>\n",
       "      <th>dl_why_list</th>\n",
       "      <th>dl_20_pop_list</th>\n",
       "      <th>org_list</th>\n",
       "    </tr>\n",
       "  </thead>\n",
       "  <tbody>\n",
       "    <tr>\n",
       "      <th>0</th>\n",
       "      <td>1080칼국수</td>\n",
       "      <td>칼국수,만두</td>\n",
       "      <td>제주 제주시 서광로13길 3</td>\n",
       "      <td>63</td>\n",
       "      <td>13</td>\n",
       "      <td>{'음식이 맛있어요': 17, '친절해요': 12, '가성비가 좋아요': 11, '...</td>\n",
       "      <td>6750</td>\n",
       "      <td>NaN</td>\n",
       "      <td>NaN</td>\n",
       "      <td>NaN</td>\n",
       "      <td>NaN</td>\n",
       "      <td>1080칼국수</td>\n",
       "    </tr>\n",
       "    <tr>\n",
       "      <th>1</th>\n",
       "      <td>1950하우스</td>\n",
       "      <td>민박</td>\n",
       "      <td>제주 제주시 구좌읍 덕평로 364-2</td>\n",
       "      <td>0</td>\n",
       "      <td>1</td>\n",
       "      <td>NaN</td>\n",
       "      <td>알 수 없음</td>\n",
       "      <td>NaN</td>\n",
       "      <td>NaN</td>\n",
       "      <td>NaN</td>\n",
       "      <td>NaN</td>\n",
       "      <td>1950하우스</td>\n",
       "    </tr>\n",
       "    <tr>\n",
       "      <th>2</th>\n",
       "      <td>2093하우스</td>\n",
       "      <td>돈가스</td>\n",
       "      <td>제주 제주시 조천읍 남조로 2093</td>\n",
       "      <td>442</td>\n",
       "      <td>473</td>\n",
       "      <td>{'음식이 맛있어요': 102, '주차하기 편해요': 48, '친절해요': 39, ...</td>\n",
       "      <td>14250</td>\n",
       "      <td>아늑한, 분위기있는, 깨끗한, 엔틱한</td>\n",
       "      <td>전복죽, 흑돼지, 돈가스, 아이스크림</td>\n",
       "      <td>가족여행, 신선한, 데이트, 싱싱한</td>\n",
       "      <td>60.932499999999976%</td>\n",
       "      <td>2093하우스</td>\n",
       "    </tr>\n",
       "    <tr>\n",
       "      <th>3</th>\n",
       "      <td>24시누름돌김치찌개</td>\n",
       "      <td>한식</td>\n",
       "      <td>제주 제주시 노연로 146</td>\n",
       "      <td>426</td>\n",
       "      <td>42</td>\n",
       "      <td>{'음식이 맛있어요': 128, '가성비가 좋아요': 70, '양이 많아요': 38...</td>\n",
       "      <td>7450</td>\n",
       "      <td>NaN</td>\n",
       "      <td>NaN</td>\n",
       "      <td>NaN</td>\n",
       "      <td>NaN</td>\n",
       "      <td>24시누름돌김치찌개</td>\n",
       "    </tr>\n",
       "    <tr>\n",
       "      <th>4</th>\n",
       "      <td>24시뼈다귀탕동홍점</td>\n",
       "      <td>24시뼈다귀탕</td>\n",
       "      <td>제주 서귀포시 동홍남로 43</td>\n",
       "      <td>284</td>\n",
       "      <td>19</td>\n",
       "      <td>{'음식이 맛있어요': 90, '양이 많아요': 34, '매장이 넓어요': 19, ...</td>\n",
       "      <td>23000</td>\n",
       "      <td>NaN</td>\n",
       "      <td>NaN</td>\n",
       "      <td>NaN</td>\n",
       "      <td>NaN</td>\n",
       "      <td>24시뼈다귀탕동홍점</td>\n",
       "    </tr>\n",
       "  </tbody>\n",
       "</table>\n",
       "</div>"
      ],
      "text/plain": [
       "    name_list type_list          address_list visitor_review_num_list  \\\n",
       "0     1080칼국수    칼국수,만두       제주 제주시 서광로13길 3                      63   \n",
       "1     1950하우스        민박  제주 제주시 구좌읍 덕평로 364-2                       0   \n",
       "2     2093하우스       돈가스   제주 제주시 조천읍 남조로 2093                     442   \n",
       "3  24시누름돌김치찌개        한식        제주 제주시 노연로 146                     426   \n",
       "4  24시뼈다귀탕동홍점   24시뼈다귀탕       제주 서귀포시 동홍남로 43                     284   \n",
       "\n",
       "  blog_review_num_list                                visitor_review_list  \\\n",
       "0                   13  {'음식이 맛있어요': 17, '친절해요': 12, '가성비가 좋아요': 11, '...   \n",
       "1                    1                                                NaN   \n",
       "2                  473  {'음식이 맛있어요': 102, '주차하기 편해요': 48, '친절해요': 39, ...   \n",
       "3                   42  {'음식이 맛있어요': 128, '가성비가 좋아요': 70, '양이 많아요': 38...   \n",
       "4                   19  {'음식이 맛있어요': 90, '양이 많아요': 34, '매장이 넓어요': 19, ...   \n",
       "\n",
       "  menu_list          dl_mood_list         dl_topic_list          dl_why_list  \\\n",
       "0      6750                   NaN                   NaN                  NaN   \n",
       "1    알 수 없음                   NaN                   NaN                  NaN   \n",
       "2     14250  아늑한, 분위기있는, 깨끗한, 엔틱한  전복죽, 흑돼지, 돈가스, 아이스크림  가족여행, 신선한, 데이트, 싱싱한   \n",
       "3      7450                   NaN                   NaN                  NaN   \n",
       "4     23000                   NaN                   NaN                  NaN   \n",
       "\n",
       "        dl_20_pop_list    org_list  \n",
       "0                  NaN     1080칼국수  \n",
       "1                  NaN     1950하우스  \n",
       "2  60.932499999999976%     2093하우스  \n",
       "3                  NaN  24시누름돌김치찌개  \n",
       "4                  NaN  24시뼈다귀탕동홍점  "
      ]
     },
     "execution_count": 51,
     "metadata": {},
     "output_type": "execute_result"
    }
   ],
   "source": [
    "naver_crawl = pd.read_csv('data/F&B데이터_네이버크롤링.csv')\n",
    "naver_crawl.head()"
   ]
  },
  {
   "cell_type": "code",
   "execution_count": 52,
   "id": "1d9fb775",
   "metadata": {},
   "outputs": [],
   "source": [
    "fb_dat = pd.merge(fb_dat, naver_crawl,how='left',\n",
    "                  left_on='AREA_NM_PRE', right_on='org_list').reset_index(drop=True)"
   ]
  },
  {
   "cell_type": "code",
   "execution_count": 53,
   "id": "3d9b6ea9",
   "metadata": {},
   "outputs": [],
   "source": [
    "#fb_dat.to_csv('F&B데이터_탄소추가_크롤링추가.csv', encoding='utf-8-sig', index=False)"
   ]
  },
  {
   "cell_type": "markdown",
   "id": "c8884f15",
   "metadata": {},
   "source": [
    "### 5-(2) 데이터 정제"
   ]
  },
  {
   "cell_type": "code",
   "execution_count": 54,
   "id": "6be9fb89",
   "metadata": {},
   "outputs": [],
   "source": [
    "#pd.set_option('display.max_columns', None) \n",
    "#pd.set_option('display.max_rows', None) "
   ]
  },
  {
   "cell_type": "markdown",
   "id": "90474019",
   "metadata": {},
   "source": [
    "#### 1) 검색 결과가 없는 데이터 삭제\n",
    "- name_list가 no_result인 경우 네이버에 검색결과가 아예없는 것이므로 폐업으로 간주하고 전부 삭제\n",
    "\n"
   ]
  },
  {
   "cell_type": "code",
   "execution_count": 55,
   "id": "a1620086",
   "metadata": {},
   "outputs": [],
   "source": [
    "fb_dat = fb_dat[fb_dat.name_list != \"no_result\"].reset_index(drop=True)"
   ]
  },
  {
   "cell_type": "markdown",
   "id": "3d2341c2",
   "metadata": {},
   "source": [
    "- address_list가 NA인 경우(5가지 -> 제대로 검색되지 않음) 도 삭제"
   ]
  },
  {
   "cell_type": "code",
   "execution_count": 56,
   "id": "e49b7c38",
   "metadata": {},
   "outputs": [],
   "source": [
    "fb_dat = fb_dat.dropna(subset=['address_list']).reset_index(drop=True)"
   ]
  },
  {
   "cell_type": "markdown",
   "id": "961feacb",
   "metadata": {},
   "source": [
    "#### 2) 매칭이 제대로 안된 경우 확인\n",
    "\n",
    "- 이름이 다른 경우 -> 주소 확인하고 주소 읍면동 다르면 삭제\n"
   ]
  },
  {
   "cell_type": "code",
   "execution_count": 57,
   "id": "ab3e6a60",
   "metadata": {},
   "outputs": [],
   "source": [
    "def name_preprocessing(name):\n",
    "    name = name.replace(' (', '(').replace(') ', ')').strip()\n",
    "    name = name.replace('(주)','').replace(\"·\",\".\").lower()\n",
    "    name = re.sub('[\\(\\)㈜!@#$%^&*{}|:;\\'\\\"/><,~`+=_ ]','', name)\n",
    "    name = re.sub('[\\[.\\]]','',name)\n",
    "    name = name.replace(\" \", \"\")\n",
    "    return name.strip()"
   ]
  },
  {
   "cell_type": "code",
   "execution_count": 58,
   "id": "9d8c84a3",
   "metadata": {
    "code_folding": []
   },
   "outputs": [],
   "source": [
    "def addr_preprocessing(addr):\n",
    "    addr = addr.strip()\n",
    "    if '제주특별자치도' in addr:\n",
    "        addr = \"제주특별자치도 \" + addr.split('제주특별자치도')[1].lstrip()\n",
    "    else:\n",
    "        addr = re.sub('제주 서귀포시','제주특별자치도 서귀포시', addr)\n",
    "        addr = re.sub('제주 제주시','제주특별자치도 제주시', addr)\n",
    "\n",
    "    addr = re.sub(\" \", \"\", addr) # 띄어쓰기제거\n",
    "    addr = addr[7:14] # 7번째에서 14번째 글자만 보자 => 주소 같은곳인지 빠르게 확인하기 위함 \n",
    "    return addr.strip() "
   ]
  },
  {
   "cell_type": "code",
   "execution_count": 59,
   "id": "a6a75d21",
   "metadata": {},
   "outputs": [],
   "source": [
    "# 이름이 다른 경우만 추출\n",
    "diff_df = fb_dat[fb_dat.name_list != fb_dat.org_list][['org_list', 'name_list', 'ROAD_ADDR', 'address_list', 'type_list']]"
   ]
  },
  {
   "cell_type": "code",
   "execution_count": 60,
   "id": "6f78162e",
   "metadata": {},
   "outputs": [],
   "source": [
    "# 이름, 주소 비교가능하도록 정제\n",
    "diff_df['name_list'] =list(map(lambda x : name_preprocessing(x), diff_df['name_list']))\n",
    "diff_df['ROAD_ADDR'] = list(map(lambda x : addr_preprocessing(x), diff_df['ROAD_ADDR']))\n",
    "diff_df['address_list'] =list(map(lambda x : addr_preprocessing(x), diff_df['address_list']))"
   ]
  },
  {
   "cell_type": "code",
   "execution_count": 61,
   "id": "a2e2b2d7",
   "metadata": {},
   "outputs": [],
   "source": [
    "#주소 앞 12글자가 다른 경우 삭제 \n",
    "miss_index = diff_df[(diff_df.address_list != diff_df.ROAD_ADDR)].index"
   ]
  },
  {
   "cell_type": "code",
   "execution_count": 62,
   "id": "090ab49a",
   "metadata": {},
   "outputs": [],
   "source": [
    "fb_dat = fb_dat.drop(miss_index).reset_index(drop=True)"
   ]
  },
  {
   "cell_type": "markdown",
   "id": "ec0d0fe0",
   "metadata": {},
   "source": [
    "#### 3) 음식점/카페가 아닌 경우 삭제\n",
    "- type list 기준으로 식당 아닌 곳 제거"
   ]
  },
  {
   "cell_type": "markdown",
   "id": "345ef461",
   "metadata": {},
   "source": [
    "\n",
    "- 민박/관람,체험/화장실/농공시설/서점/기타숙박업/펜션/게스트하우스/패션/식물원,수목원/전통공예/세제제조/오름/원예,화훼농원/공방/4성급/마을회관/갤러리,화랑/뉴스,미디어/강,하천/테마공원/촬영장소/판촉,기념품/3성급/피부,체형관리/과일/슈퍼,마트/주류제조/식료품제조 => 삭제 \n",
    "\n",
    "\n",
    "- 식료품/플라워카페/북카페/키즈카페,실내놀이터/방앗간 => 비슷한 다른 업종분류로 변경\n"
   ]
  },
  {
   "cell_type": "code",
   "execution_count": 63,
   "id": "4726ab70",
   "metadata": {},
   "outputs": [],
   "source": [
    "# F&B데이터가 아닌 type 삭제\n",
    "except_list = ['관람,체험', '민박', '화장실', '농공시설', '서점', '기타숙박업', '펜션', '게스트하우스', '패션',\n",
    "              '식물원,수목원', '전통공예', '세제제조', '오름', '원예,화훼농원', '공방', '4성급', '마을회관',\n",
    "              '갤러리,화랑', '뉴스,미디어', '강,하천', '테마공원', '촬영장소', '판촉,기념품', '3성급', '피부,체형관리', \n",
    "              '슈퍼,마트','주류제조','식료품제조', '과일', '회관']\n",
    "\n",
    "fb_dat = fb_dat.loc[[i for i in range(len(fb_dat)) if fb_dat['type_list'][i] not in except_list]]"
   ]
  },
  {
   "cell_type": "code",
   "execution_count": 64,
   "id": "54ab0d29",
   "metadata": {},
   "outputs": [],
   "source": [
    "# 일품순두부 -> 두부요리로 편입\n",
    "fb_dat['type_list'][fb_dat.type_list == \"일품순두부\"] = \"두부요리\""
   ]
  },
  {
   "cell_type": "code",
   "execution_count": 65,
   "id": "5f350c93",
   "metadata": {},
   "outputs": [
    {
     "data": {
      "text/plain": [
       "1242"
      ]
     },
     "execution_count": 65,
     "metadata": {},
     "output_type": "execute_result"
    }
   ],
   "source": [
    "fb_dat = fb_dat.reset_index(drop=True)\n",
    "len(fb_dat)"
   ]
  },
  {
   "cell_type": "markdown",
   "id": "d0962c21",
   "metadata": {},
   "source": [
    "### 5-(3) 가격 데이터 정제\n",
    "\n",
    "\n",
    "\n"
   ]
  },
  {
   "cell_type": "code",
   "execution_count": 66,
   "id": "fe870541",
   "metadata": {
    "code_folding": []
   },
   "outputs": [],
   "source": [
    "# 메뉴 평균가격(menu_list)이 알수없음인 경우 NA로 변경\n",
    "fb_dat['menu_list'] = pd.to_numeric([np.NaN if menu == '알 수 없음' else menu for menu in fb_dat['menu_list']])"
   ]
  },
  {
   "cell_type": "markdown",
   "id": "4ce8a391",
   "metadata": {},
   "source": [
    "- merchant data 매출구간 중위값/20대 승인건수 합으로 계산한 예상가격대와 네이버 크롤링 가격대 비교"
   ]
  },
  {
   "cell_type": "code",
   "execution_count": 67,
   "id": "34b60893",
   "metadata": {},
   "outputs": [],
   "source": [
    "# 매출구간 중위값/20대고객 승인건수 합\n",
    "fb_dat['merchant'] = fb_dat['SALES']/fb_dat['CT_SUM']"
   ]
  },
  {
   "cell_type": "code",
   "execution_count": 68,
   "id": "58a8c91b",
   "metadata": {},
   "outputs": [],
   "source": [
    "# merchant 데이터로 계산한 예상가격대와 네이버 크롤링 가격대 비교하기\n",
    "# 두 데이터가 모두 존재하는 경우 차이가 얼마나 나는지 비교\n",
    "diff = fb_dat[-fb_dat.merchant.isnull()][['name_list','merchant', 'menu_list']]\n",
    "diff['diff'] = pd.to_numeric(diff['merchant'] - diff['menu_list'])"
   ]
  },
  {
   "cell_type": "code",
   "execution_count": 69,
   "id": "128ca14d",
   "metadata": {},
   "outputs": [
    {
     "data": {
      "text/html": [
       "<div>\n",
       "<style scoped>\n",
       "    .dataframe tbody tr th:only-of-type {\n",
       "        vertical-align: middle;\n",
       "    }\n",
       "\n",
       "    .dataframe tbody tr th {\n",
       "        vertical-align: top;\n",
       "    }\n",
       "\n",
       "    .dataframe thead th {\n",
       "        text-align: right;\n",
       "    }\n",
       "</style>\n",
       "<table border=\"1\" class=\"dataframe\">\n",
       "  <thead>\n",
       "    <tr style=\"text-align: right;\">\n",
       "      <th></th>\n",
       "      <th>merchant</th>\n",
       "      <th>menu_list</th>\n",
       "      <th>diff</th>\n",
       "    </tr>\n",
       "  </thead>\n",
       "  <tbody>\n",
       "    <tr>\n",
       "      <th>count</th>\n",
       "      <td>67.000000</td>\n",
       "      <td>67.000000</td>\n",
       "      <td>67.000000</td>\n",
       "    </tr>\n",
       "    <tr>\n",
       "      <th>mean</th>\n",
       "      <td>34513.590991</td>\n",
       "      <td>28726.611940</td>\n",
       "      <td>5786.979050</td>\n",
       "    </tr>\n",
       "    <tr>\n",
       "      <th>std</th>\n",
       "      <td>39203.024101</td>\n",
       "      <td>41265.207342</td>\n",
       "      <td>19768.948281</td>\n",
       "    </tr>\n",
       "    <tr>\n",
       "      <th>min</th>\n",
       "      <td>5889.459378</td>\n",
       "      <td>2600.000000</td>\n",
       "      <td>-65803.571429</td>\n",
       "    </tr>\n",
       "    <tr>\n",
       "      <th>25%</th>\n",
       "      <td>14427.906588</td>\n",
       "      <td>7500.000000</td>\n",
       "      <td>1549.252808</td>\n",
       "    </tr>\n",
       "    <tr>\n",
       "      <th>50%</th>\n",
       "      <td>23720.182257</td>\n",
       "      <td>13500.000000</td>\n",
       "      <td>6991.605955</td>\n",
       "    </tr>\n",
       "    <tr>\n",
       "      <th>75%</th>\n",
       "      <td>38939.048569</td>\n",
       "      <td>32625.000000</td>\n",
       "      <td>11564.992939</td>\n",
       "    </tr>\n",
       "    <tr>\n",
       "      <th>max</th>\n",
       "      <td>274007.936508</td>\n",
       "      <td>225000.000000</td>\n",
       "      <td>58275.635408</td>\n",
       "    </tr>\n",
       "  </tbody>\n",
       "</table>\n",
       "</div>"
      ],
      "text/plain": [
       "            merchant      menu_list          diff\n",
       "count      67.000000      67.000000     67.000000\n",
       "mean    34513.590991   28726.611940   5786.979050\n",
       "std     39203.024101   41265.207342  19768.948281\n",
       "min      5889.459378    2600.000000 -65803.571429\n",
       "25%     14427.906588    7500.000000   1549.252808\n",
       "50%     23720.182257   13500.000000   6991.605955\n",
       "75%     38939.048569   32625.000000  11564.992939\n",
       "max    274007.936508  225000.000000  58275.635408"
      ]
     },
     "execution_count": 69,
     "metadata": {},
     "output_type": "execute_result"
    }
   ],
   "source": [
    "# 두 예상가격대 비교 \n",
    "diff[-diff.menu_list.isnull()].describe()"
   ]
  },
  {
   "cell_type": "markdown",
   "id": "323bf8d6",
   "metadata": {},
   "source": [
    "상대적으로 네이버크롤링 메뉴가격이 저평가되어있음   \n",
    "\n",
    "예상 원인 : [칠돈가 표선직영점 네이버지도](https://map.naver.com/v5/search/%EC%B9%A0%EB%8F%88%EA%B0%80%20%ED%91%9C%EC%84%A0%EC%A7%81%EC%98%81%EC%A0%90/place/37182840?c=14118351.0001512,3938637.8930302,13,0,0,0,dh&isCorrectAnswer=true)\n",
    "예시 처럼 김치전 추가시 1000원 데이터가 평균값을 확 내려버릴 수도 있고, 전체 메뉴가 아닌 일부 메뉴만 수집해오는 것이기 때문에 평균 매출가격을 대체한다고 보기 어려움 + MERCHANT 매출액 상위 가맹점 데이터이므로 고평가되어 있을 가능성 존재하지만\n",
    "merchant데이터가 조금더 실제 결제금액과 더 유사하다고 볼 수 있음\n",
    "\n",
    "#### **가격정보 최종로직!**\n",
    "> (1) merchant 데이터 기준으로 사용  \n",
    "> (2) merchant 가격 데이터 없는 경우 - naver크롤링 메뉴 평균 가격으로 나머지 채우기  \n",
    "> (3) 그래도 na인 경우는 업종별 평균으로 합치기 - 업종분류가 자기자신밖에 없는 경우 다른 업종으로 편입"
   ]
  },
  {
   "cell_type": "code",
   "execution_count": 70,
   "id": "9384e84f",
   "metadata": {
    "code_folding": []
   },
   "outputs": [],
   "source": [
    "# 1. merchant 데이터로 가격대 채우기\n",
    "fb_dat['price'] = fb_dat['merchant']"
   ]
  },
  {
   "cell_type": "code",
   "execution_count": 71,
   "id": "aabecca7",
   "metadata": {},
   "outputs": [],
   "source": [
    "# 2. merchant 데이터 없는 경우 -> 네이버 크롤링 결과로 채우기\n",
    "fb_dat['price'] = [ fb_dat['menu_list'][i] if np.isnan(fb_dat['merchant'][i]) else fb_dat['merchant'][i] for i in range(len(fb_dat))]"
   ]
  },
  {
   "cell_type": "code",
   "execution_count": 72,
   "id": "d7fc4e80",
   "metadata": {
    "scrolled": false
   },
   "outputs": [
    {
     "data": {
      "text/plain": [
       "array(['한식', '차', '생선회', '카페', '카페,디저트', '국밥', '종합분식', '김밥', '아귀찜,해물찜',\n",
       "       '플라워카페', '민속주점', '일식당', '양식', '요리주점', '중식당', '해물,생선요리', '패밀리레스토랑',\n",
       "       '이탈리아음식', '프랑스음식', '백반,가정식', '돈가스', '퓨전음식', '라이브카페', '베이커리',\n",
       "       '차,커피', '돼지고기구이', '육류,고기요리', '떡볶이', '치킨,닭강정', '백숙,삼계탕', '한정식',\n",
       "       '건강음료', '와플', '아이스크림', '와인', '맥주,호프', '떡,한과', '식료품', '향토음식', '막국수',\n",
       "       '주류', '아시아음식', '뷔페', '전복요리', '브런치', '방앗간'], dtype=object)"
      ]
     },
     "execution_count": 72,
     "metadata": {},
     "output_type": "execute_result"
    }
   ],
   "source": [
    "# 3. 두 가격정보 모두 없는 경우 업종 분류\n",
    "fb_dat[fb_dat.price.isna()]['type_list'].unique()"
   ]
  },
  {
   "cell_type": "markdown",
   "id": "e6468926",
   "metadata": {},
   "source": [
    "merchant와 네이버 크롤링 결과 모두 가격정보를 채울 수 없는 경우 -> 업종별 평균으로 대체  \n",
    "이때 마주친 문제점\n",
    "\n",
    "> (1) type이 unique한데 NA인 경우 대체할 값이 없다 -> 비슷한 업종으로 편입   \n",
    "> (2) type이 unique하지는 않지만 모두 NA이다 -> 비슷한 업종으로 모두 편입\n",
    "\n",
    "(1) type이 unique한데 NA인 경우"
   ]
  },
  {
   "cell_type": "code",
   "execution_count": 73,
   "id": "92413bbd",
   "metadata": {},
   "outputs": [],
   "source": [
    "# type이 unique한 경우\n",
    "val_cnt = fb_dat['type_list'].value_counts().to_frame().reset_index()\n",
    "uniq_list = val_cnt[val_cnt.type_list == 1]['index'].to_list()"
   ]
  },
  {
   "cell_type": "code",
   "execution_count": 74,
   "id": "e520cf39",
   "metadata": {},
   "outputs": [
    {
     "data": {
      "text/plain": [
       "array(['민속주점', '라이브카페', '건강음료', '와플', '와인', '식료품', '막국수', '주류', '방앗간'],\n",
       "      dtype=object)"
      ]
     },
     "execution_count": 74,
     "metadata": {},
     "output_type": "execute_result"
    }
   ],
   "source": [
    "# type이 unique한 애들 중 price가 NA인 경우 \n",
    "fb_dat[(fb_dat['type_list'].isin(uniq_list)) & fb_dat['price'].isna()]['type_list'].unique()"
   ]
  },
  {
   "cell_type": "code",
   "execution_count": 75,
   "id": "c5ca5564",
   "metadata": {
    "scrolled": true
   },
   "outputs": [
    {
     "data": {
      "text/html": [
       "<div>\n",
       "<style scoped>\n",
       "    .dataframe tbody tr th:only-of-type {\n",
       "        vertical-align: middle;\n",
       "    }\n",
       "\n",
       "    .dataframe tbody tr th {\n",
       "        vertical-align: top;\n",
       "    }\n",
       "\n",
       "    .dataframe thead th {\n",
       "        text-align: right;\n",
       "    }\n",
       "</style>\n",
       "<table border=\"1\" class=\"dataframe\">\n",
       "  <thead>\n",
       "    <tr style=\"text-align: right;\">\n",
       "      <th></th>\n",
       "      <th>name_list</th>\n",
       "      <th>type_list</th>\n",
       "      <th>tags</th>\n",
       "      <th>heart</th>\n",
       "    </tr>\n",
       "  </thead>\n",
       "  <tbody>\n",
       "    <tr>\n",
       "      <th>146</th>\n",
       "      <td>닐모리동동</td>\n",
       "      <td>민속주점</td>\n",
       "      <td>#오징어튀김먹물파스타 #한라산빙수 #우도땅콩팬케이크 #지름떡팬케이크 #향토음식 #음...</td>\n",
       "      <td>51</td>\n",
       "    </tr>\n",
       "    <tr>\n",
       "      <th>452</th>\n",
       "      <td>벨롱</td>\n",
       "      <td>라이브카페</td>\n",
       "      <td>#카페 #커피 #샌드위치 #음식 #디저트 #아메리카노 #카페라떼 #카페모카 #에이드...</td>\n",
       "      <td>3</td>\n",
       "    </tr>\n",
       "    <tr>\n",
       "      <th>774</th>\n",
       "      <td>올레산야초</td>\n",
       "      <td>건강음료</td>\n",
       "      <td>#휴식/힐링 #체험관광 #친구 #음식 #눈꽃빙수 #샐러드 #차</td>\n",
       "      <td>10</td>\n",
       "    </tr>\n",
       "    <tr>\n",
       "      <th>783</th>\n",
       "      <td>와팡 중문주상절리점</td>\n",
       "      <td>와플</td>\n",
       "      <td>#와플 #디저트 #한라봉 #음식 #빵 #주스</td>\n",
       "      <td>4</td>\n",
       "    </tr>\n",
       "    <tr>\n",
       "      <th>866</th>\n",
       "      <td>인디안 썸머 애월</td>\n",
       "      <td>와인</td>\n",
       "      <td>#애월 #펍 #카페 #음식</td>\n",
       "      <td>1</td>\n",
       "    </tr>\n",
       "    <tr>\n",
       "      <th>878</th>\n",
       "      <td>일품순두부탑동점</td>\n",
       "      <td>식료품</td>\n",
       "      <td>#탑동 #순두부요리 #전골요리 #음식 #식당 #음식 #식당</td>\n",
       "      <td>0</td>\n",
       "    </tr>\n",
       "    <tr>\n",
       "      <th>911</th>\n",
       "      <td>제주돔베막국수</td>\n",
       "      <td>막국수</td>\n",
       "      <td>#막국수 #돔베고기 #안심채움 #맛있는제주만들기 #음식 #식당</td>\n",
       "      <td>3</td>\n",
       "    </tr>\n",
       "    <tr>\n",
       "      <th>929</th>\n",
       "      <td>농업회사법인제주와이너리</td>\n",
       "      <td>주류</td>\n",
       "      <td>#술 #감귤주 #귤로만 #전통주 #제주감귤 #음식 #전통주 #제주감귤 #음식</td>\n",
       "      <td>5</td>\n",
       "    </tr>\n",
       "    <tr>\n",
       "      <th>1172</th>\n",
       "      <td>할머니떡집 방앗간</td>\n",
       "      <td>방앗간</td>\n",
       "      <td>#서귀포올레시장 #할머니떡집 #오메기떡 #제주떡맛집 #음식 #카페 #제주떡맛집 #음...</td>\n",
       "      <td>0</td>\n",
       "    </tr>\n",
       "  </tbody>\n",
       "</table>\n",
       "</div>"
      ],
      "text/plain": [
       "         name_list type_list  \\\n",
       "146          닐모리동동      민속주점   \n",
       "452             벨롱     라이브카페   \n",
       "774          올레산야초      건강음료   \n",
       "783     와팡 중문주상절리점        와플   \n",
       "866      인디안 썸머 애월        와인   \n",
       "878       일품순두부탑동점       식료품   \n",
       "911        제주돔베막국수       막국수   \n",
       "929   농업회사법인제주와이너리        주류   \n",
       "1172     할머니떡집 방앗간       방앗간   \n",
       "\n",
       "                                                   tags heart  \n",
       "146   #오징어튀김먹물파스타 #한라산빙수 #우도땅콩팬케이크 #지름떡팬케이크 #향토음식 #음...    51  \n",
       "452   #카페 #커피 #샌드위치 #음식 #디저트 #아메리카노 #카페라떼 #카페모카 #에이드...     3  \n",
       "774                  #휴식/힐링 #체험관광 #친구 #음식 #눈꽃빙수 #샐러드 #차    10  \n",
       "783                            #와플 #디저트 #한라봉 #음식 #빵 #주스     4  \n",
       "866                                      #애월 #펍 #카페 #음식     1  \n",
       "878                    #탑동 #순두부요리 #전골요리 #음식 #식당 #음식 #식당     0  \n",
       "911                  #막국수 #돔베고기 #안심채움 #맛있는제주만들기 #음식 #식당     3  \n",
       "929          #술 #감귤주 #귤로만 #전통주 #제주감귤 #음식 #전통주 #제주감귤 #음식     5  \n",
       "1172  #서귀포올레시장 #할머니떡집 #오메기떡 #제주떡맛집 #음식 #카페 #제주떡맛집 #음...     0  "
      ]
     },
     "execution_count": 75,
     "metadata": {},
     "output_type": "execute_result"
    }
   ],
   "source": [
    "fb_dat[(fb_dat['type_list'].isin(uniq_list)) & fb_dat['price'].isna()][['name_list', 'type_list', 'tags', 'heart']]"
   ]
  },
  {
   "cell_type": "code",
   "execution_count": 76,
   "id": "27ce6ae4",
   "metadata": {},
   "outputs": [],
   "source": [
    "# 가격정보 가지는 type list 중 비슷한 항목으로 편입 \n",
    "fb_dat['type_list'][146] = \"양식\"\n",
    "fb_dat['type_list'][452] = \"카페\"\n",
    "fb_dat['type_list'][774] = \"카페,디저트\"\n",
    "fb_dat['type_list'][783] = \"카페,디저트\"\n",
    "fb_dat['type_list'][866] = \"바(BAR)\"\n",
    "fb_dat['type_list'][878] = \"두부요리\"\n",
    "fb_dat['type_list'][911] = \"국수\"\n",
    "fb_dat['type_list'][929] = \"바(BAR)\"\n",
    "fb_dat['type_list'][1172] = \"떡,한과\""
   ]
  },
  {
   "cell_type": "markdown",
   "id": "b51a607e",
   "metadata": {},
   "source": [
    "(2) type이 unique하지는 않지만 모두 NA인 경우\n",
    "- 차,커피 -> 카페\n",
    "- 떡,한과 -> 떡카페"
   ]
  },
  {
   "cell_type": "code",
   "execution_count": 77,
   "id": "dd782f21",
   "metadata": {},
   "outputs": [],
   "source": [
    "fb_dat['type_list'][491] = \"카페\"\n",
    "fb_dat['type_list'][1141] = \"카페\"\n",
    "fb_dat['type_list'][873] = \"떡카페\"\n",
    "fb_dat['type_list'][907] = \"떡카페\"\n",
    "fb_dat['type_list'][1172] = \"떡카페\""
   ]
  },
  {
   "cell_type": "markdown",
   "id": "5b62ab0a",
   "metadata": {},
   "source": [
    "### 5-(4) 가격 NA 평균 대체\n",
    "업종구분(type_list) 평균으로 가격 NA값 대체"
   ]
  },
  {
   "cell_type": "code",
   "execution_count": 78,
   "id": "49aba5aa",
   "metadata": {
    "scrolled": false
   },
   "outputs": [
    {
     "data": {
      "text/html": [
       "<div>\n",
       "<style scoped>\n",
       "    .dataframe tbody tr th:only-of-type {\n",
       "        vertical-align: middle;\n",
       "    }\n",
       "\n",
       "    .dataframe tbody tr th {\n",
       "        vertical-align: top;\n",
       "    }\n",
       "\n",
       "    .dataframe thead th {\n",
       "        text-align: right;\n",
       "    }\n",
       "</style>\n",
       "<table border=\"1\" class=\"dataframe\">\n",
       "  <thead>\n",
       "    <tr style=\"text-align: right;\">\n",
       "      <th></th>\n",
       "      <th>type_list</th>\n",
       "      <th>price</th>\n",
       "    </tr>\n",
       "  </thead>\n",
       "  <tbody>\n",
       "    <tr>\n",
       "      <th>40</th>\n",
       "      <td>생선회</td>\n",
       "      <td>86093.792128</td>\n",
       "    </tr>\n",
       "    <tr>\n",
       "      <th>44</th>\n",
       "      <td>스테이크,립</td>\n",
       "      <td>65537.500000</td>\n",
       "    </tr>\n",
       "    <tr>\n",
       "      <th>93</th>\n",
       "      <td>해산물뷔페</td>\n",
       "      <td>63250.000000</td>\n",
       "    </tr>\n",
       "    <tr>\n",
       "      <th>42</th>\n",
       "      <td>소고기구이</td>\n",
       "      <td>62900.000000</td>\n",
       "    </tr>\n",
       "    <tr>\n",
       "      <th>51</th>\n",
       "      <td>오리요리</td>\n",
       "      <td>52500.000000</td>\n",
       "    </tr>\n",
       "    <tr>\n",
       "      <th>...</th>\n",
       "      <td>...</td>\n",
       "      <td>...</td>\n",
       "    </tr>\n",
       "    <tr>\n",
       "      <th>23</th>\n",
       "      <td>만두</td>\n",
       "      <td>5625.000000</td>\n",
       "    </tr>\n",
       "    <tr>\n",
       "      <th>10</th>\n",
       "      <td>기사식당</td>\n",
       "      <td>5250.000000</td>\n",
       "    </tr>\n",
       "    <tr>\n",
       "      <th>49</th>\n",
       "      <td>아이스크림</td>\n",
       "      <td>5200.000000</td>\n",
       "    </tr>\n",
       "    <tr>\n",
       "      <th>78</th>\n",
       "      <td>케이크전문</td>\n",
       "      <td>4500.000000</td>\n",
       "    </tr>\n",
       "    <tr>\n",
       "      <th>6</th>\n",
       "      <td>과일,주스전문점</td>\n",
       "      <td>3745.500000</td>\n",
       "    </tr>\n",
       "  </tbody>\n",
       "</table>\n",
       "<p>97 rows × 2 columns</p>\n",
       "</div>"
      ],
      "text/plain": [
       "   type_list         price\n",
       "40       생선회  86093.792128\n",
       "44    스테이크,립  65537.500000\n",
       "93     해산물뷔페  63250.000000\n",
       "42     소고기구이  62900.000000\n",
       "51      오리요리  52500.000000\n",
       "..       ...           ...\n",
       "23        만두   5625.000000\n",
       "10      기사식당   5250.000000\n",
       "49     아이스크림   5200.000000\n",
       "78     케이크전문   4500.000000\n",
       "6   과일,주스전문점   3745.500000\n",
       "\n",
       "[97 rows x 2 columns]"
      ]
     },
     "execution_count": 78,
     "metadata": {},
     "output_type": "execute_result"
    }
   ],
   "source": [
    "type_pr_mean = fb_dat[-fb_dat.price.isnull()]['price'].groupby(fb_dat['type_list']).mean().to_frame().reset_index()\n",
    "type_pr_mean.sort_values(by=['price'], axis=0, ascending=False)"
   ]
  },
  {
   "cell_type": "code",
   "execution_count": 79,
   "id": "c59ec16f",
   "metadata": {
    "code_folding": [],
    "scrolled": true
   },
   "outputs": [],
   "source": [
    "for i in fb_dat[fb_dat['price'].isna()].index:\n",
    "    for j in range(len(type_pr_mean)):\n",
    "        if fb_dat['type_list'][i] == type_pr_mean['type_list'][j]:\n",
    "            fb_dat['price'][i] = type_pr_mean['price'][j]"
   ]
  },
  {
   "cell_type": "markdown",
   "id": "735afb1e",
   "metadata": {},
   "source": [
    "## 6. 메뉴군 분류 및 평균 탄소 배출량 NA대체\n",
    "\n",
    "가격과 마찬가지로 탄소배출량이 NA인 곳들도 업종별 평균으로 대체  \n",
    "다만 탄소배출량의 경우 네이버 업종으로 na를 대체할 수 있는 데이터가 부족하므로\n",
    "더 포괄적인 중분류 카테고리를 만들어서 채워줄 예정"
   ]
  },
  {
   "cell_type": "code",
   "execution_count": 80,
   "id": "3aeff20c",
   "metadata": {},
   "outputs": [],
   "source": [
    "# 필요없는 column 삭제\n",
    "fb_dat.drop(['SALES', 'CT_SUM', 'LTNO_ADDR', 'ADDR','co2_mean', 'menu_list', 'merchant'], axis=1, inplace=True)"
   ]
  },
  {
   "cell_type": "markdown",
   "id": "e8e21a25",
   "metadata": {},
   "source": [
    "### 6-(1) 업종 중분류  카테고리 나누기\n",
    "\n",
    "네이버 크롤링 데이터 기준 업종이 지나치게 세분화되어 있기 때문에 탄소배출량 업종별 평균으로 대체 불가하므로 보다 포괄적인 중분류 카테고리 생성\n",
    "- 중분류 별 탄소배출량 평균으로 대체\n",
    "> ex) 프랑스음식 식당인데 눈에 띄게 탄소배출량이 높은 경우 호텔과 같은 지번주소를 공유하고 있는 경우 존재 -> 양식이라는 큰 카테고리로 묶어준다면 더 많은 동종업과 묶이게 되므로 양식 종류의 음식점 전체에서 배출되는 탄소배출량의 평균으로 대체 가능\n",
    "\n",
    "- 관련 카테고리를 위주로 묶되 평균 탄소배출량 값을 확인하고 눈에 띄는 값과 그에 합당한 이유가 있다고 판단되는 업종만 따로 구분함   \n",
    "> ex) 24시해장국은 다른 국밥류 식당보다 탄소배출량 월등히 높음 -> 24시간 운영하는 식당이기 때문으로 판단되므로 따로 분류  \n",
    "   \n",
    "- 모든 경우를 예측할 수 없는 outlier는 포함하고 계산"
   ]
  },
  {
   "cell_type": "code",
   "execution_count": 81,
   "id": "95b597b0",
   "metadata": {
    "scrolled": false
   },
   "outputs": [
    {
     "data": {
      "text/html": [
       "<div>\n",
       "<style scoped>\n",
       "    .dataframe tbody tr th:only-of-type {\n",
       "        vertical-align: middle;\n",
       "    }\n",
       "\n",
       "    .dataframe tbody tr th {\n",
       "        vertical-align: top;\n",
       "    }\n",
       "\n",
       "    .dataframe thead th {\n",
       "        text-align: right;\n",
       "    }\n",
       "</style>\n",
       "<table border=\"1\" class=\"dataframe\">\n",
       "  <thead>\n",
       "    <tr style=\"text-align: right;\">\n",
       "      <th></th>\n",
       "      <th>AREA_NM_PRE</th>\n",
       "      <th>type_list</th>\n",
       "      <th>co2_max</th>\n",
       "    </tr>\n",
       "  </thead>\n",
       "  <tbody>\n",
       "    <tr>\n",
       "      <th>405</th>\n",
       "      <td>밀리우</td>\n",
       "      <td>프랑스음식</td>\n",
       "      <td>4.742963</td>\n",
       "    </tr>\n",
       "    <tr>\n",
       "      <th>675</th>\n",
       "      <td>아따블르</td>\n",
       "      <td>프랑스음식</td>\n",
       "      <td>NaN</td>\n",
       "    </tr>\n",
       "  </tbody>\n",
       "</table>\n",
       "</div>"
      ],
      "text/plain": [
       "    AREA_NM_PRE type_list   co2_max\n",
       "405         밀리우     프랑스음식  4.742963\n",
       "675        아따블르     프랑스음식       NaN"
      ]
     },
     "execution_count": 81,
     "metadata": {},
     "output_type": "execute_result"
    }
   ],
   "source": [
    "fb_dat[fb_dat['type_list'] == \"프랑스음식\"][['AREA_NM_PRE', 'type_list',  'co2_max']].sort_values('co2_max', ascending=False)"
   ]
  },
  {
   "cell_type": "code",
   "execution_count": 82,
   "id": "0bab4a9f",
   "metadata": {},
   "outputs": [],
   "source": [
    "# 프랜차이즈본사-> 돈가스로 변경\n",
    "fb_dat[fb_dat['type_list'] == \"프랜차이즈본사\"]\n",
    "fb_dat['type_list'][215] = \"돈가스\""
   ]
  },
  {
   "cell_type": "code",
   "execution_count": 83,
   "id": "844ace4c",
   "metadata": {
    "scrolled": true
   },
   "outputs": [
    {
     "data": {
      "text/html": [
       "<div>\n",
       "<style scoped>\n",
       "    .dataframe tbody tr th:only-of-type {\n",
       "        vertical-align: middle;\n",
       "    }\n",
       "\n",
       "    .dataframe tbody tr th {\n",
       "        vertical-align: top;\n",
       "    }\n",
       "\n",
       "    .dataframe thead th {\n",
       "        text-align: right;\n",
       "    }\n",
       "</style>\n",
       "<table border=\"1\" class=\"dataframe\">\n",
       "  <thead>\n",
       "    <tr style=\"text-align: right;\">\n",
       "      <th></th>\n",
       "      <th>type_list</th>\n",
       "      <th>0</th>\n",
       "      <th>mean_co2</th>\n",
       "    </tr>\n",
       "  </thead>\n",
       "  <tbody>\n",
       "    <tr>\n",
       "      <th>32</th>\n",
       "      <td>뷔페</td>\n",
       "      <td>3</td>\n",
       "      <td>7.894728</td>\n",
       "    </tr>\n",
       "    <tr>\n",
       "      <th>75</th>\n",
       "      <td>프랑스음식</td>\n",
       "      <td>1</td>\n",
       "      <td>4.742963</td>\n",
       "    </tr>\n",
       "    <tr>\n",
       "      <th>38</th>\n",
       "      <td>소고기구이</td>\n",
       "      <td>5</td>\n",
       "      <td>0.923307</td>\n",
       "    </tr>\n",
       "    <tr>\n",
       "      <th>24</th>\n",
       "      <td>바(BAR)</td>\n",
       "      <td>3</td>\n",
       "      <td>0.695014</td>\n",
       "    </tr>\n",
       "    <tr>\n",
       "      <th>22</th>\n",
       "      <td>맥주,호프</td>\n",
       "      <td>9</td>\n",
       "      <td>0.683408</td>\n",
       "    </tr>\n",
       "    <tr>\n",
       "      <th>...</th>\n",
       "      <td>...</td>\n",
       "      <td>...</td>\n",
       "      <td>...</td>\n",
       "    </tr>\n",
       "    <tr>\n",
       "      <th>63</th>\n",
       "      <td>차</td>\n",
       "      <td>2</td>\n",
       "      <td>0.034635</td>\n",
       "    </tr>\n",
       "    <tr>\n",
       "      <th>17</th>\n",
       "      <td>떡볶이</td>\n",
       "      <td>4</td>\n",
       "      <td>0.028674</td>\n",
       "    </tr>\n",
       "    <tr>\n",
       "      <th>34</th>\n",
       "      <td>샌드위치</td>\n",
       "      <td>1</td>\n",
       "      <td>0.026467</td>\n",
       "    </tr>\n",
       "    <tr>\n",
       "      <th>43</th>\n",
       "      <td>아귀찜,해물찜</td>\n",
       "      <td>1</td>\n",
       "      <td>0.024478</td>\n",
       "    </tr>\n",
       "    <tr>\n",
       "      <th>30</th>\n",
       "      <td>북카페</td>\n",
       "      <td>2</td>\n",
       "      <td>0.015137</td>\n",
       "    </tr>\n",
       "  </tbody>\n",
       "</table>\n",
       "<p>85 rows × 3 columns</p>\n",
       "</div>"
      ],
      "text/plain": [
       "   type_list  0  mean_co2\n",
       "32        뷔페  3  7.894728\n",
       "75     프랑스음식  1  4.742963\n",
       "38     소고기구이  5  0.923307\n",
       "24    바(BAR)  3  0.695014\n",
       "22     맥주,호프  9  0.683408\n",
       "..       ... ..       ...\n",
       "63         차  2  0.034635\n",
       "17       떡볶이  4  0.028674\n",
       "34      샌드위치  1  0.026467\n",
       "43   아귀찜,해물찜  1  0.024478\n",
       "30       북카페  2  0.015137\n",
       "\n",
       "[85 rows x 3 columns]"
      ]
     },
     "execution_count": 83,
     "metadata": {},
     "output_type": "execute_result"
    }
   ],
   "source": [
    "# 업종카테고리별 탄소배출량 평균 (NA없는 경우)\n",
    "type_co2 = fb_dat[-fb_dat.co2_max.isna()].groupby('type_list').size().to_frame().reset_index()\n",
    "type_co2['mean_co2'] = fb_dat[-fb_dat.co2_max.isna()].groupby('type_list').mean()['co2_max'].to_list()\n",
    "type_co2.sort_values(by=['mean_co2'], axis=0, ascending=False)"
   ]
  },
  {
   "cell_type": "markdown",
   "id": "aa028fb8",
   "metadata": {},
   "source": [
    "음식종류가 비슷하면 배출되는 탄소량도 비슷할 것이라는 가정 하에 비슷한 품목끼리 묶어서 중분류 카테고리 만들자   \n",
    " - 이때의 탄소배출량은 음식으로부터 예상되는 탄소배출량은 아니지만 비슷한 조리방법으로 인해 가스사용량 등 배출되는 탄소량이 비슷할 것으로 가정"
   ]
  },
  {
   "cell_type": "code",
   "execution_count": 84,
   "id": "38cddee3",
   "metadata": {},
   "outputs": [],
   "source": [
    "fb_dat['category'] = np.nan"
   ]
  },
  {
   "cell_type": "markdown",
   "id": "4679ca34",
   "metadata": {},
   "source": [
    "#### (1) 카페류 \n",
    "- 카페/카페,디저트/플라워카페/북카페/떡카페/브런치/샌드위치/베이글/케이크전문/아이스크림/테이크아웃커피/차/과일,주스전문점 묶기\n",
    "- 베이커리 & 테마카페 탄소배출량 outlier -> 따로 분류"
   ]
  },
  {
   "cell_type": "code",
   "execution_count": 85,
   "id": "bb954974",
   "metadata": {
    "scrolled": false
   },
   "outputs": [
    {
     "data": {
      "text/html": [
       "<div>\n",
       "<style scoped>\n",
       "    .dataframe tbody tr th:only-of-type {\n",
       "        vertical-align: middle;\n",
       "    }\n",
       "\n",
       "    .dataframe tbody tr th {\n",
       "        vertical-align: top;\n",
       "    }\n",
       "\n",
       "    .dataframe thead th {\n",
       "        text-align: right;\n",
       "    }\n",
       "</style>\n",
       "<table border=\"1\" class=\"dataframe\">\n",
       "  <thead>\n",
       "    <tr style=\"text-align: right;\">\n",
       "      <th></th>\n",
       "      <th>type_list</th>\n",
       "      <th>0</th>\n",
       "      <th>mean_co2</th>\n",
       "    </tr>\n",
       "  </thead>\n",
       "  <tbody>\n",
       "    <tr>\n",
       "      <th>72</th>\n",
       "      <td>테마카페</td>\n",
       "      <td>1</td>\n",
       "      <td>0.606763</td>\n",
       "    </tr>\n",
       "    <tr>\n",
       "      <th>27</th>\n",
       "      <td>베이커리</td>\n",
       "      <td>32</td>\n",
       "      <td>0.543075</td>\n",
       "    </tr>\n",
       "    <tr>\n",
       "      <th>4</th>\n",
       "      <td>과일,주스전문점</td>\n",
       "      <td>1</td>\n",
       "      <td>0.241005</td>\n",
       "    </tr>\n",
       "    <tr>\n",
       "      <th>69</th>\n",
       "      <td>카페,디저트</td>\n",
       "      <td>107</td>\n",
       "      <td>0.172054</td>\n",
       "    </tr>\n",
       "    <tr>\n",
       "      <th>73</th>\n",
       "      <td>테이크아웃커피</td>\n",
       "      <td>2</td>\n",
       "      <td>0.162473</td>\n",
       "    </tr>\n",
       "    <tr>\n",
       "      <th>18</th>\n",
       "      <td>떡카페</td>\n",
       "      <td>2</td>\n",
       "      <td>0.133884</td>\n",
       "    </tr>\n",
       "    <tr>\n",
       "      <th>68</th>\n",
       "      <td>카페</td>\n",
       "      <td>45</td>\n",
       "      <td>0.128829</td>\n",
       "    </tr>\n",
       "    <tr>\n",
       "      <th>33</th>\n",
       "      <td>브런치</td>\n",
       "      <td>8</td>\n",
       "      <td>0.109503</td>\n",
       "    </tr>\n",
       "    <tr>\n",
       "      <th>44</th>\n",
       "      <td>아이스크림</td>\n",
       "      <td>3</td>\n",
       "      <td>0.073336</td>\n",
       "    </tr>\n",
       "    <tr>\n",
       "      <th>76</th>\n",
       "      <td>플라워카페</td>\n",
       "      <td>1</td>\n",
       "      <td>0.042569</td>\n",
       "    </tr>\n",
       "    <tr>\n",
       "      <th>63</th>\n",
       "      <td>차</td>\n",
       "      <td>2</td>\n",
       "      <td>0.034635</td>\n",
       "    </tr>\n",
       "    <tr>\n",
       "      <th>34</th>\n",
       "      <td>샌드위치</td>\n",
       "      <td>1</td>\n",
       "      <td>0.026467</td>\n",
       "    </tr>\n",
       "    <tr>\n",
       "      <th>30</th>\n",
       "      <td>북카페</td>\n",
       "      <td>2</td>\n",
       "      <td>0.015137</td>\n",
       "    </tr>\n",
       "  </tbody>\n",
       "</table>\n",
       "</div>"
      ],
      "text/plain": [
       "   type_list    0  mean_co2\n",
       "72      테마카페    1  0.606763\n",
       "27      베이커리   32  0.543075\n",
       "4   과일,주스전문점    1  0.241005\n",
       "69    카페,디저트  107  0.172054\n",
       "73   테이크아웃커피    2  0.162473\n",
       "18       떡카페    2  0.133884\n",
       "68        카페   45  0.128829\n",
       "33       브런치    8  0.109503\n",
       "44     아이스크림    3  0.073336\n",
       "76     플라워카페    1  0.042569\n",
       "63         차    2  0.034635\n",
       "34      샌드위치    1  0.026467\n",
       "30       북카페    2  0.015137"
      ]
     },
     "execution_count": 85,
     "metadata": {},
     "output_type": "execute_result"
    }
   ],
   "source": [
    "temp = ['카페', '카페,디저트', '플라워카페', '북카페', '떡카페',\n",
    "        '브런치', '샌드위치', '베이글', '케이크전문', '베이커리', '테마카페',\n",
    "        '아이스크림','테이크아웃커피', '차', '과일,주스전문점', '와플']\n",
    "\n",
    "type_co2[type_co2.type_list.isin(temp)].sort_values(by=['mean_co2'], axis=0, ascending=False)"
   ]
  },
  {
   "cell_type": "code",
   "execution_count": 86,
   "id": "1f32c4cc",
   "metadata": {
    "scrolled": true
   },
   "outputs": [],
   "source": [
    "# 베이커리/테마카페 분리\n",
    "temp.remove('베이커리')\n",
    "temp.remove('테마카페')\n",
    "\n",
    "# 카페류 업종분류 -> 카페,디저트로 분류\n",
    "fb_dat['category'][fb_dat['type_list'].isin(temp)] = \"카페/디저트\"\n",
    "fb_dat['category'][fb_dat['type_list'] == \"베이커리\"] = \"베이커리\"\n",
    "fb_dat['category'][fb_dat['type_list'] == \"테마카페\"] = \"테마카페\""
   ]
  },
  {
   "cell_type": "markdown",
   "id": "64641277",
   "metadata": {},
   "source": [
    "#### (2) 육류\n",
    "\n",
    "- 육류고기요리/족발보쌈/곱창막창양/정육식당/닭발/닭요리/돈가스/치킨닭강정/스테이크립/닭갈비/샤브샤브\n",
    "- 소고기구이/돼지고기구이 따로 분류"
   ]
  },
  {
   "cell_type": "code",
   "execution_count": 87,
   "id": "349eeec0",
   "metadata": {
    "scrolled": true
   },
   "outputs": [
    {
     "data": {
      "text/html": [
       "<div>\n",
       "<style scoped>\n",
       "    .dataframe tbody tr th:only-of-type {\n",
       "        vertical-align: middle;\n",
       "    }\n",
       "\n",
       "    .dataframe tbody tr th {\n",
       "        vertical-align: top;\n",
       "    }\n",
       "\n",
       "    .dataframe thead th {\n",
       "        text-align: right;\n",
       "    }\n",
       "</style>\n",
       "<table border=\"1\" class=\"dataframe\">\n",
       "  <thead>\n",
       "    <tr style=\"text-align: right;\">\n",
       "      <th></th>\n",
       "      <th>type_list</th>\n",
       "      <th>0</th>\n",
       "      <th>mean_co2</th>\n",
       "    </tr>\n",
       "  </thead>\n",
       "  <tbody>\n",
       "    <tr>\n",
       "      <th>38</th>\n",
       "      <td>소고기구이</td>\n",
       "      <td>5</td>\n",
       "      <td>0.923307</td>\n",
       "    </tr>\n",
       "    <tr>\n",
       "      <th>14</th>\n",
       "      <td>돼지고기구이</td>\n",
       "      <td>50</td>\n",
       "      <td>0.337410</td>\n",
       "    </tr>\n",
       "    <tr>\n",
       "      <th>11</th>\n",
       "      <td>닭갈비</td>\n",
       "      <td>1</td>\n",
       "      <td>0.250594</td>\n",
       "    </tr>\n",
       "    <tr>\n",
       "      <th>50</th>\n",
       "      <td>육류,고기요리</td>\n",
       "      <td>22</td>\n",
       "      <td>0.193225</td>\n",
       "    </tr>\n",
       "    <tr>\n",
       "      <th>12</th>\n",
       "      <td>닭요리</td>\n",
       "      <td>3</td>\n",
       "      <td>0.184112</td>\n",
       "    </tr>\n",
       "    <tr>\n",
       "      <th>13</th>\n",
       "      <td>돈가스</td>\n",
       "      <td>8</td>\n",
       "      <td>0.175953</td>\n",
       "    </tr>\n",
       "    <tr>\n",
       "      <th>3</th>\n",
       "      <td>곱창,막창,양</td>\n",
       "      <td>1</td>\n",
       "      <td>0.175668</td>\n",
       "    </tr>\n",
       "    <tr>\n",
       "      <th>57</th>\n",
       "      <td>정육식당</td>\n",
       "      <td>2</td>\n",
       "      <td>0.147335</td>\n",
       "    </tr>\n",
       "    <tr>\n",
       "      <th>46</th>\n",
       "      <td>오리요리</td>\n",
       "      <td>1</td>\n",
       "      <td>0.121349</td>\n",
       "    </tr>\n",
       "    <tr>\n",
       "      <th>66</th>\n",
       "      <td>치킨,닭강정</td>\n",
       "      <td>7</td>\n",
       "      <td>0.111913</td>\n",
       "    </tr>\n",
       "    <tr>\n",
       "      <th>40</th>\n",
       "      <td>스테이크,립</td>\n",
       "      <td>2</td>\n",
       "      <td>0.063123</td>\n",
       "    </tr>\n",
       "    <tr>\n",
       "      <th>37</th>\n",
       "      <td>샤브샤브</td>\n",
       "      <td>1</td>\n",
       "      <td>0.060768</td>\n",
       "    </tr>\n",
       "  </tbody>\n",
       "</table>\n",
       "</div>"
      ],
      "text/plain": [
       "   type_list   0  mean_co2\n",
       "38     소고기구이   5  0.923307\n",
       "14    돼지고기구이  50  0.337410\n",
       "11       닭갈비   1  0.250594\n",
       "50   육류,고기요리  22  0.193225\n",
       "12       닭요리   3  0.184112\n",
       "13       돈가스   8  0.175953\n",
       "3    곱창,막창,양   1  0.175668\n",
       "57      정육식당   2  0.147335\n",
       "46      오리요리   1  0.121349\n",
       "66    치킨,닭강정   7  0.111913\n",
       "40    스테이크,립   2  0.063123\n",
       "37      샤브샤브   1  0.060768"
      ]
     },
     "execution_count": 87,
     "metadata": {},
     "output_type": "execute_result"
    }
   ],
   "source": [
    "temp = ['돼지고기구이', '육류,고기요리', '족발,보쌈', '곱창,막창,양','정육식당','소고기구이','오리요리',\n",
    "        '닭발', '닭요리', '돈가스', '치킨닭강정', '스테이크,립','닭갈비', '샤브샤브', '치킨,닭강정']\n",
    "\n",
    "type_co2[type_co2.type_list.isin(temp)].sort_values(by=['mean_co2'], axis=0, ascending=False)"
   ]
  },
  {
   "cell_type": "code",
   "execution_count": 88,
   "id": "6009a853",
   "metadata": {},
   "outputs": [],
   "source": [
    "# 소고기구이/돼지고기구이 분리\n",
    "temp.remove('소고기구이')\n",
    "temp.remove('돼지고기구이')\n",
    "\n",
    "# 육류 업종분류 -> 육류고기요리로 분류\n",
    "fb_dat['category'][fb_dat['type_list'].isin(temp)] = \"육류/고기\"\n",
    "fb_dat['category'][fb_dat['type_list'] == \"소고기구이\"] = \"소고기구이\"\n",
    "fb_dat['category'][fb_dat['type_list'] == \"돼지고기구이\"] = \"돼지고기구이\""
   ]
  },
  {
   "cell_type": "markdown",
   "id": "2b6ff507",
   "metadata": {},
   "source": [
    "#### (3) 한정식\n",
    "- 한식/한정식/백반가정식/쌈밥/기사식당/두부요리/죽"
   ]
  },
  {
   "cell_type": "code",
   "execution_count": 89,
   "id": "d4a7722a",
   "metadata": {},
   "outputs": [
    {
     "data": {
      "text/html": [
       "<div>\n",
       "<style scoped>\n",
       "    .dataframe tbody tr th:only-of-type {\n",
       "        vertical-align: middle;\n",
       "    }\n",
       "\n",
       "    .dataframe tbody tr th {\n",
       "        vertical-align: top;\n",
       "    }\n",
       "\n",
       "    .dataframe thead th {\n",
       "        text-align: right;\n",
       "    }\n",
       "</style>\n",
       "<table border=\"1\" class=\"dataframe\">\n",
       "  <thead>\n",
       "    <tr style=\"text-align: right;\">\n",
       "      <th></th>\n",
       "      <th>type_list</th>\n",
       "      <th>0</th>\n",
       "      <th>mean_co2</th>\n",
       "    </tr>\n",
       "  </thead>\n",
       "  <tbody>\n",
       "    <tr>\n",
       "      <th>8</th>\n",
       "      <td>기사식당</td>\n",
       "      <td>1</td>\n",
       "      <td>0.186997</td>\n",
       "    </tr>\n",
       "    <tr>\n",
       "      <th>15</th>\n",
       "      <td>두부요리</td>\n",
       "      <td>4</td>\n",
       "      <td>0.178896</td>\n",
       "    </tr>\n",
       "    <tr>\n",
       "      <th>78</th>\n",
       "      <td>한식</td>\n",
       "      <td>124</td>\n",
       "      <td>0.159088</td>\n",
       "    </tr>\n",
       "    <tr>\n",
       "      <th>42</th>\n",
       "      <td>쌈밥</td>\n",
       "      <td>2</td>\n",
       "      <td>0.143768</td>\n",
       "    </tr>\n",
       "    <tr>\n",
       "      <th>80</th>\n",
       "      <td>한정식</td>\n",
       "      <td>9</td>\n",
       "      <td>0.131949</td>\n",
       "    </tr>\n",
       "    <tr>\n",
       "      <th>25</th>\n",
       "      <td>백반,가정식</td>\n",
       "      <td>6</td>\n",
       "      <td>0.112664</td>\n",
       "    </tr>\n",
       "    <tr>\n",
       "      <th>60</th>\n",
       "      <td>죽</td>\n",
       "      <td>1</td>\n",
       "      <td>0.077957</td>\n",
       "    </tr>\n",
       "  </tbody>\n",
       "</table>\n",
       "</div>"
      ],
      "text/plain": [
       "   type_list    0  mean_co2\n",
       "8       기사식당    1  0.186997\n",
       "15      두부요리    4  0.178896\n",
       "78        한식  124  0.159088\n",
       "42        쌈밥    2  0.143768\n",
       "80       한정식    9  0.131949\n",
       "25    백반,가정식    6  0.112664\n",
       "60         죽    1  0.077957"
      ]
     },
     "execution_count": 89,
     "metadata": {},
     "output_type": "execute_result"
    }
   ],
   "source": [
    "temp = ['한식', '한정식', '백반,가정식', '쌈밥', '비빔밥', '기사식당', '두부요리', '죽']\n",
    "type_co2[type_co2.type_list.isin(temp)].sort_values(by=['mean_co2'], axis=0, ascending=False)"
   ]
  },
  {
   "cell_type": "code",
   "execution_count": 90,
   "id": "718a5c8e",
   "metadata": {},
   "outputs": [],
   "source": [
    "# 한식(한정식) 업종분류 -> 한정식으로 분류\n",
    "fb_dat['category'][fb_dat['type_list'].isin(temp)] = \"한식/한정식\""
   ]
  },
  {
   "cell_type": "markdown",
   "id": "d9594ff1",
   "metadata": {},
   "source": [
    "#### (4) 탕/국밥/전골류\n",
    "- 곰탕,설렁탕/추어탕/국밥/백숙,삼계탕/갈비탕/감자탕/해장국/순대,순댓국\n",
    "- 24시뼈다귀탕 따로 "
   ]
  },
  {
   "cell_type": "code",
   "execution_count": 91,
   "id": "eafaea4d",
   "metadata": {},
   "outputs": [
    {
     "data": {
      "text/html": [
       "<div>\n",
       "<style scoped>\n",
       "    .dataframe tbody tr th:only-of-type {\n",
       "        vertical-align: middle;\n",
       "    }\n",
       "\n",
       "    .dataframe tbody tr th {\n",
       "        vertical-align: top;\n",
       "    }\n",
       "\n",
       "    .dataframe thead th {\n",
       "        text-align: right;\n",
       "    }\n",
       "</style>\n",
       "<table border=\"1\" class=\"dataframe\">\n",
       "  <thead>\n",
       "    <tr style=\"text-align: right;\">\n",
       "      <th></th>\n",
       "      <th>type_list</th>\n",
       "      <th>0</th>\n",
       "      <th>mean_co2</th>\n",
       "    </tr>\n",
       "  </thead>\n",
       "  <tbody>\n",
       "    <tr>\n",
       "      <th>0</th>\n",
       "      <td>24시뼈다귀탕</td>\n",
       "      <td>1</td>\n",
       "      <td>0.402918</td>\n",
       "    </tr>\n",
       "    <tr>\n",
       "      <th>39</th>\n",
       "      <td>순대,순댓국</td>\n",
       "      <td>4</td>\n",
       "      <td>0.296415</td>\n",
       "    </tr>\n",
       "    <tr>\n",
       "      <th>2</th>\n",
       "      <td>곰탕,설렁탕</td>\n",
       "      <td>3</td>\n",
       "      <td>0.274153</td>\n",
       "    </tr>\n",
       "    <tr>\n",
       "      <th>26</th>\n",
       "      <td>백숙,삼계탕</td>\n",
       "      <td>1</td>\n",
       "      <td>0.241005</td>\n",
       "    </tr>\n",
       "    <tr>\n",
       "      <th>21</th>\n",
       "      <td>매운탕,해물탕</td>\n",
       "      <td>2</td>\n",
       "      <td>0.206992</td>\n",
       "    </tr>\n",
       "    <tr>\n",
       "      <th>1</th>\n",
       "      <td>갈비탕</td>\n",
       "      <td>1</td>\n",
       "      <td>0.186997</td>\n",
       "    </tr>\n",
       "    <tr>\n",
       "      <th>62</th>\n",
       "      <td>찌개,전골</td>\n",
       "      <td>3</td>\n",
       "      <td>0.122013</td>\n",
       "    </tr>\n",
       "    <tr>\n",
       "      <th>82</th>\n",
       "      <td>해장국</td>\n",
       "      <td>10</td>\n",
       "      <td>0.118895</td>\n",
       "    </tr>\n",
       "    <tr>\n",
       "      <th>5</th>\n",
       "      <td>국밥</td>\n",
       "      <td>2</td>\n",
       "      <td>0.112024</td>\n",
       "    </tr>\n",
       "    <tr>\n",
       "      <th>65</th>\n",
       "      <td>추어탕</td>\n",
       "      <td>2</td>\n",
       "      <td>0.076846</td>\n",
       "    </tr>\n",
       "  </tbody>\n",
       "</table>\n",
       "</div>"
      ],
      "text/plain": [
       "   type_list   0  mean_co2\n",
       "0    24시뼈다귀탕   1  0.402918\n",
       "39    순대,순댓국   4  0.296415\n",
       "2     곰탕,설렁탕   3  0.274153\n",
       "26    백숙,삼계탕   1  0.241005\n",
       "21   매운탕,해물탕   2  0.206992\n",
       "1        갈비탕   1  0.186997\n",
       "62     찌개,전골   3  0.122013\n",
       "82       해장국  10  0.118895\n",
       "5         국밥   2  0.112024\n",
       "65       추어탕   2  0.076846"
      ]
     },
     "execution_count": 91,
     "metadata": {},
     "output_type": "execute_result"
    }
   ],
   "source": [
    "temp = ['곰탕,설렁탕', '찌개,전골', '추어탕', '국밥', '백숙,삼계탕','매운탕,해물탕',\n",
    "        '24시뼈다귀탕', '갈비탕', '감자탕', '해장국', '순대,순댓국']\n",
    "type_co2[type_co2.type_list.isin(temp)].sort_values(by=['mean_co2'], axis=0, ascending=False)"
   ]
  },
  {
   "cell_type": "code",
   "execution_count": 92,
   "id": "a8c17d72",
   "metadata": {},
   "outputs": [],
   "source": [
    "# 24시뼈다귀탕 -> 24시국밥\n",
    "temp.remove('24시뼈다귀탕')\n",
    "\n",
    "# 탕/국밥/전골 업종분류 -> 탕류로 분류\n",
    "fb_dat['category'][fb_dat['type_list'].isin(temp)] = \"국밥/탕\"\n",
    "fb_dat['category'][fb_dat['type_list'] == \"24시뼈다귀탕\"] = '24시국밥/탕'"
   ]
  },
  {
   "cell_type": "markdown",
   "id": "8cf13208",
   "metadata": {},
   "source": [
    "#### (5) 해물/생선류 \n",
    "\n",
    "- 해물,생선요리/생선회/전복요리/생선구이/굴요리/장어,먹장어요리/낙지요리/조개요리/복어요리/오징어요리/게요리/아귀찜,해물찜 "
   ]
  },
  {
   "cell_type": "code",
   "execution_count": 93,
   "id": "05f5a2dc",
   "metadata": {},
   "outputs": [
    {
     "data": {
      "text/html": [
       "<div>\n",
       "<style scoped>\n",
       "    .dataframe tbody tr th:only-of-type {\n",
       "        vertical-align: middle;\n",
       "    }\n",
       "\n",
       "    .dataframe tbody tr th {\n",
       "        vertical-align: top;\n",
       "    }\n",
       "\n",
       "    .dataframe thead th {\n",
       "        text-align: right;\n",
       "    }\n",
       "</style>\n",
       "<table border=\"1\" class=\"dataframe\">\n",
       "  <thead>\n",
       "    <tr style=\"text-align: right;\">\n",
       "      <th></th>\n",
       "      <th>type_list</th>\n",
       "      <th>0</th>\n",
       "      <th>mean_co2</th>\n",
       "    </tr>\n",
       "  </thead>\n",
       "  <tbody>\n",
       "    <tr>\n",
       "      <th>55</th>\n",
       "      <td>장어,먹장어요리</td>\n",
       "      <td>1</td>\n",
       "      <td>0.264706</td>\n",
       "    </tr>\n",
       "    <tr>\n",
       "      <th>29</th>\n",
       "      <td>복어요리</td>\n",
       "      <td>1</td>\n",
       "      <td>0.247921</td>\n",
       "    </tr>\n",
       "    <tr>\n",
       "      <th>35</th>\n",
       "      <td>생선구이</td>\n",
       "      <td>2</td>\n",
       "      <td>0.222246</td>\n",
       "    </tr>\n",
       "    <tr>\n",
       "      <th>10</th>\n",
       "      <td>낙지요리</td>\n",
       "      <td>1</td>\n",
       "      <td>0.220163</td>\n",
       "    </tr>\n",
       "    <tr>\n",
       "      <th>36</th>\n",
       "      <td>생선회</td>\n",
       "      <td>39</td>\n",
       "      <td>0.143597</td>\n",
       "    </tr>\n",
       "    <tr>\n",
       "      <th>56</th>\n",
       "      <td>전복요리</td>\n",
       "      <td>10</td>\n",
       "      <td>0.127678</td>\n",
       "    </tr>\n",
       "    <tr>\n",
       "      <th>81</th>\n",
       "      <td>해물,생선요리</td>\n",
       "      <td>38</td>\n",
       "      <td>0.116671</td>\n",
       "    </tr>\n",
       "    <tr>\n",
       "      <th>58</th>\n",
       "      <td>조개요리</td>\n",
       "      <td>1</td>\n",
       "      <td>0.103958</td>\n",
       "    </tr>\n",
       "    <tr>\n",
       "      <th>7</th>\n",
       "      <td>굴요리</td>\n",
       "      <td>1</td>\n",
       "      <td>0.096032</td>\n",
       "    </tr>\n",
       "    <tr>\n",
       "      <th>47</th>\n",
       "      <td>오징어요리</td>\n",
       "      <td>1</td>\n",
       "      <td>0.057620</td>\n",
       "    </tr>\n",
       "    <tr>\n",
       "      <th>43</th>\n",
       "      <td>아귀찜,해물찜</td>\n",
       "      <td>1</td>\n",
       "      <td>0.024478</td>\n",
       "    </tr>\n",
       "  </tbody>\n",
       "</table>\n",
       "</div>"
      ],
      "text/plain": [
       "   type_list   0  mean_co2\n",
       "55  장어,먹장어요리   1  0.264706\n",
       "29      복어요리   1  0.247921\n",
       "35      생선구이   2  0.222246\n",
       "10      낙지요리   1  0.220163\n",
       "36       생선회  39  0.143597\n",
       "56      전복요리  10  0.127678\n",
       "81   해물,생선요리  38  0.116671\n",
       "58      조개요리   1  0.103958\n",
       "7        굴요리   1  0.096032\n",
       "47     오징어요리   1  0.057620\n",
       "43   아귀찜,해물찜   1  0.024478"
      ]
     },
     "execution_count": 93,
     "metadata": {},
     "output_type": "execute_result"
    }
   ],
   "source": [
    "temp = ['해물,생선요리', '생선회', '전복요리', '생선구이', '굴요리','장어,먹장어요리', '해산물뷔페',\n",
    "        '낙지요리', '조개요리', '복어요리', '오징어요리', '게요리', '아귀찜,해물찜']\n",
    "type_co2[type_co2.type_list.isin(temp)].sort_values(by=['mean_co2'], axis=0, ascending=False)"
   ]
  },
  {
   "cell_type": "code",
   "execution_count": 94,
   "id": "6d6e87cb",
   "metadata": {},
   "outputs": [],
   "source": [
    "# 해산물/생선요리 업종분류 -> 해산물/생선로 분류\n",
    "fb_dat['category'][fb_dat['type_list'].isin(temp)] = \"해산물/생선\""
   ]
  },
  {
   "cell_type": "markdown",
   "id": "335cea7a",
   "metadata": {},
   "source": [
    "#### (6) 주류/술집\n",
    "- 맥주,호프 카테고리의 탭하우스더코너가 호텔1층에 있어서 지번주소 탄소배출량 매우 크게 나타남\n",
    "- 하지만 나머지 애들은 탄소배출량 비슷.. 하나의 outlier는 그대로 두고 평균 계산하기로 결정\n",
    "- 맥주,호프/바(BAR)/이자카야/포장마차"
   ]
  },
  {
   "cell_type": "code",
   "execution_count": 95,
   "id": "de738c4a",
   "metadata": {},
   "outputs": [
    {
     "data": {
      "text/html": [
       "<div>\n",
       "<style scoped>\n",
       "    .dataframe tbody tr th:only-of-type {\n",
       "        vertical-align: middle;\n",
       "    }\n",
       "\n",
       "    .dataframe tbody tr th {\n",
       "        vertical-align: top;\n",
       "    }\n",
       "\n",
       "    .dataframe thead th {\n",
       "        text-align: right;\n",
       "    }\n",
       "</style>\n",
       "<table border=\"1\" class=\"dataframe\">\n",
       "  <thead>\n",
       "    <tr style=\"text-align: right;\">\n",
       "      <th></th>\n",
       "      <th>type_list</th>\n",
       "      <th>0</th>\n",
       "      <th>mean_co2</th>\n",
       "    </tr>\n",
       "  </thead>\n",
       "  <tbody>\n",
       "    <tr>\n",
       "      <th>24</th>\n",
       "      <td>바(BAR)</td>\n",
       "      <td>3</td>\n",
       "      <td>0.695014</td>\n",
       "    </tr>\n",
       "    <tr>\n",
       "      <th>22</th>\n",
       "      <td>맥주,호프</td>\n",
       "      <td>9</td>\n",
       "      <td>0.683408</td>\n",
       "    </tr>\n",
       "    <tr>\n",
       "      <th>51</th>\n",
       "      <td>이자카야</td>\n",
       "      <td>2</td>\n",
       "      <td>0.160577</td>\n",
       "    </tr>\n",
       "    <tr>\n",
       "      <th>48</th>\n",
       "      <td>요리주점</td>\n",
       "      <td>2</td>\n",
       "      <td>0.046143</td>\n",
       "    </tr>\n",
       "  </tbody>\n",
       "</table>\n",
       "</div>"
      ],
      "text/plain": [
       "   type_list  0  mean_co2\n",
       "24    바(BAR)  3  0.695014\n",
       "22     맥주,호프  9  0.683408\n",
       "51      이자카야  2  0.160577\n",
       "48      요리주점  2  0.046143"
      ]
     },
     "execution_count": 95,
     "metadata": {},
     "output_type": "execute_result"
    }
   ],
   "source": [
    "temp = ['맥주,호프', '바(BAR)', '이자카야', '포장마차', '요리주점']\n",
    "type_co2[type_co2.type_list.isin(temp)].sort_values(by=['mean_co2'], axis=0, ascending=False)"
   ]
  },
  {
   "cell_type": "code",
   "execution_count": 96,
   "id": "950dbdb8",
   "metadata": {},
   "outputs": [],
   "source": [
    "# 맥주호프/바/이자카야/포장마차 업종분류 -> 술집/주류로 분류\n",
    "fb_dat['category'][fb_dat['type_list'].isin(temp)] = \"술집/주류\""
   ]
  },
  {
   "cell_type": "markdown",
   "id": "53bee1df",
   "metadata": {},
   "source": [
    "#### (7) 외국음식\n",
    "\n",
    "- 중식당/딤섬,중식만두/양식/이탈리아음식/스파게티파스타전문/일식당/초밥,롤/일본식라면/우동,소바/멕시코,남미음식/퓨전음식/카레/인도음식/태국음식/아시아음식/양식\n",
    "- 패밀리레스토랑만 따로 계산"
   ]
  },
  {
   "cell_type": "code",
   "execution_count": 97,
   "id": "1ae9e07d",
   "metadata": {
    "scrolled": true
   },
   "outputs": [
    {
     "data": {
      "text/html": [
       "<div>\n",
       "<style scoped>\n",
       "    .dataframe tbody tr th:only-of-type {\n",
       "        vertical-align: middle;\n",
       "    }\n",
       "\n",
       "    .dataframe tbody tr th {\n",
       "        vertical-align: top;\n",
       "    }\n",
       "\n",
       "    .dataframe thead th {\n",
       "        text-align: right;\n",
       "    }\n",
       "</style>\n",
       "<table border=\"1\" class=\"dataframe\">\n",
       "  <thead>\n",
       "    <tr style=\"text-align: right;\">\n",
       "      <th></th>\n",
       "      <th>type_list</th>\n",
       "      <th>0</th>\n",
       "      <th>mean_co2</th>\n",
       "    </tr>\n",
       "  </thead>\n",
       "  <tbody>\n",
       "    <tr>\n",
       "      <th>75</th>\n",
       "      <td>프랑스음식</td>\n",
       "      <td>1</td>\n",
       "      <td>4.742963</td>\n",
       "    </tr>\n",
       "    <tr>\n",
       "      <th>74</th>\n",
       "      <td>패밀리레스토랑</td>\n",
       "      <td>9</td>\n",
       "      <td>0.454112</td>\n",
       "    </tr>\n",
       "    <tr>\n",
       "      <th>45</th>\n",
       "      <td>양식</td>\n",
       "      <td>21</td>\n",
       "      <td>0.369495</td>\n",
       "    </tr>\n",
       "    <tr>\n",
       "      <th>16</th>\n",
       "      <td>딤섬,중식만두</td>\n",
       "      <td>1</td>\n",
       "      <td>0.240337</td>\n",
       "    </tr>\n",
       "    <tr>\n",
       "      <th>54</th>\n",
       "      <td>일식당</td>\n",
       "      <td>8</td>\n",
       "      <td>0.209299</td>\n",
       "    </tr>\n",
       "    <tr>\n",
       "      <th>61</th>\n",
       "      <td>중식당</td>\n",
       "      <td>26</td>\n",
       "      <td>0.200496</td>\n",
       "    </tr>\n",
       "    <tr>\n",
       "      <th>49</th>\n",
       "      <td>우동,소바</td>\n",
       "      <td>1</td>\n",
       "      <td>0.188241</td>\n",
       "    </tr>\n",
       "    <tr>\n",
       "      <th>23</th>\n",
       "      <td>멕시코,남미음식</td>\n",
       "      <td>1</td>\n",
       "      <td>0.143450</td>\n",
       "    </tr>\n",
       "    <tr>\n",
       "      <th>64</th>\n",
       "      <td>초밥,롤</td>\n",
       "      <td>3</td>\n",
       "      <td>0.124245</td>\n",
       "    </tr>\n",
       "    <tr>\n",
       "      <th>41</th>\n",
       "      <td>스파게티,파스타전문</td>\n",
       "      <td>1</td>\n",
       "      <td>0.123323</td>\n",
       "    </tr>\n",
       "    <tr>\n",
       "      <th>28</th>\n",
       "      <td>베트남음식</td>\n",
       "      <td>4</td>\n",
       "      <td>0.122305</td>\n",
       "    </tr>\n",
       "    <tr>\n",
       "      <th>67</th>\n",
       "      <td>카레</td>\n",
       "      <td>1</td>\n",
       "      <td>0.094431</td>\n",
       "    </tr>\n",
       "    <tr>\n",
       "      <th>53</th>\n",
       "      <td>인도음식</td>\n",
       "      <td>2</td>\n",
       "      <td>0.077483</td>\n",
       "    </tr>\n",
       "    <tr>\n",
       "      <th>71</th>\n",
       "      <td>태국음식</td>\n",
       "      <td>1</td>\n",
       "      <td>0.068927</td>\n",
       "    </tr>\n",
       "    <tr>\n",
       "      <th>52</th>\n",
       "      <td>이탈리아음식</td>\n",
       "      <td>3</td>\n",
       "      <td>0.046941</td>\n",
       "    </tr>\n",
       "  </tbody>\n",
       "</table>\n",
       "</div>"
      ],
      "text/plain": [
       "     type_list   0  mean_co2\n",
       "75       프랑스음식   1  4.742963\n",
       "74     패밀리레스토랑   9  0.454112\n",
       "45          양식  21  0.369495\n",
       "16     딤섬,중식만두   1  0.240337\n",
       "54         일식당   8  0.209299\n",
       "61         중식당  26  0.200496\n",
       "49       우동,소바   1  0.188241\n",
       "23    멕시코,남미음식   1  0.143450\n",
       "64        초밥,롤   3  0.124245\n",
       "41  스파게티,파스타전문   1  0.123323\n",
       "28       베트남음식   4  0.122305\n",
       "67          카레   1  0.094431\n",
       "53        인도음식   2  0.077483\n",
       "71        태국음식   1  0.068927\n",
       "52      이탈리아음식   3  0.046941"
      ]
     },
     "execution_count": 97,
     "metadata": {},
     "output_type": "execute_result"
    }
   ],
   "source": [
    "temp = ['중식당', '딤섬,중식만두', '양식', '패밀리레스토랑', '이탈리아음식','스파게티,파스타전문',\n",
    "       '일식당', '초밥,롤', '일본식라면', '우동,소바', '멕시코,남미음식', '퓨전음식',\n",
    "        '카레', '인도음식', '태국음식', '아시아음식', '베트남음식', '프랑스음식']\n",
    "type_co2[type_co2.type_list.isin(temp)].sort_values(by=['mean_co2'], axis=0, ascending=False)"
   ]
  },
  {
   "cell_type": "code",
   "execution_count": 98,
   "id": "63f0bf45",
   "metadata": {},
   "outputs": [],
   "source": [
    "temp.remove('패밀리레스토랑')\n",
    "\n",
    "# 외국음식(양식, 아시아음식, 남미음식, 퓨전음식) 업종분류 -> 외국음식으로 분류\n",
    "fb_dat['category'][fb_dat['type_list'].isin(temp)] = \"외국음식\"\n",
    "fb_dat['category'][fb_dat['type_list'] == \"패밀리레스토랑\"] = '패밀리레스토랑'"
   ]
  },
  {
   "cell_type": "markdown",
   "id": "2cf4ad5c",
   "metadata": {},
   "source": [
    "#### (8) 분식 \n",
    "\n",
    "- 칼국수,만두/김밥/국수/종합분식/분식/만두/라면/떡볶이"
   ]
  },
  {
   "cell_type": "code",
   "execution_count": 99,
   "id": "2b520f17",
   "metadata": {},
   "outputs": [
    {
     "data": {
      "text/html": [
       "<div>\n",
       "<style scoped>\n",
       "    .dataframe tbody tr th:only-of-type {\n",
       "        vertical-align: middle;\n",
       "    }\n",
       "\n",
       "    .dataframe tbody tr th {\n",
       "        vertical-align: top;\n",
       "    }\n",
       "\n",
       "    .dataframe thead th {\n",
       "        text-align: right;\n",
       "    }\n",
       "</style>\n",
       "<table border=\"1\" class=\"dataframe\">\n",
       "  <thead>\n",
       "    <tr style=\"text-align: right;\">\n",
       "      <th></th>\n",
       "      <th>type_list</th>\n",
       "      <th>0</th>\n",
       "      <th>mean_co2</th>\n",
       "    </tr>\n",
       "  </thead>\n",
       "  <tbody>\n",
       "    <tr>\n",
       "      <th>9</th>\n",
       "      <td>김밥</td>\n",
       "      <td>9</td>\n",
       "      <td>0.209775</td>\n",
       "    </tr>\n",
       "    <tr>\n",
       "      <th>70</th>\n",
       "      <td>칼국수,만두</td>\n",
       "      <td>11</td>\n",
       "      <td>0.205019</td>\n",
       "    </tr>\n",
       "    <tr>\n",
       "      <th>6</th>\n",
       "      <td>국수</td>\n",
       "      <td>24</td>\n",
       "      <td>0.127283</td>\n",
       "    </tr>\n",
       "    <tr>\n",
       "      <th>59</th>\n",
       "      <td>종합분식</td>\n",
       "      <td>15</td>\n",
       "      <td>0.120456</td>\n",
       "    </tr>\n",
       "    <tr>\n",
       "      <th>31</th>\n",
       "      <td>분식</td>\n",
       "      <td>1</td>\n",
       "      <td>0.109538</td>\n",
       "    </tr>\n",
       "    <tr>\n",
       "      <th>20</th>\n",
       "      <td>만두</td>\n",
       "      <td>1</td>\n",
       "      <td>0.089924</td>\n",
       "    </tr>\n",
       "    <tr>\n",
       "      <th>19</th>\n",
       "      <td>라면</td>\n",
       "      <td>4</td>\n",
       "      <td>0.049648</td>\n",
       "    </tr>\n",
       "    <tr>\n",
       "      <th>17</th>\n",
       "      <td>떡볶이</td>\n",
       "      <td>4</td>\n",
       "      <td>0.028674</td>\n",
       "    </tr>\n",
       "  </tbody>\n",
       "</table>\n",
       "</div>"
      ],
      "text/plain": [
       "   type_list   0  mean_co2\n",
       "9         김밥   9  0.209775\n",
       "70    칼국수,만두  11  0.205019\n",
       "6         국수  24  0.127283\n",
       "59      종합분식  15  0.120456\n",
       "31        분식   1  0.109538\n",
       "20        만두   1  0.089924\n",
       "19        라면   4  0.049648\n",
       "17       떡볶이   4  0.028674"
      ]
     },
     "execution_count": 99,
     "metadata": {},
     "output_type": "execute_result"
    }
   ],
   "source": [
    "temp = ['칼국수,만두', '종합분식', '국수', '라면', '김밥', \n",
    "        '떡볶이', '도시락,컵밥', '만두', '분식']\n",
    "\n",
    "type_co2[type_co2.type_list.isin(temp)].sort_values(by=['mean_co2'], axis=0, ascending=False)"
   ]
  },
  {
   "cell_type": "code",
   "execution_count": 100,
   "id": "5923edcd",
   "metadata": {},
   "outputs": [],
   "source": [
    "fb_dat['category'][fb_dat['type_list'].isin(temp)] = \"분식\""
   ]
  },
  {
   "cell_type": "markdown",
   "id": "df3159f5",
   "metadata": {},
   "source": [
    "#### (9) 기타"
   ]
  },
  {
   "cell_type": "code",
   "execution_count": 101,
   "id": "b2a3ec78",
   "metadata": {},
   "outputs": [
    {
     "data": {
      "text/html": [
       "<div>\n",
       "<style scoped>\n",
       "    .dataframe tbody tr th:only-of-type {\n",
       "        vertical-align: middle;\n",
       "    }\n",
       "\n",
       "    .dataframe tbody tr th {\n",
       "        vertical-align: top;\n",
       "    }\n",
       "\n",
       "    .dataframe thead th {\n",
       "        text-align: right;\n",
       "    }\n",
       "</style>\n",
       "<table border=\"1\" class=\"dataframe\">\n",
       "  <thead>\n",
       "    <tr style=\"text-align: right;\">\n",
       "      <th></th>\n",
       "      <th>type_list</th>\n",
       "      <th>0</th>\n",
       "      <th>mean_co2</th>\n",
       "    </tr>\n",
       "  </thead>\n",
       "  <tbody>\n",
       "    <tr>\n",
       "      <th>32</th>\n",
       "      <td>뷔페</td>\n",
       "      <td>3</td>\n",
       "      <td>7.894728</td>\n",
       "    </tr>\n",
       "    <tr>\n",
       "      <th>83</th>\n",
       "      <td>햄버거</td>\n",
       "      <td>6</td>\n",
       "      <td>0.428994</td>\n",
       "    </tr>\n",
       "    <tr>\n",
       "      <th>84</th>\n",
       "      <td>향토음식</td>\n",
       "      <td>19</td>\n",
       "      <td>0.154380</td>\n",
       "    </tr>\n",
       "    <tr>\n",
       "      <th>77</th>\n",
       "      <td>피자</td>\n",
       "      <td>4</td>\n",
       "      <td>0.118000</td>\n",
       "    </tr>\n",
       "    <tr>\n",
       "      <th>79</th>\n",
       "      <td>한식뷔페</td>\n",
       "      <td>1</td>\n",
       "      <td>0.070730</td>\n",
       "    </tr>\n",
       "  </tbody>\n",
       "</table>\n",
       "</div>"
      ],
      "text/plain": [
       "   type_list   0  mean_co2\n",
       "32        뷔페   3  7.894728\n",
       "83       햄버거   6  0.428994\n",
       "84      향토음식  19  0.154380\n",
       "77        피자   4  0.118000\n",
       "79      한식뷔페   1  0.070730"
      ]
     },
     "execution_count": 101,
     "metadata": {},
     "output_type": "execute_result"
    }
   ],
   "source": [
    "temp = ['햄버거', '뷔페', '향토음식', '피자', '한식뷔페']\n",
    "type_co2[type_co2.type_list.isin(temp)].sort_values(by=['mean_co2'], axis=0, ascending=False)"
   ]
  },
  {
   "cell_type": "code",
   "execution_count": 102,
   "id": "2473c016",
   "metadata": {},
   "outputs": [],
   "source": [
    "fb_dat['category'][fb_dat['type_list'].isin(['햄버거', '피자'])] = \"패스트푸드\"\n",
    "fb_dat['category'][fb_dat['type_list'].isin(['향토음식'])] = \"향토음식\"\n",
    "fb_dat['category'][fb_dat['type_list'].isin(['뷔페', '한식뷔페'])] = \"뷔페\""
   ]
  },
  {
   "cell_type": "code",
   "execution_count": 103,
   "id": "f08ac2b8",
   "metadata": {},
   "outputs": [
    {
     "data": {
      "text/plain": [
       "카페/디저트     310\n",
       "한식/한정식     218\n",
       "해산물/생선     151\n",
       "외국음식       136\n",
       "분식         100\n",
       "육류/고기       73\n",
       "돼지고기구이      62\n",
       "베이커리        55\n",
       "국밥/탕        43\n",
       "술집/주류       23\n",
       "향토음식        23\n",
       "패스트푸드       19\n",
       "패밀리레스토랑     11\n",
       "뷔페           8\n",
       "소고기구이        5\n",
       "테마카페         3\n",
       "24시국밥/탕      2\n",
       "Name: category, dtype: int64"
      ]
     },
     "execution_count": 103,
     "metadata": {},
     "output_type": "execute_result"
    }
   ],
   "source": [
    "fb_dat['category'].value_counts()"
   ]
  },
  {
   "cell_type": "markdown",
   "id": "c83f2028",
   "metadata": {},
   "source": [
    "### 6-(2) 중분류 평균으로 탄소배출 NA 대체"
   ]
  },
  {
   "cell_type": "code",
   "execution_count": 104,
   "id": "95469001",
   "metadata": {
    "scrolled": true
   },
   "outputs": [
    {
     "data": {
      "text/html": [
       "<div>\n",
       "<style scoped>\n",
       "    .dataframe tbody tr th:only-of-type {\n",
       "        vertical-align: middle;\n",
       "    }\n",
       "\n",
       "    .dataframe tbody tr th {\n",
       "        vertical-align: top;\n",
       "    }\n",
       "\n",
       "    .dataframe thead th {\n",
       "        text-align: right;\n",
       "    }\n",
       "</style>\n",
       "<table border=\"1\" class=\"dataframe\">\n",
       "  <thead>\n",
       "    <tr style=\"text-align: right;\">\n",
       "      <th></th>\n",
       "      <th>category</th>\n",
       "      <th>co2_max</th>\n",
       "    </tr>\n",
       "  </thead>\n",
       "  <tbody>\n",
       "    <tr>\n",
       "      <th>5</th>\n",
       "      <td>뷔페</td>\n",
       "      <td>5.938728</td>\n",
       "    </tr>\n",
       "    <tr>\n",
       "      <th>6</th>\n",
       "      <td>소고기구이</td>\n",
       "      <td>0.923307</td>\n",
       "    </tr>\n",
       "    <tr>\n",
       "      <th>11</th>\n",
       "      <td>테마카페</td>\n",
       "      <td>0.606763</td>\n",
       "    </tr>\n",
       "    <tr>\n",
       "      <th>3</th>\n",
       "      <td>베이커리</td>\n",
       "      <td>0.543075</td>\n",
       "    </tr>\n",
       "    <tr>\n",
       "      <th>7</th>\n",
       "      <td>술집/주류</td>\n",
       "      <td>0.540572</td>\n",
       "    </tr>\n",
       "    <tr>\n",
       "      <th>12</th>\n",
       "      <td>패밀리레스토랑</td>\n",
       "      <td>0.454112</td>\n",
       "    </tr>\n",
       "    <tr>\n",
       "      <th>0</th>\n",
       "      <td>24시국밥/탕</td>\n",
       "      <td>0.402918</td>\n",
       "    </tr>\n",
       "    <tr>\n",
       "      <th>2</th>\n",
       "      <td>돼지고기구이</td>\n",
       "      <td>0.337410</td>\n",
       "    </tr>\n",
       "    <tr>\n",
       "      <th>13</th>\n",
       "      <td>패스트푸드</td>\n",
       "      <td>0.304597</td>\n",
       "    </tr>\n",
       "    <tr>\n",
       "      <th>8</th>\n",
       "      <td>외국음식</td>\n",
       "      <td>0.289272</td>\n",
       "    </tr>\n",
       "    <tr>\n",
       "      <th>1</th>\n",
       "      <td>국밥/탕</td>\n",
       "      <td>0.170816</td>\n",
       "    </tr>\n",
       "    <tr>\n",
       "      <th>9</th>\n",
       "      <td>육류/고기</td>\n",
       "      <td>0.167158</td>\n",
       "    </tr>\n",
       "    <tr>\n",
       "      <th>14</th>\n",
       "      <td>한식/한정식</td>\n",
       "      <td>0.155500</td>\n",
       "    </tr>\n",
       "    <tr>\n",
       "      <th>16</th>\n",
       "      <td>향토음식</td>\n",
       "      <td>0.154380</td>\n",
       "    </tr>\n",
       "    <tr>\n",
       "      <th>10</th>\n",
       "      <td>카페/디저트</td>\n",
       "      <td>0.151180</td>\n",
       "    </tr>\n",
       "    <tr>\n",
       "      <th>4</th>\n",
       "      <td>분식</td>\n",
       "      <td>0.137936</td>\n",
       "    </tr>\n",
       "    <tr>\n",
       "      <th>15</th>\n",
       "      <td>해산물/생선</td>\n",
       "      <td>0.133020</td>\n",
       "    </tr>\n",
       "  </tbody>\n",
       "</table>\n",
       "</div>"
      ],
      "text/plain": [
       "   category   co2_max\n",
       "5        뷔페  5.938728\n",
       "6     소고기구이  0.923307\n",
       "11     테마카페  0.606763\n",
       "3      베이커리  0.543075\n",
       "7     술집/주류  0.540572\n",
       "12  패밀리레스토랑  0.454112\n",
       "0   24시국밥/탕  0.402918\n",
       "2    돼지고기구이  0.337410\n",
       "13    패스트푸드  0.304597\n",
       "8      외국음식  0.289272\n",
       "1      국밥/탕  0.170816\n",
       "9     육류/고기  0.167158\n",
       "14   한식/한정식  0.155500\n",
       "16     향토음식  0.154380\n",
       "10   카페/디저트  0.151180\n",
       "4        분식  0.137936\n",
       "15   해산물/생선  0.133020"
      ]
     },
     "execution_count": 104,
     "metadata": {},
     "output_type": "execute_result"
    }
   ],
   "source": [
    "# 중분류 카테고리 평균 탄소배출량 계산\n",
    "cat_co2_mean = fb_dat[-fb_dat.co2_max.isnull()]['co2_max'].groupby(fb_dat['category']).mean().to_frame().reset_index()\n",
    "cat_co2_mean.sort_values(by=['co2_max'], axis=0, ascending=False)"
   ]
  },
  {
   "cell_type": "code",
   "execution_count": 105,
   "id": "cba66f92",
   "metadata": {},
   "outputs": [],
   "source": [
    "for i in fb_dat[fb_dat['co2_max'].isna()].index:\n",
    "    for j in range(len(cat_co2_mean)):\n",
    "        if fb_dat['category'][i] == cat_co2_mean['category'][j]:\n",
    "            fb_dat['co2_max'][i] = cat_co2_mean['co2_max'][j]"
   ]
  },
  {
   "cell_type": "code",
   "execution_count": 106,
   "id": "da6dc63a",
   "metadata": {},
   "outputs": [],
   "source": [
    "#fb_dat.to_csv('F&B데이터_final.csv', encoding='utf-8-sig', index=False)"
   ]
  },
  {
   "cell_type": "markdown",
   "id": "ba47df67",
   "metadata": {},
   "source": [
    "### 6-(3) 음식별 탄소배출량 데이터셋 만들기\n",
    "\n",
    "참고할 수 있는 메뉴별 식재료별 탄소배출량 데이터 구하기 어려움  \n",
    "모든 메뉴와 식재료별 탄소배출량 데이터가 모두 있는 것이 아니며, 식당별로 어떤 메뉴를 파는지 전부 파악 불가\n",
    "\n",
    "=> 중분류 카테고리의 대표 메뉴별 (구할 수 있는) 탄소배출량 데이터를 통해 대체하고자 함! \n",
    "여러개의 업종을 하나의 중분류로 묶고, 중분류별 대표 메뉴를 선정하는데는 분석자의 주관이 많이 들어갈 수 밖에 없지만 참고,사용 가능한 데이터가 매우 부족한 상태에서 최대한 합리적으로 음식별 탄소배출량이라는 필요한 정보를 만들기 위한 고민 끝에 음식별 탄소배출량 변수 생성  \n",
    "(향후 식재료 혹은 음식 별 탄소배출량을 계산하는 DB가 구축되고 활성화된다면 더욱 정교한 탄소배출량 계산이 가능할 것으로 예상)"
   ]
  },
  {
   "cell_type": "code",
   "execution_count": 107,
   "id": "dd59e162",
   "metadata": {
    "scrolled": false
   },
   "outputs": [],
   "source": [
    "#fb_data = pd.read_csv(\"F&B데이터_final.csv\")"
   ]
  },
  {
   "cell_type": "code",
   "execution_count": 108,
   "id": "343ac1d3",
   "metadata": {},
   "outputs": [],
   "source": [
    "category_list = fb_dat['category'].unique()"
   ]
  },
  {
   "cell_type": "markdown",
   "id": "c308dc82",
   "metadata": {},
   "source": [
    "<한끼밥상 탄소계산기 1인분 기준>\n",
    "\n",
    "**볼드처리된 부분은 한끼밥상 내 음식으로 대체 불가한 메뉴의 평균 탄소배출량을 찾아 1인분 단위로 계산**  \n",
    "    -> FOOD ITEM 데이터를 기준으로 1파운드를 kg단위로 환산 후 1인분으로 계산\n",
    "    -> https://www.healabel.com/pasta-benefits-side-effects/ 에서 파스타, 피자, 카레, 초밥의 1인분 탄소배출량 데이터 확보\n",
    "1. 소고기구이 :  7.7kgCO2e\n",
    "2. 돼지고기구이 : 2kgCO2e\n",
    "3. 육류/고기 : 닭볶음 1.6kgCO2e \n",
    "4. 국밥/탕, 24시국밥/탕 : 갈비탕 5kgCO2e, 설렁탕 10kgCO2e, 곰탕 9.7kgCO2e\n",
    "5. 한식/한정식 : 밥 0.5kgCO2e, 불고기비빔밥 1.4kgCO2e 된장국 0.9kgCO2e 소고기뭇국 7.7kgCO2e 김치찌개 2.3kgCO2e 북엇국 1.1kgCO2e\n",
    "6. 향토음식 : 해물칼국수 0.4kgCO2e, 국수장국 1.8kgCO2e 고등어구이 0.3kgCO2e 비빔국수 1.3kgCO2e \n",
    "7. 분식 : 김밥 0.4kgCO2e 해물칼국수 0.4kgCO2e 가래떡 0.1kgCO2e 어묵 0 감자전 0.4 비빔냉면 1.1 \n",
    "8. 해산물/생선 : 고등어구이 0.3kgCO2e 생태찌개 2.9kgCO2e 생선회 0kgCO2e (해초무침이 0 인 것 고려하여 생선회도 0으로 예측) *생선은 탄소배출량 적다!*\n",
    "9. 카페/디저트, 베이커리, 테마카페 : 에스프레스 0.3kgCO2e 라떼 0.6kgCO2e + **빵의 평균 탄소배출량(빵 0.073/1파운드, 케이크 0.564/1파운드, 패스츄리 0.874/1파운드)** *(빵은 100g당 1인분으로 계산 모닝빵 기준)*\n",
    "10. 패스트푸드 : 피자 2kgCO2e, 햄버거 3.7kgCO2e 치킨 2.1kgCO2e \n",
    "11. 술집주류 : 한정식/향토음식/분식/해산물,생선의 평균 + **술의 평균 탄소배출량(0.45/1파운드)** *(맥주기준 500g(500cc) 1인분으로 계산)*\n",
    "12. 패밀리 레스토랑, 외국음식 : **파스타 1.24kgCO2e, 카레 1.6kgCO2e, 피자 2kgCO2e, 초밥 1.36kgCO2e** \n",
    "13. 뷔페 - 한정식,분식,외국음식의 평균\n",
    "\n"
   ]
  },
  {
   "cell_type": "markdown",
   "id": "7f07356b",
   "metadata": {},
   "source": []
  },
  {
   "cell_type": "code",
   "execution_count": 109,
   "id": "20967b02",
   "metadata": {},
   "outputs": [
    {
     "data": {
      "text/plain": [
       "1.1125827814569536"
      ]
     },
     "execution_count": 109,
     "metadata": {},
     "output_type": "execute_result"
    }
   ],
   "source": [
    "# 빵 1kg당 평균 co2 \n",
    "(0.074+0.564+0.874)/3/0.453"
   ]
  },
  {
   "cell_type": "code",
   "execution_count": 110,
   "id": "54a9929c",
   "metadata": {},
   "outputs": [
    {
     "data": {
      "text/plain": [
       "0.9933774834437086"
      ]
     },
     "execution_count": 110,
     "metadata": {},
     "output_type": "execute_result"
    }
   ],
   "source": [
    "# 맥주 1kg당 평균 co2\n",
    "0.45/0.453"
   ]
  },
  {
   "cell_type": "code",
   "execution_count": 111,
   "id": "edcb94cc",
   "metadata": {},
   "outputs": [],
   "source": [
    "# 카테고리별 탄소배출량 계산\n",
    "food_co2_dict = {'소고기구이': 7.7,\n",
    "                 '돼지고기구이':2,\n",
    "                 '육류/고기':1.6,\n",
    "                 '국밥/탕': np.mean([5, 10, 9.7]),\n",
    "                 '24시국밥/탕':np.mean([5, 10, 9,7]),\n",
    "                 '한식/한정식': np.mean([0.5, 1.4, 0.9, 7.7, 2.3, 1.1]),\n",
    "                 '향토음식': np.mean([0.4, 1.8, 0.3, 1.3]),\n",
    "                 '분식' : np.mean([0.4, 0.4, 0.1, 0.4, 1.1]),\n",
    "                 '해산물/생선' : np.mean([0.3, 2.9, 0]),\n",
    "                 '테마카페' : np.mean([0.3, 0.6, 1.112]),\n",
    "                 '카페/디저트' : np.mean([0.3, 0.6, 1.1118/10]), # 빵 100g기준\n",
    "                 '베이커리': np.mean([0.3, 0.6, 1.112]),\n",
    "                 '패스트푸드': np.mean([2, 3.7, 2.1]),\n",
    "                 '술집/주류': np.mean([np.mean([0.5, 1.4, 0.9, 7.7, 2.3, 1.1]),\n",
    "                                  np.mean([0.4, 1.8, 0.3, 1.3]),\n",
    "                                  np.mean([0.4, 0.4, 0.1, 0, 0.4, 0.3]),\n",
    "                                  np.mean([0.3, 2.9, 0])]) + 0.9934/2,  # 맥주 500l기준\n",
    "                 '패밀리레스토랑': np.mean([1.24, 1.6, 2, 1.36]),\n",
    "                 '외국음식' : np.mean([1.24, 1.6, 2, 1.36]),\n",
    "                 '뷔페' : np.mean([np.mean([0.5, 1.4, 0.9, 7.7, 2.3, 1.1]),np.mean([0.4, 0.4, 0.1, 0, 0.4, 0.3]),\n",
    "                               np.mean([1.24, 1.6, 2, 1.36])])\n",
    "                }"
   ]
  },
  {
   "cell_type": "code",
   "execution_count": 112,
   "id": "415542cd",
   "metadata": {},
   "outputs": [],
   "source": [
    "# 음식별 탄소배출량 변수 생성\n",
    "fb_dat['food_co2'] = ''\n",
    "fb_dat['food_co2'] = [food_co2_dict[cat] for cat in fb_dat['category']]"
   ]
  },
  {
   "cell_type": "code",
   "execution_count": 113,
   "id": "2026b9d9",
   "metadata": {
    "scrolled": true
   },
   "outputs": [
    {
     "data": {
      "text/html": [
       "<div>\n",
       "<style scoped>\n",
       "    .dataframe tbody tr th:only-of-type {\n",
       "        vertical-align: middle;\n",
       "    }\n",
       "\n",
       "    .dataframe tbody tr th {\n",
       "        vertical-align: top;\n",
       "    }\n",
       "\n",
       "    .dataframe thead th {\n",
       "        text-align: right;\n",
       "    }\n",
       "</style>\n",
       "<table border=\"1\" class=\"dataframe\">\n",
       "  <thead>\n",
       "    <tr style=\"text-align: right;\">\n",
       "      <th></th>\n",
       "      <th>category</th>\n",
       "      <th>food_co2</th>\n",
       "    </tr>\n",
       "  </thead>\n",
       "  <tbody>\n",
       "    <tr>\n",
       "      <th>1</th>\n",
       "      <td>국밥/탕</td>\n",
       "      <td>8.233333</td>\n",
       "    </tr>\n",
       "    <tr>\n",
       "      <th>0</th>\n",
       "      <td>24시국밥/탕</td>\n",
       "      <td>7.750000</td>\n",
       "    </tr>\n",
       "    <tr>\n",
       "      <th>6</th>\n",
       "      <td>소고기구이</td>\n",
       "      <td>7.700000</td>\n",
       "    </tr>\n",
       "    <tr>\n",
       "      <th>13</th>\n",
       "      <td>패스트푸드</td>\n",
       "      <td>2.600000</td>\n",
       "    </tr>\n",
       "    <tr>\n",
       "      <th>14</th>\n",
       "      <td>한식/한정식</td>\n",
       "      <td>2.316667</td>\n",
       "    </tr>\n",
       "    <tr>\n",
       "      <th>2</th>\n",
       "      <td>돼지고기구이</td>\n",
       "      <td>2.000000</td>\n",
       "    </tr>\n",
       "    <tr>\n",
       "      <th>7</th>\n",
       "      <td>술집/주류</td>\n",
       "      <td>1.646700</td>\n",
       "    </tr>\n",
       "    <tr>\n",
       "      <th>9</th>\n",
       "      <td>육류/고기</td>\n",
       "      <td>1.600000</td>\n",
       "    </tr>\n",
       "    <tr>\n",
       "      <th>8</th>\n",
       "      <td>외국음식</td>\n",
       "      <td>1.550000</td>\n",
       "    </tr>\n",
       "    <tr>\n",
       "      <th>12</th>\n",
       "      <td>패밀리레스토랑</td>\n",
       "      <td>1.550000</td>\n",
       "    </tr>\n",
       "    <tr>\n",
       "      <th>5</th>\n",
       "      <td>뷔페</td>\n",
       "      <td>1.377778</td>\n",
       "    </tr>\n",
       "    <tr>\n",
       "      <th>15</th>\n",
       "      <td>해산물/생선</td>\n",
       "      <td>1.066667</td>\n",
       "    </tr>\n",
       "    <tr>\n",
       "      <th>16</th>\n",
       "      <td>향토음식</td>\n",
       "      <td>0.950000</td>\n",
       "    </tr>\n",
       "    <tr>\n",
       "      <th>3</th>\n",
       "      <td>베이커리</td>\n",
       "      <td>0.670667</td>\n",
       "    </tr>\n",
       "    <tr>\n",
       "      <th>11</th>\n",
       "      <td>테마카페</td>\n",
       "      <td>0.670667</td>\n",
       "    </tr>\n",
       "    <tr>\n",
       "      <th>4</th>\n",
       "      <td>분식</td>\n",
       "      <td>0.480000</td>\n",
       "    </tr>\n",
       "    <tr>\n",
       "      <th>10</th>\n",
       "      <td>카페/디저트</td>\n",
       "      <td>0.337060</td>\n",
       "    </tr>\n",
       "  </tbody>\n",
       "</table>\n",
       "</div>"
      ],
      "text/plain": [
       "   category  food_co2\n",
       "1      국밥/탕  8.233333\n",
       "0   24시국밥/탕  7.750000\n",
       "6     소고기구이  7.700000\n",
       "13    패스트푸드  2.600000\n",
       "14   한식/한정식  2.316667\n",
       "2    돼지고기구이  2.000000\n",
       "7     술집/주류  1.646700\n",
       "9     육류/고기  1.600000\n",
       "8      외국음식  1.550000\n",
       "12  패밀리레스토랑  1.550000\n",
       "5        뷔페  1.377778\n",
       "15   해산물/생선  1.066667\n",
       "16     향토음식  0.950000\n",
       "3      베이커리  0.670667\n",
       "11     테마카페  0.670667\n",
       "4        분식  0.480000\n",
       "10   카페/디저트  0.337060"
      ]
     },
     "execution_count": 113,
     "metadata": {},
     "output_type": "execute_result"
    }
   ],
   "source": [
    "fb_dat['food_co2'].groupby(fb_dat['category']).mean().to_frame().reset_index().sort_values('food_co2', ascending=False)"
   ]
  },
  {
   "cell_type": "code",
   "execution_count": 114,
   "id": "fddbdb9b",
   "metadata": {},
   "outputs": [],
   "source": [
    "fb_dat.to_csv('data/F&B데이터_co2_final.csv', encoding='utf-8-sig', index=False)"
   ]
  },
  {
   "cell_type": "code",
   "execution_count": null,
   "id": "76b94638",
   "metadata": {},
   "outputs": [],
   "source": []
  },
  {
   "cell_type": "code",
   "execution_count": null,
   "id": "9fd2e877",
   "metadata": {},
   "outputs": [],
   "source": []
  }
 ],
 "metadata": {
  "hide_input": false,
  "kernelspec": {
   "display_name": "Python 3",
   "language": "python",
   "name": "python3"
  },
  "language_info": {
   "codemirror_mode": {
    "name": "ipython",
    "version": 3
   },
   "file_extension": ".py",
   "mimetype": "text/x-python",
   "name": "python",
   "nbconvert_exporter": "python",
   "pygments_lexer": "ipython3",
   "version": "3.9.4"
  }
 },
 "nbformat": 4,
 "nbformat_minor": 5
}
