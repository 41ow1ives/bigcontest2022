{
 "cells": [
  {
   "cell_type": "code",
   "execution_count": 87,
   "metadata": {
    "pycharm": {
     "name": "#%%\n"
    }
   },
   "outputs": [],
   "source": [
    "import time\n",
    "from tqdm import tqdm\n",
    "import pandas as pd\n",
    "from selenium import webdriver\n",
    "import warnings"
   ]
  },
  {
   "cell_type": "code",
   "execution_count": 89,
   "metadata": {
    "pycharm": {
     "name": "#%%\n"
    }
   },
   "outputs": [],
   "source": [
    "warnings.filterwarnings('ignore')"
   ]
  },
  {
   "cell_type": "markdown",
   "metadata": {
    "pycharm": {
     "name": "#%% md\n"
    }
   },
   "source": [
    "# 1. TRIPADVISOR 크롤링 "
   ]
  },
  {
   "cell_type": "code",
   "execution_count": null,
   "metadata": {
    "pycharm": {
     "name": "#%%\n"
    }
   },
   "outputs": [],
   "source": [
    "base_url = \"https://www.tripadvisor.co.kr/Restaurants-g983296-Jeju_Jeju_Island.html\"\n",
    "driver = webdriver.Chrome(executable_path='D:\\Python_417\\chromedriver')\n",
    "driver.get(url=base_url)\n",
    "\n",
    "\n",
    "def ta_first_step(raw_food, food_list, link_list):\n",
    "    for food in raw_food:\n",
    "        food_list.append(food.get_text())\n",
    "        link_list.append(food['href'])\n",
    "    return food_list, link_list"
   ]
  },
  {
   "cell_type": "code",
   "execution_count": null,
   "metadata": {
    "pycharm": {
     "name": "#%%\n"
    }
   },
   "outputs": [],
   "source": [
    "driver.find_element_by_css_selector('a.nav.next.rndBtn.ui_button.primary.taLnk').click()\n",
    "page_num = (2887 // 30) + 1;\n",
    "page_num\n",
    "food_list, link_list = [], []\n",
    "for page in range(page_num):\n",
    "    html = driver.page_source\n",
    "    soup = BeautifulSoup(html, 'html.parser')\n",
    "    raw_food = soup.select('a.Lwqic.Cj.b')\n",
    "    food_list, link_list = ta_first_step(driver, food_list, link_list)\n",
    "    driver.find_element_by_css_selector('a.nav.next.rndBtn.ui_button.primary.taLnk').click()\n",
    "    time.sleep(3)\n",
    "final_df = pd.DataFrame()\n",
    "final_df['name'] = food_list\n",
    "final_df['link'] = link_list\n",
    "final_df = final_df.drop_duplicates();\n",
    "final_df"
   ]
  },
  {
   "cell_type": "code",
   "execution_count": null,
   "metadata": {
    "pycharm": {
     "name": "#%%\n"
    }
   },
   "outputs": [],
   "source": [
    "def ta_second_step(soup, star_list, numreview_list, address_list, telephone_list, food_star_list, service_star_list,\n",
    "                   price_star_list, price_list, menu_type_list):\n",
    "    try:\n",
    "        star = soup.select('span.ZDEqb')[0].get_text().strip()\n",
    "    except:\n",
    "        star = 'empty'\n",
    "    try:\n",
    "        numreview = soup.select('div.QEQvp > a.IcelI')[0].get_text()[:-5]\n",
    "    except:\n",
    "        numreview = 'empty'\n",
    "    try:\n",
    "        address = soup.select('span.DsyBj.cNFrA > span > a')[0].get_text()\n",
    "    except:\n",
    "        address = 'empty'\n",
    "    try:\n",
    "        telephone = soup.select('span.DsyBj.cNFrA > span > span.AYHFM > a')[0]['href']\n",
    "    except:\n",
    "        telephone = 'empty'\n",
    "    # 각각의 평점\n",
    "    try:\n",
    "        food_star = soup.select('div.YDAvY.R2.F1.e.k > div > div > div.DzMcu > span.vzATR > span')[0]['class'][1][\n",
    "                    7:]  # 음식\n",
    "        service_star = soup.select('div.YDAvY.R2.F1.e.k > div > div > div.DzMcu > span.vzATR > span')[1]['class'][1][\n",
    "                       7:]  # 서비스\n",
    "        price_star = soup.select('div.YDAvY.R2.F1.e.k > div > div > div.DzMcu > span.vzATR > span')[2]['class'][1][\n",
    "                     7:]  # 가격\n",
    "    except:\n",
    "        food_star, service_star, price_star = ['empty'] * 3\n",
    "    try:\n",
    "        if soup.select('div.tbUiL.b')[0].get_text() == '가격대':\n",
    "            price = soup.select('div.SrqKb')[0].get_text()\n",
    "            menu_type = soup.select('div.SrqKb')[1].get_text()\n",
    "        elif soup.select('div.tbUiL.b')[0].get_text() == '요리':\n",
    "            price = 'empty'\n",
    "            menu_type = soup.select('div.SrqKb')[0].get_text()\n",
    "        else:\n",
    "            price, menu_type = ['empty'] * 2\n",
    "    except:\n",
    "        price, menu_type = ['empty'] * 2\n",
    "    star_list.append(star)\n",
    "    numreview_list.append(numreview)\n",
    "    address_list.append(address)\n",
    "    telephone_list.append(telephone)\n",
    "    food_star_list.append(food_star)\n",
    "    service_star_list.append(service_star)\n",
    "    price_star_list.append(price_star)\n",
    "    price_list.append(price)\n",
    "    menu_type_list.append(menu_type)\n",
    "    return star_list, numreview_list, address_list, telephone_list, food_star_list, service_star_list, price_star_list, price_list, menu_type_list"
   ]
  },
  {
   "cell_type": "code",
   "execution_count": null,
   "metadata": {
    "pycharm": {
     "name": "#%%\n"
    }
   },
   "outputs": [],
   "source": [
    "star_list, numreview_list, address_list, telephone_list, food_star_list, service_star_list, price_star_list, price_list, menu_type_list = [], [], [], [], [], [], [], [], []\n",
    "for link in final_df.link:\n",
    "    driver.get(url=f'https://www.tripadvisor.co.kr{link}')\n",
    "    time.sleep(3)\n",
    "    html = driver.page_source\n",
    "    soup = BeautifulSoup(html, 'html.parser')\n",
    "    star_list, numreview_list, address_list, telephone_list, food_star_list, service_star_list, price_star_list, price_list, menu_type_list = ta_second_step(\n",
    "        soup, star_list, numreview_list, address_list, telephone_list, food_star_list, service_star_list,\n",
    "        price_star_list, price_list, menu_type_list)\n"
   ]
  },
  {
   "cell_type": "code",
   "execution_count": null,
   "metadata": {
    "pycharm": {
     "name": "#%%\n"
    }
   },
   "outputs": [],
   "source": [
    "final_df['star'] = star_list\n",
    "final_df['numreview'] = numreview_list\n",
    "final_df['address'] = address_list\n",
    "final_df['telephone'] = telephone_list\n",
    "final_df['food_star'] = food_star_list\n",
    "final_df['service_star'] = service_star_list\n",
    "final_df['price_star'] = price_star_list\n",
    "final_df['price'] = price_list\n",
    "final_df['menu_type'] = menu_type_list\n",
    "final_df.to_csv('TRIPADVISOR_식당크롤링.csv', encoding='utf-8-sig', index=False)"
   ]
  },
  {
   "cell_type": "code",
   "execution_count": null,
   "metadata": {
    "pycharm": {
     "name": "#%%\n"
    }
   },
   "outputs": [],
   "source": [
    "def ta_hotel_step(raw_hotel, raw_price, hotel_list, link_list):\n",
    "    for hotel, price in zip(raw_hotel, raw_price):\n",
    "        hotel_list.append(hotel.select('a')[0].get_text().strip())\n",
    "        link_list.append(hotel.select('a')[0]['href'])\n",
    "        try:\n",
    "            price_list.append(price.get_text())\n",
    "        except:\n",
    "            price_list.append('empty')\n",
    "    return hotel_list, link_list, price_list"
   ]
  },
  {
   "cell_type": "code",
   "execution_count": null,
   "metadata": {
    "pycharm": {
     "name": "#%%\n"
    }
   },
   "outputs": [],
   "source": [
    "page_num = 2048 // 30 + 1\n",
    "hotel_list, link_list, price_list = [], [], []\n",
    "for page in tqdm(range(page_num)):\n",
    "    driver.implicitly_wait(30)\n",
    "    html = driver.page_source\n",
    "    soup = BeautifulSoup(html, 'html.parser')\n",
    "    raw_hotel = soup.select('div.listing-title')\n",
    "    raw_price = soup.select('div.price-wrap > div.price.__resizeWatch')\n",
    "    hotel_list, link_list, price_list = ta_hotel_step(raw_hotel, raw_price, hotel_list, link_list)\n",
    "    last_height = driver.execute_script('return document.body.scrollHeight')\n",
    "    while True:\n",
    "        driver.execute_script('window.scrollTo(0,document.body.scrollheight);')\n",
    "        time.sleep(2)\n",
    "        new_height = driver.execute_script('return document.body.scrollHeight')\n",
    "        if new_height == last_height:\n",
    "            break\n",
    "        last_height = new_height\n",
    "    driver.find_element_by_css_selector('a.nav.next.ui_button.primary').click()\n",
    "    time.sleep(5)\n"
   ]
  },
  {
   "cell_type": "code",
   "execution_count": null,
   "metadata": {
    "pycharm": {
     "name": "#%%\n"
    }
   },
   "outputs": [],
   "source": [
    "final_df = pd.DataFrame()\n",
    "final_df['name'] = hotel_list\n",
    "final_df['link'] = link_list\n",
    "final_df['price'] = price_list\n",
    "final_df = final_df.drop_duplicates().reset_index(drop=True)\n",
    "final_df.to_csv('TRIPADVISOR_숙소크롤링.csv', encoding='utf-8-sig', index=False)"
   ]
  },
  {
   "cell_type": "markdown",
   "metadata": {
    "pycharm": {
     "name": "#%% md\n"
    }
   },
   "source": [
    "# 2. MYREALTRIP 크롤링"
   ]
  },
  {
   "cell_type": "code",
   "execution_count": null,
   "metadata": {
    "pycharm": {
     "name": "#%%\n"
    }
   },
   "outputs": [],
   "source": [
    "base_url = \"https://www.myrealtrip.com/accommodations/stays/?place[place_type]=GEO&place[place_name]=%EC%A0%9C%EC%A3%BC%EB%8F%84&checkin=2022-10-04&checkout=2022-10-07&adult_count=3&order_by=WEIGHT_DESC&page[page]=1&page[size]=30&filter[min_price]=0&filter[max_price]=1000000&filter[star]=0&filter[only_dgm_promo]=false&filter[curation_type]=ALL\"\n",
    "driver = webdriver.Chrome(executable_path='D:\\Python_417\\chromedriver')\n",
    "driver.get(url=base_url)\n",
    "\n",
    "\n",
    "def mt_crawling(driver):\n",
    "    for link in driver.find_elements_by_css_selector('#Mrt3Stay > main > div > section > div > a'):\n",
    "        link_list.append(link.get_attribute('href'))\n",
    "\n",
    "    for name in driver.find_elements_by_css_selector(\n",
    "            '#Mrt3Stay > main > div > section > div > a > div.css-4tl1r5--ProductCard--Content.e9e97mf3 > h2'):\n",
    "        name_list.append(name.text)\n",
    "\n",
    "    for address in driver.find_elements_by_css_selector(\n",
    "            '#Mrt3Stay > main > div > section > div > a > div.css-4tl1r5--ProductCard--Content.e9e97mf3 > div.css-525l10--ProductCard--Infos.e9e97mf1 > p'):\n",
    "        address_list.append(address.text.split('・')[-1].strip())\n",
    "\n",
    "    for price in driver.find_elements_by_css_selector(\n",
    "            '#Mrt3Stay > main > div > section > div > a > div.css-4tl1r5--ProductCard--Content.e9e97mf3 > div.css-ck4a4o--ProductPrice--Container.e8oi5wt5 > div.stay-product-price-saleprice.css-bdcqse--ProductPrice--Wrapper.e8oi5wt4 > p.css-s4tmwy--ProductPrice--AveragePrice.e8oi5wt0'):\n",
    "        price_list.append(price.text.split('1박')[-1])\n",
    "\n",
    "    for star in driver.find_elements_by_css_selector(\n",
    "            '#Mrt3Stay > main > div > section > div> a > div.css-4tl1r5--ProductCard--Content.e9e97mf3 > div.css-525l10--ProductCard--Infos.e9e97mf1 > div'):\n",
    "        tmp = star.text.split('\\n')[0]\n",
    "        if len(tmp) == 1:\n",
    "            star_list.append('empty')\n",
    "            star_ppl_list.append('empty')\n",
    "        else:\n",
    "            star_list.append(tmp[0])\n",
    "            star_ppl_list.append(tmp[1])"
   ]
  },
  {
   "cell_type": "code",
   "execution_count": null,
   "metadata": {
    "pycharm": {
     "name": "#%%\n"
    }
   },
   "outputs": [],
   "source": [
    "num_page = (1025 // 30) + 1\n",
    "link_list, name_list, address_list, price_list, star_list, star_ppl_list = [], [], [], [], [], []\n",
    "for page in tqdm(range(num_page)):\n",
    "    mt_crawling(driver)\n",
    "    driver.find_element_by_css_selector(\n",
    "        '#Mrt3Stay > main > div > section > div.e9wuk890.css-f35ifk--ProductList--Pagination > div > li:nth-child(7) > button').click()\n",
    "    driver.implicitly_wait(10)\n",
    "    time.sleep(5)"
   ]
  },
  {
   "cell_type": "code",
   "execution_count": null,
   "metadata": {
    "pycharm": {
     "name": "#%%\n"
    }
   },
   "outputs": [],
   "source": [
    "myrealtrip = pd.DataFrame([link_list, name_list, address_list, price_list, star_list, star_ppl_list]).T\n",
    "myrealtrip.columns = ['link', 'name', 'address', 'price', 'star', 'star_ppl']\n",
    "myrealtrip['price'] = myrealtrip['price'].apply(lambda x: int(x.replace(',', '').replace(\"원\", \"\").strip()))\n",
    "myrealtrip['price'] = myrealtrip['price'].apply(lambda x: x * 3)\n",
    "myrealtrip.to_csv('MYREALTRIP_숙소크롤링.csv', encoding='utf-8-sig', index=False)"
   ]
  }
 ],
 "metadata": {
  "hide_input": false,
  "kernelspec": {
   "display_name": "Python 3",
   "language": "python",
   "name": "python3"
  },
  "language_info": {
   "codemirror_mode": {
    "name": "ipython",
    "version": 3
   },
   "file_extension": ".py",
   "mimetype": "text/x-python",
   "name": "python",
   "nbconvert_exporter": "python",
   "pygments_lexer": "ipython3",
   "version": "3.9.4"
  }
 },
 "nbformat": 4,
 "nbformat_minor": 1
}
